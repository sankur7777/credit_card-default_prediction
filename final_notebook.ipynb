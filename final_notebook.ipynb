{
 "cells": [
  {
   "cell_type": "markdown",
   "metadata": {},
   "source": [
    "# Credit Card Default Prediction"
   ]
  },
  {
   "source": [
    "![banner](./visualizations/banner.jpg)"
   ],
   "cell_type": "markdown",
   "metadata": {}
  },
  {
   "source": [
    "## Overview"
   ],
   "cell_type": "markdown",
   "metadata": {}
  },
  {
   "source": [
    "## Business Problem"
   ],
   "cell_type": "markdown",
   "metadata": {}
  },
  {
   "source": [
    "## Data & Methods"
   ],
   "cell_type": "markdown",
   "metadata": {}
  },
  {
   "cell_type": "code",
   "execution_count": 1,
   "metadata": {},
   "outputs": [],
   "source": [
    "# import libraries\n",
    "import pandas as pd\n",
    "pd.options.display.max_columns = 50\n",
    "import numpy as np\n",
    "import matplotlib.pyplot as plt\n",
    "import seaborn as sns\n",
    "%matplotlib inline\n",
    "import sklearn\n",
    "from sklearn.preprocessing import StandardScaler, binarize\n",
    "from sklearn.neighbors import KNeighborsClassifier\n",
    "from sklearn.linear_model import LogisticRegression\n",
    "from sklearn.tree import DecisionTreeClassifier\n",
    "from sklearn.ensemble import RandomForestClassifier\n",
    "# add import for Decision Treees\n",
    "from sklearn.feature_selection import RFECV, SelectKBest, f_regression\n",
    "import sklearn.metrics as metrics\n",
    "from sklearn.metrics import accuracy_score, precision_score, recall_score, f1_score, confusion_matrix, plot_confusion_matrix, roc_curve, auc, classification_report\n",
    "from sklearn.model_selection import train_test_split, cross_validate, cross_val_score, GridSearchCV\n",
    "import pickle"
   ]
  },
  {
   "cell_type": "markdown",
   "metadata": {},
   "source": [
    "## 1. Data Cleaning"
   ]
  },
  {
   "cell_type": "code",
   "execution_count": 2,
   "metadata": {},
   "outputs": [],
   "source": [
    "df = pd.read_csv('training_data.csv', index_col=0)\n",
    "# index_col=0 prevents generating that 'Unnamed:0' column"
   ]
  },
  {
   "cell_type": "code",
   "execution_count": 3,
   "metadata": {},
   "outputs": [
    {
     "output_type": "execute_result",
     "data": {
      "text/plain": [
       "           X1 X2 X3 X4  X5  X6  X7  X8  X9 X10 X11     X12     X13     X14  \\\n",
       "28835  220000  2  1  2  36   0   0   0   0   0   0  222598  222168  217900   \n",
       "25329  200000  2  3  2  29  -1  -1  -1  -1  -1  -1     326     326     326   \n",
       "18894  180000  2  1  2  27  -2  -2  -2  -2  -2  -2       0       0       0   \n",
       "690     80000  1  2  2  32   0   0   0   0   0   0   51372   51872   47593   \n",
       "6239    10000  1  2  2  27   0   0   0   0   0   0    8257    7995    4878   \n",
       "\n",
       "          X15     X16     X17    X18   X19    X20   X21    X22     X23  Y  \n",
       "28835  221193  181859  184605  10000  8018  10121  6006  10987  143779  1  \n",
       "25329     326     326     326    326   326    326   326    326     326  0  \n",
       "18894       0       0       0      0     0      0     0      0       0  0  \n",
       "690     43882   42256   42527   1853  1700   1522  1548   1488    1500  0  \n",
       "6239     5444    2639    2697   2000  1100    600   300    300    1000  1  "
      ],
      "text/html": "<div>\n<style scoped>\n    .dataframe tbody tr th:only-of-type {\n        vertical-align: middle;\n    }\n\n    .dataframe tbody tr th {\n        vertical-align: top;\n    }\n\n    .dataframe thead th {\n        text-align: right;\n    }\n</style>\n<table border=\"1\" class=\"dataframe\">\n  <thead>\n    <tr style=\"text-align: right;\">\n      <th></th>\n      <th>X1</th>\n      <th>X2</th>\n      <th>X3</th>\n      <th>X4</th>\n      <th>X5</th>\n      <th>X6</th>\n      <th>X7</th>\n      <th>X8</th>\n      <th>X9</th>\n      <th>X10</th>\n      <th>X11</th>\n      <th>X12</th>\n      <th>X13</th>\n      <th>X14</th>\n      <th>X15</th>\n      <th>X16</th>\n      <th>X17</th>\n      <th>X18</th>\n      <th>X19</th>\n      <th>X20</th>\n      <th>X21</th>\n      <th>X22</th>\n      <th>X23</th>\n      <th>Y</th>\n    </tr>\n  </thead>\n  <tbody>\n    <tr>\n      <th>28835</th>\n      <td>220000</td>\n      <td>2</td>\n      <td>1</td>\n      <td>2</td>\n      <td>36</td>\n      <td>0</td>\n      <td>0</td>\n      <td>0</td>\n      <td>0</td>\n      <td>0</td>\n      <td>0</td>\n      <td>222598</td>\n      <td>222168</td>\n      <td>217900</td>\n      <td>221193</td>\n      <td>181859</td>\n      <td>184605</td>\n      <td>10000</td>\n      <td>8018</td>\n      <td>10121</td>\n      <td>6006</td>\n      <td>10987</td>\n      <td>143779</td>\n      <td>1</td>\n    </tr>\n    <tr>\n      <th>25329</th>\n      <td>200000</td>\n      <td>2</td>\n      <td>3</td>\n      <td>2</td>\n      <td>29</td>\n      <td>-1</td>\n      <td>-1</td>\n      <td>-1</td>\n      <td>-1</td>\n      <td>-1</td>\n      <td>-1</td>\n      <td>326</td>\n      <td>326</td>\n      <td>326</td>\n      <td>326</td>\n      <td>326</td>\n      <td>326</td>\n      <td>326</td>\n      <td>326</td>\n      <td>326</td>\n      <td>326</td>\n      <td>326</td>\n      <td>326</td>\n      <td>0</td>\n    </tr>\n    <tr>\n      <th>18894</th>\n      <td>180000</td>\n      <td>2</td>\n      <td>1</td>\n      <td>2</td>\n      <td>27</td>\n      <td>-2</td>\n      <td>-2</td>\n      <td>-2</td>\n      <td>-2</td>\n      <td>-2</td>\n      <td>-2</td>\n      <td>0</td>\n      <td>0</td>\n      <td>0</td>\n      <td>0</td>\n      <td>0</td>\n      <td>0</td>\n      <td>0</td>\n      <td>0</td>\n      <td>0</td>\n      <td>0</td>\n      <td>0</td>\n      <td>0</td>\n      <td>0</td>\n    </tr>\n    <tr>\n      <th>690</th>\n      <td>80000</td>\n      <td>1</td>\n      <td>2</td>\n      <td>2</td>\n      <td>32</td>\n      <td>0</td>\n      <td>0</td>\n      <td>0</td>\n      <td>0</td>\n      <td>0</td>\n      <td>0</td>\n      <td>51372</td>\n      <td>51872</td>\n      <td>47593</td>\n      <td>43882</td>\n      <td>42256</td>\n      <td>42527</td>\n      <td>1853</td>\n      <td>1700</td>\n      <td>1522</td>\n      <td>1548</td>\n      <td>1488</td>\n      <td>1500</td>\n      <td>0</td>\n    </tr>\n    <tr>\n      <th>6239</th>\n      <td>10000</td>\n      <td>1</td>\n      <td>2</td>\n      <td>2</td>\n      <td>27</td>\n      <td>0</td>\n      <td>0</td>\n      <td>0</td>\n      <td>0</td>\n      <td>0</td>\n      <td>0</td>\n      <td>8257</td>\n      <td>7995</td>\n      <td>4878</td>\n      <td>5444</td>\n      <td>2639</td>\n      <td>2697</td>\n      <td>2000</td>\n      <td>1100</td>\n      <td>600</td>\n      <td>300</td>\n      <td>300</td>\n      <td>1000</td>\n      <td>1</td>\n    </tr>\n  </tbody>\n</table>\n</div>"
     },
     "metadata": {},
     "execution_count": 3
    }
   ],
   "source": [
    "df.head()"
   ]
  },
  {
   "source": [
    "The raw dataset comes with columns that are not easy to read. By using the research study's [legend](https://archive.ics.uci.edu/ml/datasets/default+of+credit+card+clients), we can replace these names with more descriptive ones."
   ],
   "cell_type": "markdown",
   "metadata": {}
  },
  {
   "cell_type": "code",
   "execution_count": 4,
   "metadata": {},
   "outputs": [],
   "source": [
    "# making dataframe mor readable by creating new column names\n",
    "rename_list = ['max_credit_given', 'gender', 'education', 'marital_status', 'age',\n",
    "'pay_status_sept', 'pay_status_aug', 'pay_status_july', 'pay_status_june', 'pay_status_may', 'pay_status_april', \n",
    "'bill_sept', 'bill_aug', 'bill_july', 'bill_june', 'bill_may', 'bill_april',\n",
    "'payment_sept', 'payment_aug', 'payment_jul', 'payment_jun', 'payment_may', 'payment_april', 'default']\n",
    "col_rename = dict(zip(df.columns,rename_list))\n",
    "df = df.rename(columns=col_rename)"
   ]
  },
  {
   "cell_type": "code",
   "execution_count": 5,
   "metadata": {},
   "outputs": [
    {
     "output_type": "execute_result",
     "data": {
      "text/plain": [
       "      max_credit_given gender education marital_status age pay_status_sept  \\\n",
       "28835           220000      2         1              2  36               0   \n",
       "25329           200000      2         3              2  29              -1   \n",
       "18894           180000      2         1              2  27              -2   \n",
       "690              80000      1         2              2  32               0   \n",
       "6239             10000      1         2              2  27               0   \n",
       "\n",
       "      pay_status_aug pay_status_july pay_status_june pay_status_may  \\\n",
       "28835              0               0               0              0   \n",
       "25329             -1              -1              -1             -1   \n",
       "18894             -2              -2              -2             -2   \n",
       "690                0               0               0              0   \n",
       "6239               0               0               0              0   \n",
       "\n",
       "      pay_status_april bill_sept bill_aug bill_july bill_june bill_may  \\\n",
       "28835                0    222598   222168    217900    221193   181859   \n",
       "25329               -1       326      326       326       326      326   \n",
       "18894               -2         0        0         0         0        0   \n",
       "690                  0     51372    51872     47593     43882    42256   \n",
       "6239                 0      8257     7995      4878      5444     2639   \n",
       "\n",
       "      bill_april payment_sep payment_aug payments_jul payment_jun payment_may  \\\n",
       "28835     184605       10000        8018        10121        6006       10987   \n",
       "25329        326         326         326          326         326         326   \n",
       "18894          0           0           0            0           0           0   \n",
       "690        42527        1853        1700         1522        1548        1488   \n",
       "6239        2697        2000        1100          600         300         300   \n",
       "\n",
       "      payment_april default  \n",
       "28835        143779       1  \n",
       "25329           326       0  \n",
       "18894             0       0  \n",
       "690            1500       0  \n",
       "6239           1000       1  "
      ],
      "text/html": "<div>\n<style scoped>\n    .dataframe tbody tr th:only-of-type {\n        vertical-align: middle;\n    }\n\n    .dataframe tbody tr th {\n        vertical-align: top;\n    }\n\n    .dataframe thead th {\n        text-align: right;\n    }\n</style>\n<table border=\"1\" class=\"dataframe\">\n  <thead>\n    <tr style=\"text-align: right;\">\n      <th></th>\n      <th>max_credit_given</th>\n      <th>gender</th>\n      <th>education</th>\n      <th>marital_status</th>\n      <th>age</th>\n      <th>pay_status_sept</th>\n      <th>pay_status_aug</th>\n      <th>pay_status_july</th>\n      <th>pay_status_june</th>\n      <th>pay_status_may</th>\n      <th>pay_status_april</th>\n      <th>bill_sept</th>\n      <th>bill_aug</th>\n      <th>bill_july</th>\n      <th>bill_june</th>\n      <th>bill_may</th>\n      <th>bill_april</th>\n      <th>payment_sep</th>\n      <th>payment_aug</th>\n      <th>payments_jul</th>\n      <th>payment_jun</th>\n      <th>payment_may</th>\n      <th>payment_april</th>\n      <th>default</th>\n    </tr>\n  </thead>\n  <tbody>\n    <tr>\n      <th>28835</th>\n      <td>220000</td>\n      <td>2</td>\n      <td>1</td>\n      <td>2</td>\n      <td>36</td>\n      <td>0</td>\n      <td>0</td>\n      <td>0</td>\n      <td>0</td>\n      <td>0</td>\n      <td>0</td>\n      <td>222598</td>\n      <td>222168</td>\n      <td>217900</td>\n      <td>221193</td>\n      <td>181859</td>\n      <td>184605</td>\n      <td>10000</td>\n      <td>8018</td>\n      <td>10121</td>\n      <td>6006</td>\n      <td>10987</td>\n      <td>143779</td>\n      <td>1</td>\n    </tr>\n    <tr>\n      <th>25329</th>\n      <td>200000</td>\n      <td>2</td>\n      <td>3</td>\n      <td>2</td>\n      <td>29</td>\n      <td>-1</td>\n      <td>-1</td>\n      <td>-1</td>\n      <td>-1</td>\n      <td>-1</td>\n      <td>-1</td>\n      <td>326</td>\n      <td>326</td>\n      <td>326</td>\n      <td>326</td>\n      <td>326</td>\n      <td>326</td>\n      <td>326</td>\n      <td>326</td>\n      <td>326</td>\n      <td>326</td>\n      <td>326</td>\n      <td>326</td>\n      <td>0</td>\n    </tr>\n    <tr>\n      <th>18894</th>\n      <td>180000</td>\n      <td>2</td>\n      <td>1</td>\n      <td>2</td>\n      <td>27</td>\n      <td>-2</td>\n      <td>-2</td>\n      <td>-2</td>\n      <td>-2</td>\n      <td>-2</td>\n      <td>-2</td>\n      <td>0</td>\n      <td>0</td>\n      <td>0</td>\n      <td>0</td>\n      <td>0</td>\n      <td>0</td>\n      <td>0</td>\n      <td>0</td>\n      <td>0</td>\n      <td>0</td>\n      <td>0</td>\n      <td>0</td>\n      <td>0</td>\n    </tr>\n    <tr>\n      <th>690</th>\n      <td>80000</td>\n      <td>1</td>\n      <td>2</td>\n      <td>2</td>\n      <td>32</td>\n      <td>0</td>\n      <td>0</td>\n      <td>0</td>\n      <td>0</td>\n      <td>0</td>\n      <td>0</td>\n      <td>51372</td>\n      <td>51872</td>\n      <td>47593</td>\n      <td>43882</td>\n      <td>42256</td>\n      <td>42527</td>\n      <td>1853</td>\n      <td>1700</td>\n      <td>1522</td>\n      <td>1548</td>\n      <td>1488</td>\n      <td>1500</td>\n      <td>0</td>\n    </tr>\n    <tr>\n      <th>6239</th>\n      <td>10000</td>\n      <td>1</td>\n      <td>2</td>\n      <td>2</td>\n      <td>27</td>\n      <td>0</td>\n      <td>0</td>\n      <td>0</td>\n      <td>0</td>\n      <td>0</td>\n      <td>0</td>\n      <td>8257</td>\n      <td>7995</td>\n      <td>4878</td>\n      <td>5444</td>\n      <td>2639</td>\n      <td>2697</td>\n      <td>2000</td>\n      <td>1100</td>\n      <td>600</td>\n      <td>300</td>\n      <td>300</td>\n      <td>1000</td>\n      <td>1</td>\n    </tr>\n  </tbody>\n</table>\n</div>"
     },
     "metadata": {},
     "execution_count": 5
    }
   ],
   "source": [
    "# checking that it worked\n",
    "df.head()"
   ]
  },
  {
   "cell_type": "code",
   "execution_count": 6,
   "metadata": {},
   "outputs": [
    {
     "output_type": "execute_result",
     "data": {
      "text/plain": [
       "max_credit_given                     LIMIT_BAL\n",
       "gender                                     SEX\n",
       "education                            EDUCATION\n",
       "marital_status                        MARRIAGE\n",
       "age                                        AGE\n",
       "pay_status_sept                          PAY_0\n",
       "pay_status_aug                           PAY_2\n",
       "pay_status_july                          PAY_3\n",
       "pay_status_june                          PAY_4\n",
       "pay_status_may                           PAY_5\n",
       "pay_status_april                         PAY_6\n",
       "bill_sept                            BILL_AMT1\n",
       "bill_aug                             BILL_AMT2\n",
       "bill_july                            BILL_AMT3\n",
       "bill_june                            BILL_AMT4\n",
       "bill_may                             BILL_AMT5\n",
       "bill_april                           BILL_AMT6\n",
       "payment_sep                           PAY_AMT1\n",
       "payment_aug                           PAY_AMT2\n",
       "payments_jul                          PAY_AMT3\n",
       "payment_jun                           PAY_AMT4\n",
       "payment_may                           PAY_AMT5\n",
       "payment_april                         PAY_AMT6\n",
       "default             default payment next month\n",
       "Name: ID, dtype: object"
      ]
     },
     "metadata": {},
     "execution_count": 6
    }
   ],
   "source": [
    "df.iloc[18381]"
   ]
  },
  {
   "cell_type": "code",
   "execution_count": 7,
   "metadata": {},
   "outputs": [
    {
     "output_type": "execute_result",
     "data": {
      "text/plain": [
       "(22500, 24)"
      ]
     },
     "metadata": {},
     "execution_count": 7
    }
   ],
   "source": [
    "df.shape"
   ]
  },
  {
   "cell_type": "code",
   "execution_count": 8,
   "metadata": {},
   "outputs": [],
   "source": [
    "# drop the row if has text in it\n",
    "df.drop(df[df.gender == 'SEX'].index, inplace=True)"
   ]
  },
  {
   "cell_type": "code",
   "execution_count": 9,
   "metadata": {},
   "outputs": [
    {
     "output_type": "execute_result",
     "data": {
      "text/plain": [
       "(22499, 24)"
      ]
     },
     "metadata": {},
     "execution_count": 9
    }
   ],
   "source": [
    "# checking that worked\n",
    "df.shape"
   ]
  },
  {
   "source": [
    "#### now that the row with column names is gone, we can convert the entire dataframe from objects to float/int"
   ],
   "cell_type": "markdown",
   "metadata": {}
  },
  {
   "cell_type": "code",
   "execution_count": 10,
   "metadata": {},
   "outputs": [
    {
     "output_type": "stream",
     "name": "stdout",
     "text": [
      "<class 'pandas.core.frame.DataFrame'>\nIndex: 22499 entries, 28835 to 7624\nData columns (total 24 columns):\nmax_credit_given    22499 non-null object\ngender              22499 non-null object\neducation           22499 non-null object\nmarital_status      22499 non-null object\nage                 22499 non-null object\npay_status_sept     22499 non-null object\npay_status_aug      22499 non-null object\npay_status_july     22499 non-null object\npay_status_june     22499 non-null object\npay_status_may      22499 non-null object\npay_status_april    22499 non-null object\nbill_sept           22499 non-null object\nbill_aug            22499 non-null object\nbill_july           22499 non-null object\nbill_june           22499 non-null object\nbill_may            22499 non-null object\nbill_april          22499 non-null object\npayment_sep         22499 non-null object\npayment_aug         22499 non-null object\npayments_jul        22499 non-null object\npayment_jun         22499 non-null object\npayment_may         22499 non-null object\npayment_april       22499 non-null object\ndefault             22499 non-null object\ndtypes: object(24)\nmemory usage: 4.3+ MB\n"
     ]
    }
   ],
   "source": [
    "# checking data types\n",
    "df.info()\n",
    "# theyre all objects, we need to change this"
   ]
  },
  {
   "cell_type": "code",
   "execution_count": 11,
   "metadata": {},
   "outputs": [],
   "source": [
    "# changing all values from objects to\n",
    "df = df.apply(pd.to_numeric, errors='coerce')"
   ]
  },
  {
   "cell_type": "code",
   "execution_count": 12,
   "metadata": {},
   "outputs": [
    {
     "output_type": "stream",
     "name": "stdout",
     "text": [
      "<class 'pandas.core.frame.DataFrame'>\nIndex: 22499 entries, 28835 to 7624\nData columns (total 24 columns):\nmax_credit_given    22499 non-null int64\ngender              22499 non-null int64\neducation           22499 non-null int64\nmarital_status      22499 non-null int64\nage                 22499 non-null int64\npay_status_sept     22499 non-null int64\npay_status_aug      22499 non-null int64\npay_status_july     22499 non-null int64\npay_status_june     22499 non-null int64\npay_status_may      22499 non-null int64\npay_status_april    22499 non-null int64\nbill_sept           22499 non-null int64\nbill_aug            22499 non-null int64\nbill_july           22499 non-null int64\nbill_june           22499 non-null int64\nbill_may            22499 non-null int64\nbill_april          22499 non-null int64\npayment_sep         22499 non-null int64\npayment_aug         22499 non-null int64\npayments_jul        22499 non-null int64\npayment_jun         22499 non-null int64\npayment_may         22499 non-null int64\npayment_april       22499 non-null int64\ndefault             22499 non-null int64\ndtypes: int64(24)\nmemory usage: 4.3+ MB\n"
     ]
    }
   ],
   "source": [
    "# checking data types\n",
    "df.info()"
   ]
  },
  {
   "cell_type": "code",
   "execution_count": 13,
   "metadata": {},
   "outputs": [
    {
     "output_type": "execute_result",
     "data": {
      "text/plain": [
       "       max_credit_given  gender  education  marital_status  age  \\\n",
       "28835            220000       2          1               2   36   \n",
       "25329            200000       2          3               2   29   \n",
       "18894            180000       2          1               2   27   \n",
       "690               80000       1          2               2   32   \n",
       "6239              10000       1          2               2   27   \n",
       "\n",
       "       pay_status_sept  pay_status_aug  pay_status_july  pay_status_june  \\\n",
       "28835                0               0                0                0   \n",
       "25329               -1              -1               -1               -1   \n",
       "18894               -2              -2               -2               -2   \n",
       "690                  0               0                0                0   \n",
       "6239                 0               0                0                0   \n",
       "\n",
       "       pay_status_may  pay_status_april  bill_sept  bill_aug  bill_july  \\\n",
       "28835               0                 0     222598    222168     217900   \n",
       "25329              -1                -1        326       326        326   \n",
       "18894              -2                -2          0         0          0   \n",
       "690                 0                 0      51372     51872      47593   \n",
       "6239                0                 0       8257      7995       4878   \n",
       "\n",
       "       bill_june  bill_may  bill_april  payment_sep  payment_aug  \\\n",
       "28835     221193    181859      184605        10000         8018   \n",
       "25329        326       326         326          326          326   \n",
       "18894          0         0           0            0            0   \n",
       "690        43882     42256       42527         1853         1700   \n",
       "6239        5444      2639        2697         2000         1100   \n",
       "\n",
       "       payments_jul  payment_jun  payment_may  payment_april  default  \n",
       "28835         10121         6006        10987         143779        1  \n",
       "25329           326          326          326            326        0  \n",
       "18894             0            0            0              0        0  \n",
       "690            1522         1548         1488           1500        0  \n",
       "6239            600          300          300           1000        1  "
      ],
      "text/html": "<div>\n<style scoped>\n    .dataframe tbody tr th:only-of-type {\n        vertical-align: middle;\n    }\n\n    .dataframe tbody tr th {\n        vertical-align: top;\n    }\n\n    .dataframe thead th {\n        text-align: right;\n    }\n</style>\n<table border=\"1\" class=\"dataframe\">\n  <thead>\n    <tr style=\"text-align: right;\">\n      <th></th>\n      <th>max_credit_given</th>\n      <th>gender</th>\n      <th>education</th>\n      <th>marital_status</th>\n      <th>age</th>\n      <th>pay_status_sept</th>\n      <th>pay_status_aug</th>\n      <th>pay_status_july</th>\n      <th>pay_status_june</th>\n      <th>pay_status_may</th>\n      <th>pay_status_april</th>\n      <th>bill_sept</th>\n      <th>bill_aug</th>\n      <th>bill_july</th>\n      <th>bill_june</th>\n      <th>bill_may</th>\n      <th>bill_april</th>\n      <th>payment_sep</th>\n      <th>payment_aug</th>\n      <th>payments_jul</th>\n      <th>payment_jun</th>\n      <th>payment_may</th>\n      <th>payment_april</th>\n      <th>default</th>\n    </tr>\n  </thead>\n  <tbody>\n    <tr>\n      <th>28835</th>\n      <td>220000</td>\n      <td>2</td>\n      <td>1</td>\n      <td>2</td>\n      <td>36</td>\n      <td>0</td>\n      <td>0</td>\n      <td>0</td>\n      <td>0</td>\n      <td>0</td>\n      <td>0</td>\n      <td>222598</td>\n      <td>222168</td>\n      <td>217900</td>\n      <td>221193</td>\n      <td>181859</td>\n      <td>184605</td>\n      <td>10000</td>\n      <td>8018</td>\n      <td>10121</td>\n      <td>6006</td>\n      <td>10987</td>\n      <td>143779</td>\n      <td>1</td>\n    </tr>\n    <tr>\n      <th>25329</th>\n      <td>200000</td>\n      <td>2</td>\n      <td>3</td>\n      <td>2</td>\n      <td>29</td>\n      <td>-1</td>\n      <td>-1</td>\n      <td>-1</td>\n      <td>-1</td>\n      <td>-1</td>\n      <td>-1</td>\n      <td>326</td>\n      <td>326</td>\n      <td>326</td>\n      <td>326</td>\n      <td>326</td>\n      <td>326</td>\n      <td>326</td>\n      <td>326</td>\n      <td>326</td>\n      <td>326</td>\n      <td>326</td>\n      <td>326</td>\n      <td>0</td>\n    </tr>\n    <tr>\n      <th>18894</th>\n      <td>180000</td>\n      <td>2</td>\n      <td>1</td>\n      <td>2</td>\n      <td>27</td>\n      <td>-2</td>\n      <td>-2</td>\n      <td>-2</td>\n      <td>-2</td>\n      <td>-2</td>\n      <td>-2</td>\n      <td>0</td>\n      <td>0</td>\n      <td>0</td>\n      <td>0</td>\n      <td>0</td>\n      <td>0</td>\n      <td>0</td>\n      <td>0</td>\n      <td>0</td>\n      <td>0</td>\n      <td>0</td>\n      <td>0</td>\n      <td>0</td>\n    </tr>\n    <tr>\n      <th>690</th>\n      <td>80000</td>\n      <td>1</td>\n      <td>2</td>\n      <td>2</td>\n      <td>32</td>\n      <td>0</td>\n      <td>0</td>\n      <td>0</td>\n      <td>0</td>\n      <td>0</td>\n      <td>0</td>\n      <td>51372</td>\n      <td>51872</td>\n      <td>47593</td>\n      <td>43882</td>\n      <td>42256</td>\n      <td>42527</td>\n      <td>1853</td>\n      <td>1700</td>\n      <td>1522</td>\n      <td>1548</td>\n      <td>1488</td>\n      <td>1500</td>\n      <td>0</td>\n    </tr>\n    <tr>\n      <th>6239</th>\n      <td>10000</td>\n      <td>1</td>\n      <td>2</td>\n      <td>2</td>\n      <td>27</td>\n      <td>0</td>\n      <td>0</td>\n      <td>0</td>\n      <td>0</td>\n      <td>0</td>\n      <td>0</td>\n      <td>8257</td>\n      <td>7995</td>\n      <td>4878</td>\n      <td>5444</td>\n      <td>2639</td>\n      <td>2697</td>\n      <td>2000</td>\n      <td>1100</td>\n      <td>600</td>\n      <td>300</td>\n      <td>300</td>\n      <td>1000</td>\n      <td>1</td>\n    </tr>\n  </tbody>\n</table>\n</div>"
     },
     "metadata": {},
     "execution_count": 13
    }
   ],
   "source": [
    "df.head()"
   ]
  },
  {
   "source": [
    "### Fixing 3 main categorical variables"
   ],
   "cell_type": "markdown",
   "metadata": {}
  },
  {
   "cell_type": "code",
   "execution_count": 14,
   "metadata": {},
   "outputs": [
    {
     "output_type": "execute_result",
     "data": {
      "text/plain": [
       "             gender     education  marital_status\n",
       "count  22499.000000  22499.000000    22499.000000\n",
       "mean       1.603227      1.855282        1.553358\n",
       "std        0.489239      0.791905        0.521418\n",
       "min        1.000000      0.000000        0.000000\n",
       "25%        1.000000      1.000000        1.000000\n",
       "50%        2.000000      2.000000        2.000000\n",
       "75%        2.000000      2.000000        2.000000\n",
       "max        2.000000      6.000000        3.000000"
      ],
      "text/html": "<div>\n<style scoped>\n    .dataframe tbody tr th:only-of-type {\n        vertical-align: middle;\n    }\n\n    .dataframe tbody tr th {\n        vertical-align: top;\n    }\n\n    .dataframe thead th {\n        text-align: right;\n    }\n</style>\n<table border=\"1\" class=\"dataframe\">\n  <thead>\n    <tr style=\"text-align: right;\">\n      <th></th>\n      <th>gender</th>\n      <th>education</th>\n      <th>marital_status</th>\n    </tr>\n  </thead>\n  <tbody>\n    <tr>\n      <th>count</th>\n      <td>22499.000000</td>\n      <td>22499.000000</td>\n      <td>22499.000000</td>\n    </tr>\n    <tr>\n      <th>mean</th>\n      <td>1.603227</td>\n      <td>1.855282</td>\n      <td>1.553358</td>\n    </tr>\n    <tr>\n      <th>std</th>\n      <td>0.489239</td>\n      <td>0.791905</td>\n      <td>0.521418</td>\n    </tr>\n    <tr>\n      <th>min</th>\n      <td>1.000000</td>\n      <td>0.000000</td>\n      <td>0.000000</td>\n    </tr>\n    <tr>\n      <th>25%</th>\n      <td>1.000000</td>\n      <td>1.000000</td>\n      <td>1.000000</td>\n    </tr>\n    <tr>\n      <th>50%</th>\n      <td>2.000000</td>\n      <td>2.000000</td>\n      <td>2.000000</td>\n    </tr>\n    <tr>\n      <th>75%</th>\n      <td>2.000000</td>\n      <td>2.000000</td>\n      <td>2.000000</td>\n    </tr>\n    <tr>\n      <th>max</th>\n      <td>2.000000</td>\n      <td>6.000000</td>\n      <td>3.000000</td>\n    </tr>\n  </tbody>\n</table>\n</div>"
     },
     "metadata": {},
     "execution_count": 14
    }
   ],
   "source": [
    "# Categorical variables description\n",
    "df[['gender', 'education', 'marital_status']].describe()"
   ]
  },
  {
   "cell_type": "code",
   "execution_count": 15,
   "metadata": {},
   "outputs": [
    {
     "output_type": "execute_result",
     "data": {
      "text/plain": [
       "2    10516\n",
       "1     7919\n",
       "3     3713\n",
       "5      208\n",
       "4       90\n",
       "6       42\n",
       "0       11\n",
       "Name: education, dtype: int64"
      ]
     },
     "metadata": {},
     "execution_count": 15
    }
   ],
   "source": [
    "# Next deal with- why are there other educations besides 1-4 ??\n",
    "df['education'].value_counts()"
   ]
  },
  {
   "source": [
    "- 'education' has category 5 and 6 that are unlabeled, and the category 0 is undocumented.\n",
    "- 'marital_status' has a label 0 that is undocumented\n",
    "\n",
    "They just put the weird values in the 'other' categories. is this safe to do?\n",
    "let's check to see what other people did first\n",
    "- 'other' in education can be an education lower than the high school level.\n",
    "- 'other' in marital_status could be, for example, \"divorced\"."
   ],
   "cell_type": "markdown",
   "metadata": {}
  },
  {
   "cell_type": "code",
   "execution_count": 16,
   "metadata": {},
   "outputs": [],
   "source": [
    "# fixing 'education' column by putting unknown variables in 'other' category (4)\n",
    "fix_edu = (df.education == 5) | (df.education == 6) | (df.education == 0)\n",
    "df.loc[fix_edu, 'education'] = 4\n",
    "\n",
    "# fixing 'marital_status' column\n",
    "df.loc[df.marital_status == 0, 'marital_status'] = 3"
   ]
  },
  {
   "cell_type": "code",
   "execution_count": 17,
   "metadata": {},
   "outputs": [
    {
     "output_type": "execute_result",
     "data": {
      "text/plain": [
       "2    10516\n",
       "1     7919\n",
       "3     3713\n",
       "4      351\n",
       "Name: education, dtype: int64"
      ]
     },
     "metadata": {},
     "execution_count": 17
    }
   ],
   "source": [
    "df.education.value_counts()"
   ]
  },
  {
   "cell_type": "code",
   "execution_count": 18,
   "metadata": {},
   "outputs": [
    {
     "output_type": "execute_result",
     "data": {
      "text/plain": [
       "2    12026\n",
       "1    10195\n",
       "3      278\n",
       "Name: marital_status, dtype: int64"
      ]
     },
     "metadata": {},
     "execution_count": 18
    }
   ],
   "source": [
    "df.marital_status.value_counts()"
   ]
  },
  {
   "source": [
    "## Checking for irregularities, by column groups\n",
    "\n"
   ],
   "cell_type": "markdown",
   "metadata": {}
  },
  {
   "source": [
    "### checking History of Past Payment (payment delay)"
   ],
   "cell_type": "markdown",
   "metadata": {}
  },
  {
   "cell_type": "code",
   "execution_count": 19,
   "metadata": {},
   "outputs": [
    {
     "output_type": "execute_result",
     "data": {
      "text/plain": [
       "       pay_status_sept  pay_status_aug  pay_status_july  pay_status_june  \\\n",
       "count     22499.000000    22499.000000     22499.000000     22499.000000   \n",
       "mean         -0.014090       -0.128806        -0.160185        -0.214587   \n",
       "std           1.123191        1.197954         1.198880         1.174824   \n",
       "min          -2.000000       -2.000000        -2.000000        -2.000000   \n",
       "25%          -1.000000       -1.000000        -1.000000        -1.000000   \n",
       "50%           0.000000        0.000000         0.000000         0.000000   \n",
       "75%           0.000000        0.000000         0.000000         0.000000   \n",
       "max           8.000000        8.000000         8.000000         8.000000   \n",
       "\n",
       "       pay_status_may  pay_status_april  \n",
       "count    22499.000000      22499.000000  \n",
       "mean        -0.259700         -0.287613  \n",
       "std          1.139984          1.154249  \n",
       "min         -2.000000         -2.000000  \n",
       "25%         -1.000000         -1.000000  \n",
       "50%          0.000000          0.000000  \n",
       "75%          0.000000          0.000000  \n",
       "max          8.000000          8.000000  "
      ],
      "text/html": "<div>\n<style scoped>\n    .dataframe tbody tr th:only-of-type {\n        vertical-align: middle;\n    }\n\n    .dataframe tbody tr th {\n        vertical-align: top;\n    }\n\n    .dataframe thead th {\n        text-align: right;\n    }\n</style>\n<table border=\"1\" class=\"dataframe\">\n  <thead>\n    <tr style=\"text-align: right;\">\n      <th></th>\n      <th>pay_status_sept</th>\n      <th>pay_status_aug</th>\n      <th>pay_status_july</th>\n      <th>pay_status_june</th>\n      <th>pay_status_may</th>\n      <th>pay_status_april</th>\n    </tr>\n  </thead>\n  <tbody>\n    <tr>\n      <th>count</th>\n      <td>22499.000000</td>\n      <td>22499.000000</td>\n      <td>22499.000000</td>\n      <td>22499.000000</td>\n      <td>22499.000000</td>\n      <td>22499.000000</td>\n    </tr>\n    <tr>\n      <th>mean</th>\n      <td>-0.014090</td>\n      <td>-0.128806</td>\n      <td>-0.160185</td>\n      <td>-0.214587</td>\n      <td>-0.259700</td>\n      <td>-0.287613</td>\n    </tr>\n    <tr>\n      <th>std</th>\n      <td>1.123191</td>\n      <td>1.197954</td>\n      <td>1.198880</td>\n      <td>1.174824</td>\n      <td>1.139984</td>\n      <td>1.154249</td>\n    </tr>\n    <tr>\n      <th>min</th>\n      <td>-2.000000</td>\n      <td>-2.000000</td>\n      <td>-2.000000</td>\n      <td>-2.000000</td>\n      <td>-2.000000</td>\n      <td>-2.000000</td>\n    </tr>\n    <tr>\n      <th>25%</th>\n      <td>-1.000000</td>\n      <td>-1.000000</td>\n      <td>-1.000000</td>\n      <td>-1.000000</td>\n      <td>-1.000000</td>\n      <td>-1.000000</td>\n    </tr>\n    <tr>\n      <th>50%</th>\n      <td>0.000000</td>\n      <td>0.000000</td>\n      <td>0.000000</td>\n      <td>0.000000</td>\n      <td>0.000000</td>\n      <td>0.000000</td>\n    </tr>\n    <tr>\n      <th>75%</th>\n      <td>0.000000</td>\n      <td>0.000000</td>\n      <td>0.000000</td>\n      <td>0.000000</td>\n      <td>0.000000</td>\n      <td>0.000000</td>\n    </tr>\n    <tr>\n      <th>max</th>\n      <td>8.000000</td>\n      <td>8.000000</td>\n      <td>8.000000</td>\n      <td>8.000000</td>\n      <td>8.000000</td>\n      <td>8.000000</td>\n    </tr>\n  </tbody>\n</table>\n</div>"
     },
     "metadata": {},
     "execution_count": 19
    }
   ],
   "source": [
    "# this should be on a scale from -1, 1-9\n",
    "# -1 being 'pay duly' and 1-9 being how many months of payment delay\n",
    "\n",
    "df[['pay_status_sept', 'pay_status_aug', 'pay_status_july', 'pay_status_june', 'pay_status_may', 'pay_status_april']].describe()"
   ]
  },
  {
   "source": [
    "- There shouldn't be any -2 here, so let's just set it to 'pay duly' as if there wasn't any delay\n",
    "- and 'pay duly' should probably just be 0 instead of -1 because that means the payment wasn't delayed"
   ],
   "cell_type": "markdown",
   "metadata": {}
  },
  {
   "cell_type": "code",
   "execution_count": 20,
   "metadata": {},
   "outputs": [],
   "source": [
    "fix_status = (df.pay_status_sept == -2) | (df.pay_status_sept == 0)\n",
    "df.loc[fix_status, 'pay_status_sept'] = -1\n",
    "\n",
    "fix_status = (df.pay_status_aug == -2) | (df.pay_status_aug == 0)\n",
    "df.loc[fix_status, 'pay_status_aug'] = -1\n",
    "\n",
    "fix_status = (df.pay_status_july == -2) | (df.pay_status_july == 0)\n",
    "df.loc[fix_status, 'pay_status_july'] = -1\n",
    "\n",
    "fix_status = (df.pay_status_june == -2) | (df.pay_status_june == 0)\n",
    "df.loc[fix_status, 'pay_status_june'] = -1\n",
    "\n",
    "fix_status = (df.pay_status_may == -2) | (df.pay_status_may == 0)\n",
    "df.loc[fix_status, 'pay_status_may'] = -1\n",
    "\n",
    "fix_status = (df.pay_status_april == -2) | (df.pay_status_april == 0)\n",
    "df.loc[fix_status, 'pay_status_april'] = -1"
   ]
  },
  {
   "source": [
    "### checking amount of bill statement"
   ],
   "cell_type": "markdown",
   "metadata": {}
  },
  {
   "cell_type": "code",
   "execution_count": 21,
   "metadata": {},
   "outputs": [
    {
     "output_type": "execute_result",
     "data": {
      "text/plain": [
       "           bill_sept       bill_aug     bill_july      bill_june  \\\n",
       "count   22499.000000   22499.000000  2.249900e+04   22499.000000   \n",
       "mean    51455.869416   49385.313214  4.704213e+04   43329.149562   \n",
       "std     74470.257248   71953.814345  6.991792e+04   64607.088483   \n",
       "min   -165580.000000  -69777.000000 -1.572640e+05  -81334.000000   \n",
       "25%      3506.000000    2975.000000  2.611500e+03    2319.500000   \n",
       "50%     22387.000000   21145.000000  2.005300e+04   19048.000000   \n",
       "75%     66988.500000   63755.000000  6.016100e+04   54494.500000   \n",
       "max    964511.000000  983931.000000  1.664089e+06  891586.000000   \n",
       "\n",
       "            bill_may     bill_april  \n",
       "count   22499.000000   22499.000000  \n",
       "mean    40306.373039   38955.000356  \n",
       "std     60918.993067   59773.144959  \n",
       "min    -81334.000000 -339603.000000  \n",
       "25%      1732.500000    1230.000000  \n",
       "50%     18050.000000   16924.000000  \n",
       "75%     50196.000000   49250.000000  \n",
       "max    927171.000000  961664.000000  "
      ],
      "text/html": "<div>\n<style scoped>\n    .dataframe tbody tr th:only-of-type {\n        vertical-align: middle;\n    }\n\n    .dataframe tbody tr th {\n        vertical-align: top;\n    }\n\n    .dataframe thead th {\n        text-align: right;\n    }\n</style>\n<table border=\"1\" class=\"dataframe\">\n  <thead>\n    <tr style=\"text-align: right;\">\n      <th></th>\n      <th>bill_sept</th>\n      <th>bill_aug</th>\n      <th>bill_july</th>\n      <th>bill_june</th>\n      <th>bill_may</th>\n      <th>bill_april</th>\n    </tr>\n  </thead>\n  <tbody>\n    <tr>\n      <th>count</th>\n      <td>22499.000000</td>\n      <td>22499.000000</td>\n      <td>2.249900e+04</td>\n      <td>22499.000000</td>\n      <td>22499.000000</td>\n      <td>22499.000000</td>\n    </tr>\n    <tr>\n      <th>mean</th>\n      <td>51455.869416</td>\n      <td>49385.313214</td>\n      <td>4.704213e+04</td>\n      <td>43329.149562</td>\n      <td>40306.373039</td>\n      <td>38955.000356</td>\n    </tr>\n    <tr>\n      <th>std</th>\n      <td>74470.257248</td>\n      <td>71953.814345</td>\n      <td>6.991792e+04</td>\n      <td>64607.088483</td>\n      <td>60918.993067</td>\n      <td>59773.144959</td>\n    </tr>\n    <tr>\n      <th>min</th>\n      <td>-165580.000000</td>\n      <td>-69777.000000</td>\n      <td>-1.572640e+05</td>\n      <td>-81334.000000</td>\n      <td>-81334.000000</td>\n      <td>-339603.000000</td>\n    </tr>\n    <tr>\n      <th>25%</th>\n      <td>3506.000000</td>\n      <td>2975.000000</td>\n      <td>2.611500e+03</td>\n      <td>2319.500000</td>\n      <td>1732.500000</td>\n      <td>1230.000000</td>\n    </tr>\n    <tr>\n      <th>50%</th>\n      <td>22387.000000</td>\n      <td>21145.000000</td>\n      <td>2.005300e+04</td>\n      <td>19048.000000</td>\n      <td>18050.000000</td>\n      <td>16924.000000</td>\n    </tr>\n    <tr>\n      <th>75%</th>\n      <td>66988.500000</td>\n      <td>63755.000000</td>\n      <td>6.016100e+04</td>\n      <td>54494.500000</td>\n      <td>50196.000000</td>\n      <td>49250.000000</td>\n    </tr>\n    <tr>\n      <th>max</th>\n      <td>964511.000000</td>\n      <td>983931.000000</td>\n      <td>1.664089e+06</td>\n      <td>891586.000000</td>\n      <td>927171.000000</td>\n      <td>961664.000000</td>\n    </tr>\n  </tbody>\n</table>\n</div>"
     },
     "metadata": {},
     "execution_count": 21
    }
   ],
   "source": [
    "# checking amount of bill statement\n",
    "df[['bill_sept', 'bill_aug', 'bill_july', 'bill_june', 'bill_may', 'bill_april']].describe()"
   ]
  },
  {
   "source": [
    "- negative values can be interpreted as credit"
   ],
   "cell_type": "markdown",
   "metadata": {}
  },
  {
   "source": [
    "### checking amount of previous statement"
   ],
   "cell_type": "markdown",
   "metadata": {}
  },
  {
   "cell_type": "code",
   "execution_count": 22,
   "metadata": {},
   "outputs": [
    {
     "output_type": "execute_result",
     "data": {
      "text/plain": [
       "         payment_sep   payment_aug   payments_jul    payment_jun  \\\n",
       "count   22499.000000  2.249900e+04   22499.000000   22499.000000   \n",
       "mean     5627.914796  5.964393e+03    5258.912307    4792.971777   \n",
       "std     16628.162287  2.444370e+04   18153.554633   15872.858180   \n",
       "min         0.000000  0.000000e+00       0.000000       0.000000   \n",
       "25%      1000.000000  8.290000e+02     396.000000     284.000000   \n",
       "50%      2100.000000  2.004000e+03    1800.000000    1500.000000   \n",
       "75%      5002.000000  5.000000e+03    4500.000000    4000.000000   \n",
       "max    873552.000000  1.684259e+06  896040.000000  621000.000000   \n",
       "\n",
       "         payment_may  payment_april  \n",
       "count   22499.000000   22499.000000  \n",
       "mean     4865.656029    5247.279301  \n",
       "std     15507.449610   17892.327398  \n",
       "min         0.000000       0.000000  \n",
       "25%       246.500000     100.000000  \n",
       "50%      1500.000000    1500.000000  \n",
       "75%      4068.500000    4000.000000  \n",
       "max    388071.000000  528666.000000  "
      ],
      "text/html": "<div>\n<style scoped>\n    .dataframe tbody tr th:only-of-type {\n        vertical-align: middle;\n    }\n\n    .dataframe tbody tr th {\n        vertical-align: top;\n    }\n\n    .dataframe thead th {\n        text-align: right;\n    }\n</style>\n<table border=\"1\" class=\"dataframe\">\n  <thead>\n    <tr style=\"text-align: right;\">\n      <th></th>\n      <th>payment_sep</th>\n      <th>payment_aug</th>\n      <th>payments_jul</th>\n      <th>payment_jun</th>\n      <th>payment_may</th>\n      <th>payment_april</th>\n    </tr>\n  </thead>\n  <tbody>\n    <tr>\n      <th>count</th>\n      <td>22499.000000</td>\n      <td>2.249900e+04</td>\n      <td>22499.000000</td>\n      <td>22499.000000</td>\n      <td>22499.000000</td>\n      <td>22499.000000</td>\n    </tr>\n    <tr>\n      <th>mean</th>\n      <td>5627.914796</td>\n      <td>5.964393e+03</td>\n      <td>5258.912307</td>\n      <td>4792.971777</td>\n      <td>4865.656029</td>\n      <td>5247.279301</td>\n    </tr>\n    <tr>\n      <th>std</th>\n      <td>16628.162287</td>\n      <td>2.444370e+04</td>\n      <td>18153.554633</td>\n      <td>15872.858180</td>\n      <td>15507.449610</td>\n      <td>17892.327398</td>\n    </tr>\n    <tr>\n      <th>min</th>\n      <td>0.000000</td>\n      <td>0.000000e+00</td>\n      <td>0.000000</td>\n      <td>0.000000</td>\n      <td>0.000000</td>\n      <td>0.000000</td>\n    </tr>\n    <tr>\n      <th>25%</th>\n      <td>1000.000000</td>\n      <td>8.290000e+02</td>\n      <td>396.000000</td>\n      <td>284.000000</td>\n      <td>246.500000</td>\n      <td>100.000000</td>\n    </tr>\n    <tr>\n      <th>50%</th>\n      <td>2100.000000</td>\n      <td>2.004000e+03</td>\n      <td>1800.000000</td>\n      <td>1500.000000</td>\n      <td>1500.000000</td>\n      <td>1500.000000</td>\n    </tr>\n    <tr>\n      <th>75%</th>\n      <td>5002.000000</td>\n      <td>5.000000e+03</td>\n      <td>4500.000000</td>\n      <td>4000.000000</td>\n      <td>4068.500000</td>\n      <td>4000.000000</td>\n    </tr>\n    <tr>\n      <th>max</th>\n      <td>873552.000000</td>\n      <td>1.684259e+06</td>\n      <td>896040.000000</td>\n      <td>621000.000000</td>\n      <td>388071.000000</td>\n      <td>528666.000000</td>\n    </tr>\n  </tbody>\n</table>\n</div>"
     },
     "metadata": {},
     "execution_count": 22
    }
   ],
   "source": [
    "# checking amount of previous statement\n",
    "df[['payment_sept', 'payment_aug', 'payment_jul', 'payment_jun', 'payment_may', 'payment_april']].describe()"
   ]
  },
  {
   "source": [
    "## 2: Data Visualization & EDA\n",
    "#### Check cleaning_EDA.ipynb for full EDA process"
   ],
   "cell_type": "markdown",
   "metadata": {}
  },
  {
   "source": [
    "### checking the amount of credit given to each person"
   ],
   "cell_type": "markdown",
   "metadata": {}
  },
  {
   "cell_type": "code",
   "execution_count": 23,
   "metadata": {},
   "outputs": [
    {
     "output_type": "execute_result",
     "data": {
      "text/plain": [
       "count      22499.000000\n",
       "mean      167054.521534\n",
       "std       129864.960118\n",
       "min        10000.000000\n",
       "25%        50000.000000\n",
       "50%       140000.000000\n",
       "75%       240000.000000\n",
       "max      1000000.000000\n",
       "Name: max_credit_given, dtype: float64"
      ]
     },
     "metadata": {},
     "execution_count": 23
    }
   ],
   "source": [
    "# checking the amount of credit given to each person\n",
    "df.max_credit_given.describe()"
   ]
  },
  {
   "cell_type": "code",
   "execution_count": 24,
   "metadata": {},
   "outputs": [
    {
     "output_type": "execute_result",
     "data": {
      "text/plain": [
       "0.22347659895995378"
      ]
     },
     "metadata": {},
     "execution_count": 24
    }
   ],
   "source": [
    "# general idea of the default probablity for this dataset?\n",
    "df.default.sum() / len(df.default)"
   ]
  },
  {
   "source": [
    "#### ^ This will be the same when we check class imabalance later"
   ],
   "cell_type": "markdown",
   "metadata": {}
  },
  {
   "source": [
    "## 3. Feature Engineering"
   ],
   "cell_type": "markdown",
   "metadata": {}
  },
  {
   "cell_type": "code",
   "execution_count": 25,
   "metadata": {},
   "outputs": [
    {
     "output_type": "execute_result",
     "data": {
      "text/plain": [
       "       max_credit_given  gender  education  marital_status  age  \\\n",
       "28835            220000       2          1               2   36   \n",
       "25329            200000       2          3               2   29   \n",
       "18894            180000       2          1               2   27   \n",
       "690               80000       1          2               2   32   \n",
       "6239              10000       1          2               2   27   \n",
       "\n",
       "       pay_status_sept  pay_status_aug  pay_status_july  pay_status_june  \\\n",
       "28835               -1              -1               -1               -1   \n",
       "25329               -1              -1               -1               -1   \n",
       "18894               -1              -1               -1               -1   \n",
       "690                 -1              -1               -1               -1   \n",
       "6239                -1              -1               -1               -1   \n",
       "\n",
       "       pay_status_may  pay_status_april  bill_sept  bill_aug  bill_july  \\\n",
       "28835              -1                -1     222598    222168     217900   \n",
       "25329              -1                -1        326       326        326   \n",
       "18894              -1                -1          0         0          0   \n",
       "690                -1                -1      51372     51872      47593   \n",
       "6239               -1                -1       8257      7995       4878   \n",
       "\n",
       "       bill_june  bill_may  bill_april  payment_sep  payment_aug  \\\n",
       "28835     221193    181859      184605        10000         8018   \n",
       "25329        326       326         326          326          326   \n",
       "18894          0         0           0            0            0   \n",
       "690        43882     42256       42527         1853         1700   \n",
       "6239        5444      2639        2697         2000         1100   \n",
       "\n",
       "       payments_jul  payment_jun  payment_may  payment_april  default  \n",
       "28835         10121         6006        10987         143779        1  \n",
       "25329           326          326          326            326        0  \n",
       "18894             0            0            0              0        0  \n",
       "690            1522         1548         1488           1500        0  \n",
       "6239            600          300          300           1000        1  "
      ],
      "text/html": "<div>\n<style scoped>\n    .dataframe tbody tr th:only-of-type {\n        vertical-align: middle;\n    }\n\n    .dataframe tbody tr th {\n        vertical-align: top;\n    }\n\n    .dataframe thead th {\n        text-align: right;\n    }\n</style>\n<table border=\"1\" class=\"dataframe\">\n  <thead>\n    <tr style=\"text-align: right;\">\n      <th></th>\n      <th>max_credit_given</th>\n      <th>gender</th>\n      <th>education</th>\n      <th>marital_status</th>\n      <th>age</th>\n      <th>pay_status_sept</th>\n      <th>pay_status_aug</th>\n      <th>pay_status_july</th>\n      <th>pay_status_june</th>\n      <th>pay_status_may</th>\n      <th>pay_status_april</th>\n      <th>bill_sept</th>\n      <th>bill_aug</th>\n      <th>bill_july</th>\n      <th>bill_june</th>\n      <th>bill_may</th>\n      <th>bill_april</th>\n      <th>payment_sep</th>\n      <th>payment_aug</th>\n      <th>payments_jul</th>\n      <th>payment_jun</th>\n      <th>payment_may</th>\n      <th>payment_april</th>\n      <th>default</th>\n    </tr>\n  </thead>\n  <tbody>\n    <tr>\n      <th>28835</th>\n      <td>220000</td>\n      <td>2</td>\n      <td>1</td>\n      <td>2</td>\n      <td>36</td>\n      <td>-1</td>\n      <td>-1</td>\n      <td>-1</td>\n      <td>-1</td>\n      <td>-1</td>\n      <td>-1</td>\n      <td>222598</td>\n      <td>222168</td>\n      <td>217900</td>\n      <td>221193</td>\n      <td>181859</td>\n      <td>184605</td>\n      <td>10000</td>\n      <td>8018</td>\n      <td>10121</td>\n      <td>6006</td>\n      <td>10987</td>\n      <td>143779</td>\n      <td>1</td>\n    </tr>\n    <tr>\n      <th>25329</th>\n      <td>200000</td>\n      <td>2</td>\n      <td>3</td>\n      <td>2</td>\n      <td>29</td>\n      <td>-1</td>\n      <td>-1</td>\n      <td>-1</td>\n      <td>-1</td>\n      <td>-1</td>\n      <td>-1</td>\n      <td>326</td>\n      <td>326</td>\n      <td>326</td>\n      <td>326</td>\n      <td>326</td>\n      <td>326</td>\n      <td>326</td>\n      <td>326</td>\n      <td>326</td>\n      <td>326</td>\n      <td>326</td>\n      <td>326</td>\n      <td>0</td>\n    </tr>\n    <tr>\n      <th>18894</th>\n      <td>180000</td>\n      <td>2</td>\n      <td>1</td>\n      <td>2</td>\n      <td>27</td>\n      <td>-1</td>\n      <td>-1</td>\n      <td>-1</td>\n      <td>-1</td>\n      <td>-1</td>\n      <td>-1</td>\n      <td>0</td>\n      <td>0</td>\n      <td>0</td>\n      <td>0</td>\n      <td>0</td>\n      <td>0</td>\n      <td>0</td>\n      <td>0</td>\n      <td>0</td>\n      <td>0</td>\n      <td>0</td>\n      <td>0</td>\n      <td>0</td>\n    </tr>\n    <tr>\n      <th>690</th>\n      <td>80000</td>\n      <td>1</td>\n      <td>2</td>\n      <td>2</td>\n      <td>32</td>\n      <td>-1</td>\n      <td>-1</td>\n      <td>-1</td>\n      <td>-1</td>\n      <td>-1</td>\n      <td>-1</td>\n      <td>51372</td>\n      <td>51872</td>\n      <td>47593</td>\n      <td>43882</td>\n      <td>42256</td>\n      <td>42527</td>\n      <td>1853</td>\n      <td>1700</td>\n      <td>1522</td>\n      <td>1548</td>\n      <td>1488</td>\n      <td>1500</td>\n      <td>0</td>\n    </tr>\n    <tr>\n      <th>6239</th>\n      <td>10000</td>\n      <td>1</td>\n      <td>2</td>\n      <td>2</td>\n      <td>27</td>\n      <td>-1</td>\n      <td>-1</td>\n      <td>-1</td>\n      <td>-1</td>\n      <td>-1</td>\n      <td>-1</td>\n      <td>8257</td>\n      <td>7995</td>\n      <td>4878</td>\n      <td>5444</td>\n      <td>2639</td>\n      <td>2697</td>\n      <td>2000</td>\n      <td>1100</td>\n      <td>600</td>\n      <td>300</td>\n      <td>300</td>\n      <td>1000</td>\n      <td>1</td>\n    </tr>\n  </tbody>\n</table>\n</div>"
     },
     "metadata": {},
     "execution_count": 25
    }
   ],
   "source": [
    "df.head()"
   ]
  },
  {
   "cell_type": "code",
   "execution_count": 26,
   "metadata": {},
   "outputs": [
    {
     "output_type": "execute_result",
     "data": {
      "text/plain": [
       "       max_credit_given  age  pay_status_sept  pay_status_aug  \\\n",
       "28835            220000   36               -1              -1   \n",
       "25329            200000   29               -1              -1   \n",
       "18894            180000   27               -1              -1   \n",
       "690               80000   32               -1              -1   \n",
       "6239              10000   27               -1              -1   \n",
       "\n",
       "       pay_status_july  pay_status_june  pay_status_may  pay_status_april  \\\n",
       "28835               -1               -1              -1                -1   \n",
       "25329               -1               -1              -1                -1   \n",
       "18894               -1               -1              -1                -1   \n",
       "690                 -1               -1              -1                -1   \n",
       "6239                -1               -1              -1                -1   \n",
       "\n",
       "       bill_sept  bill_aug  bill_july  bill_june  bill_may  bill_april  \\\n",
       "28835     222598    222168     217900     221193    181859      184605   \n",
       "25329        326       326        326        326       326         326   \n",
       "18894          0         0          0          0         0           0   \n",
       "690        51372     51872      47593      43882     42256       42527   \n",
       "6239        8257      7995       4878       5444      2639        2697   \n",
       "\n",
       "       payment_sep  payment_aug  payments_jul  payment_jun  payment_may  \\\n",
       "28835        10000         8018         10121         6006        10987   \n",
       "25329          326          326           326          326          326   \n",
       "18894            0            0             0            0            0   \n",
       "690           1853         1700          1522         1548         1488   \n",
       "6239          2000         1100           600          300          300   \n",
       "\n",
       "       payment_april  default  gender_1  gender_2  education_1  education_2  \\\n",
       "28835         143779        1         0         1            1            0   \n",
       "25329            326        0         0         1            0            0   \n",
       "18894              0        0         0         1            1            0   \n",
       "690             1500        0         1         0            0            1   \n",
       "6239            1000        1         1         0            0            1   \n",
       "\n",
       "       education_3  education_4  marital_status_1  marital_status_2  \\\n",
       "28835            0            0                 0                 1   \n",
       "25329            1            0                 0                 1   \n",
       "18894            0            0                 0                 1   \n",
       "690              0            0                 0                 1   \n",
       "6239             0            0                 0                 1   \n",
       "\n",
       "       marital_status_3  \n",
       "28835                 0  \n",
       "25329                 0  \n",
       "18894                 0  \n",
       "690                   0  \n",
       "6239                  0  "
      ],
      "text/html": "<div>\n<style scoped>\n    .dataframe tbody tr th:only-of-type {\n        vertical-align: middle;\n    }\n\n    .dataframe tbody tr th {\n        vertical-align: top;\n    }\n\n    .dataframe thead th {\n        text-align: right;\n    }\n</style>\n<table border=\"1\" class=\"dataframe\">\n  <thead>\n    <tr style=\"text-align: right;\">\n      <th></th>\n      <th>max_credit_given</th>\n      <th>age</th>\n      <th>pay_status_sept</th>\n      <th>pay_status_aug</th>\n      <th>pay_status_july</th>\n      <th>pay_status_june</th>\n      <th>pay_status_may</th>\n      <th>pay_status_april</th>\n      <th>bill_sept</th>\n      <th>bill_aug</th>\n      <th>bill_july</th>\n      <th>bill_june</th>\n      <th>bill_may</th>\n      <th>bill_april</th>\n      <th>payment_sep</th>\n      <th>payment_aug</th>\n      <th>payments_jul</th>\n      <th>payment_jun</th>\n      <th>payment_may</th>\n      <th>payment_april</th>\n      <th>default</th>\n      <th>gender_1</th>\n      <th>gender_2</th>\n      <th>education_1</th>\n      <th>education_2</th>\n      <th>education_3</th>\n      <th>education_4</th>\n      <th>marital_status_1</th>\n      <th>marital_status_2</th>\n      <th>marital_status_3</th>\n    </tr>\n  </thead>\n  <tbody>\n    <tr>\n      <th>28835</th>\n      <td>220000</td>\n      <td>36</td>\n      <td>-1</td>\n      <td>-1</td>\n      <td>-1</td>\n      <td>-1</td>\n      <td>-1</td>\n      <td>-1</td>\n      <td>222598</td>\n      <td>222168</td>\n      <td>217900</td>\n      <td>221193</td>\n      <td>181859</td>\n      <td>184605</td>\n      <td>10000</td>\n      <td>8018</td>\n      <td>10121</td>\n      <td>6006</td>\n      <td>10987</td>\n      <td>143779</td>\n      <td>1</td>\n      <td>0</td>\n      <td>1</td>\n      <td>1</td>\n      <td>0</td>\n      <td>0</td>\n      <td>0</td>\n      <td>0</td>\n      <td>1</td>\n      <td>0</td>\n    </tr>\n    <tr>\n      <th>25329</th>\n      <td>200000</td>\n      <td>29</td>\n      <td>-1</td>\n      <td>-1</td>\n      <td>-1</td>\n      <td>-1</td>\n      <td>-1</td>\n      <td>-1</td>\n      <td>326</td>\n      <td>326</td>\n      <td>326</td>\n      <td>326</td>\n      <td>326</td>\n      <td>326</td>\n      <td>326</td>\n      <td>326</td>\n      <td>326</td>\n      <td>326</td>\n      <td>326</td>\n      <td>326</td>\n      <td>0</td>\n      <td>0</td>\n      <td>1</td>\n      <td>0</td>\n      <td>0</td>\n      <td>1</td>\n      <td>0</td>\n      <td>0</td>\n      <td>1</td>\n      <td>0</td>\n    </tr>\n    <tr>\n      <th>18894</th>\n      <td>180000</td>\n      <td>27</td>\n      <td>-1</td>\n      <td>-1</td>\n      <td>-1</td>\n      <td>-1</td>\n      <td>-1</td>\n      <td>-1</td>\n      <td>0</td>\n      <td>0</td>\n      <td>0</td>\n      <td>0</td>\n      <td>0</td>\n      <td>0</td>\n      <td>0</td>\n      <td>0</td>\n      <td>0</td>\n      <td>0</td>\n      <td>0</td>\n      <td>0</td>\n      <td>0</td>\n      <td>0</td>\n      <td>1</td>\n      <td>1</td>\n      <td>0</td>\n      <td>0</td>\n      <td>0</td>\n      <td>0</td>\n      <td>1</td>\n      <td>0</td>\n    </tr>\n    <tr>\n      <th>690</th>\n      <td>80000</td>\n      <td>32</td>\n      <td>-1</td>\n      <td>-1</td>\n      <td>-1</td>\n      <td>-1</td>\n      <td>-1</td>\n      <td>-1</td>\n      <td>51372</td>\n      <td>51872</td>\n      <td>47593</td>\n      <td>43882</td>\n      <td>42256</td>\n      <td>42527</td>\n      <td>1853</td>\n      <td>1700</td>\n      <td>1522</td>\n      <td>1548</td>\n      <td>1488</td>\n      <td>1500</td>\n      <td>0</td>\n      <td>1</td>\n      <td>0</td>\n      <td>0</td>\n      <td>1</td>\n      <td>0</td>\n      <td>0</td>\n      <td>0</td>\n      <td>1</td>\n      <td>0</td>\n    </tr>\n    <tr>\n      <th>6239</th>\n      <td>10000</td>\n      <td>27</td>\n      <td>-1</td>\n      <td>-1</td>\n      <td>-1</td>\n      <td>-1</td>\n      <td>-1</td>\n      <td>-1</td>\n      <td>8257</td>\n      <td>7995</td>\n      <td>4878</td>\n      <td>5444</td>\n      <td>2639</td>\n      <td>2697</td>\n      <td>2000</td>\n      <td>1100</td>\n      <td>600</td>\n      <td>300</td>\n      <td>300</td>\n      <td>1000</td>\n      <td>1</td>\n      <td>1</td>\n      <td>0</td>\n      <td>0</td>\n      <td>1</td>\n      <td>0</td>\n      <td>0</td>\n      <td>0</td>\n      <td>1</td>\n      <td>0</td>\n    </tr>\n  </tbody>\n</table>\n</div>"
     },
     "metadata": {},
     "execution_count": 26
    }
   ],
   "source": [
    "df[['gender','education','marital_status']] = df[['gender','education','marital_status']].astype('object')\n",
    "\n",
    "# dummying\n",
    "df = pd.get_dummies(df)\n",
    "df.head()"
   ]
  },
  {
   "source": [
    "## 4. Train-Test Split\n",
    "### Preparing data for TTS"
   ],
   "cell_type": "markdown",
   "metadata": {}
  },
  {
   "cell_type": "code",
   "execution_count": 27,
   "metadata": {},
   "outputs": [],
   "source": [
    "# Split data to be used in the models\n",
    "# Create matrix of features\n",
    "X = df.drop('default', axis = 1)\n",
    "\n",
    "# Create target variable\n",
    "y = df['default'] # y is the column we're trying to predict"
   ]
  },
  {
   "source": [
    "### Checking for class imbalance in 'default' column"
   ],
   "cell_type": "markdown",
   "metadata": {}
  },
  {
   "cell_type": "code",
   "execution_count": 28,
   "metadata": {},
   "outputs": [
    {
     "output_type": "execute_result",
     "data": {
      "text/plain": [
       "0    17471\n",
       "1     5028\n",
       "Name: default, dtype: int64"
      ]
     },
     "metadata": {},
     "execution_count": 28
    }
   ],
   "source": [
    "df['default'].value_counts()\n",
    "# this means that there is a class imbalance!!"
   ]
  },
  {
   "cell_type": "code",
   "execution_count": 29,
   "metadata": {},
   "outputs": [
    {
     "output_type": "display_data",
     "data": {
      "text/plain": "<Figure size 720x360 with 1 Axes>",
      "image/svg+xml": "<?xml version=\"1.0\" encoding=\"utf-8\" standalone=\"no\"?>\n<!DOCTYPE svg PUBLIC \"-//W3C//DTD SVG 1.1//EN\"\n  \"http://www.w3.org/Graphics/SVG/1.1/DTD/svg11.dtd\">\n<!-- Created with matplotlib (https://matplotlib.org/) -->\n<svg height=\"330.08pt\" version=\"1.1\" viewBox=\"0 0 620.589062 330.08\" width=\"620.589062pt\" xmlns=\"http://www.w3.org/2000/svg\" xmlns:xlink=\"http://www.w3.org/1999/xlink\">\n <defs>\n  <style type=\"text/css\">\n*{stroke-linecap:butt;stroke-linejoin:round;}\n  </style>\n </defs>\n <g id=\"figure_1\">\n  <g id=\"patch_1\">\n   <path d=\"M 0 330.08 \nL 620.589062 330.08 \nL 620.589062 0 \nL 0 0 \nz\n\" style=\"fill:#ffffff;\"/>\n  </g>\n  <g id=\"axes_1\">\n   <g id=\"patch_2\">\n    <path d=\"M 55.389063 293.589375 \nL 613.389063 293.589375 \nL 613.389063 21.789375 \nL 55.389063 21.789375 \nz\n\" style=\"fill:#eaeaf2;\"/>\n   </g>\n   <g id=\"matplotlib.axis_1\">\n    <g id=\"xtick_1\">\n     <g id=\"text_1\">\n      <!-- 0 -->\n      <defs>\n       <path d=\"M 4.15625 35.296875 \nQ 4.15625 48 6.765625 55.734375 \nQ 9.375 63.484375 14.515625 67.671875 \nQ 19.671875 71.875 27.484375 71.875 \nQ 33.25 71.875 37.59375 69.546875 \nQ 41.9375 67.234375 44.765625 62.859375 \nQ 47.609375 58.5 49.21875 52.21875 \nQ 50.828125 45.953125 50.828125 35.296875 \nQ 50.828125 22.703125 48.234375 14.96875 \nQ 45.65625 7.234375 40.5 3 \nQ 35.359375 -1.21875 27.484375 -1.21875 \nQ 17.140625 -1.21875 11.234375 6.203125 \nQ 4.15625 15.140625 4.15625 35.296875 \nz\nM 13.1875 35.296875 \nQ 13.1875 17.671875 17.3125 11.828125 \nQ 21.4375 6 27.484375 6 \nQ 33.546875 6 37.671875 11.859375 \nQ 41.796875 17.71875 41.796875 35.296875 \nQ 41.796875 52.984375 37.671875 58.78125 \nQ 33.546875 64.59375 27.390625 64.59375 \nQ 21.34375 64.59375 17.71875 59.46875 \nQ 13.1875 52.9375 13.1875 35.296875 \nz\n\" id=\"ArialMT-48\"/>\n      </defs>\n      <g style=\"fill:#262626;\" transform=\"translate(192.108594 307.747187)scale(0.1 -0.1)\">\n       <use xlink:href=\"#ArialMT-48\"/>\n      </g>\n     </g>\n    </g>\n    <g id=\"xtick_2\">\n     <g id=\"text_2\">\n      <!-- 1 -->\n      <defs>\n       <path d=\"M 37.25 0 \nL 28.46875 0 \nL 28.46875 56 \nQ 25.296875 52.984375 20.140625 49.953125 \nQ 14.984375 46.921875 10.890625 45.40625 \nL 10.890625 53.90625 \nQ 18.265625 57.375 23.78125 62.296875 \nQ 29.296875 67.234375 31.59375 71.875 \nL 37.25 71.875 \nz\n\" id=\"ArialMT-49\"/>\n      </defs>\n      <g style=\"fill:#262626;\" transform=\"translate(471.108594 307.747187)scale(0.1 -0.1)\">\n       <use xlink:href=\"#ArialMT-49\"/>\n      </g>\n     </g>\n    </g>\n    <g id=\"text_3\">\n     <!-- default -->\n     <defs>\n      <path d=\"M 40.234375 0 \nL 40.234375 6.546875 \nQ 35.296875 -1.171875 25.734375 -1.171875 \nQ 19.53125 -1.171875 14.328125 2.25 \nQ 9.125 5.671875 6.265625 11.796875 \nQ 3.421875 17.921875 3.421875 25.875 \nQ 3.421875 33.640625 6 39.96875 \nQ 8.59375 46.296875 13.765625 49.65625 \nQ 18.953125 53.03125 25.34375 53.03125 \nQ 30.03125 53.03125 33.6875 51.046875 \nQ 37.359375 49.078125 39.65625 45.90625 \nL 39.65625 71.578125 \nL 48.390625 71.578125 \nL 48.390625 0 \nz\nM 12.453125 25.875 \nQ 12.453125 15.921875 16.640625 10.984375 \nQ 20.84375 6.0625 26.5625 6.0625 \nQ 32.328125 6.0625 36.34375 10.765625 \nQ 40.375 15.484375 40.375 25.140625 \nQ 40.375 35.796875 36.265625 40.765625 \nQ 32.171875 45.75 26.171875 45.75 \nQ 20.3125 45.75 16.375 40.96875 \nQ 12.453125 36.1875 12.453125 25.875 \nz\n\" id=\"ArialMT-100\"/>\n      <path d=\"M 42.09375 16.703125 \nL 51.171875 15.578125 \nQ 49.03125 7.625 43.21875 3.21875 \nQ 37.40625 -1.171875 28.375 -1.171875 \nQ 17 -1.171875 10.328125 5.828125 \nQ 3.65625 12.84375 3.65625 25.484375 \nQ 3.65625 38.578125 10.390625 45.796875 \nQ 17.140625 53.03125 27.875 53.03125 \nQ 38.28125 53.03125 44.875 45.953125 \nQ 51.46875 38.875 51.46875 26.03125 \nQ 51.46875 25.25 51.421875 23.6875 \nL 12.75 23.6875 \nQ 13.234375 15.140625 17.578125 10.59375 \nQ 21.921875 6.0625 28.421875 6.0625 \nQ 33.25 6.0625 36.671875 8.59375 \nQ 40.09375 11.140625 42.09375 16.703125 \nz\nM 13.234375 30.90625 \nL 42.1875 30.90625 \nQ 41.609375 37.453125 38.875 40.71875 \nQ 34.671875 45.796875 27.984375 45.796875 \nQ 21.921875 45.796875 17.796875 41.75 \nQ 13.671875 37.703125 13.234375 30.90625 \nz\n\" id=\"ArialMT-101\"/>\n      <path d=\"M 8.6875 0 \nL 8.6875 45.015625 \nL 0.921875 45.015625 \nL 0.921875 51.859375 \nL 8.6875 51.859375 \nL 8.6875 57.375 \nQ 8.6875 62.59375 9.625 65.140625 \nQ 10.890625 68.5625 14.078125 70.671875 \nQ 17.28125 72.796875 23.046875 72.796875 \nQ 26.765625 72.796875 31.25 71.921875 \nL 29.9375 64.265625 \nQ 27.203125 64.75 24.75 64.75 \nQ 20.75 64.75 19.09375 63.03125 \nQ 17.4375 61.328125 17.4375 56.640625 \nL 17.4375 51.859375 \nL 27.546875 51.859375 \nL 27.546875 45.015625 \nL 17.4375 45.015625 \nL 17.4375 0 \nz\n\" id=\"ArialMT-102\"/>\n      <path d=\"M 40.4375 6.390625 \nQ 35.546875 2.25 31.03125 0.53125 \nQ 26.515625 -1.171875 21.34375 -1.171875 \nQ 12.796875 -1.171875 8.203125 3 \nQ 3.609375 7.171875 3.609375 13.671875 \nQ 3.609375 17.484375 5.34375 20.625 \nQ 7.078125 23.78125 9.890625 25.6875 \nQ 12.703125 27.59375 16.21875 28.5625 \nQ 18.796875 29.25 24.03125 29.890625 \nQ 34.671875 31.15625 39.703125 32.90625 \nQ 39.75 34.71875 39.75 35.203125 \nQ 39.75 40.578125 37.25 42.78125 \nQ 33.890625 45.75 27.25 45.75 \nQ 21.046875 45.75 18.09375 43.578125 \nQ 15.140625 41.40625 13.71875 35.890625 \nL 5.125 37.0625 \nQ 6.296875 42.578125 8.984375 45.96875 \nQ 11.671875 49.359375 16.75 51.1875 \nQ 21.828125 53.03125 28.515625 53.03125 \nQ 35.15625 53.03125 39.296875 51.46875 \nQ 43.453125 49.90625 45.40625 47.53125 \nQ 47.359375 45.171875 48.140625 41.546875 \nQ 48.578125 39.3125 48.578125 33.453125 \nL 48.578125 21.734375 \nQ 48.578125 9.46875 49.140625 6.21875 \nQ 49.703125 2.984375 51.375 0 \nL 42.1875 0 \nQ 40.828125 2.734375 40.4375 6.390625 \nz\nM 39.703125 26.03125 \nQ 34.90625 24.078125 25.34375 22.703125 \nQ 19.921875 21.921875 17.671875 20.9375 \nQ 15.4375 19.96875 14.203125 18.09375 \nQ 12.984375 16.21875 12.984375 13.921875 \nQ 12.984375 10.40625 15.640625 8.0625 \nQ 18.3125 5.71875 23.4375 5.71875 \nQ 28.515625 5.71875 32.46875 7.9375 \nQ 36.421875 10.15625 38.28125 14.015625 \nQ 39.703125 17 39.703125 22.796875 \nz\n\" id=\"ArialMT-97\"/>\n      <path d=\"M 40.578125 0 \nL 40.578125 7.625 \nQ 34.515625 -1.171875 24.125 -1.171875 \nQ 19.53125 -1.171875 15.546875 0.578125 \nQ 11.578125 2.34375 9.640625 5 \nQ 7.71875 7.671875 6.9375 11.53125 \nQ 6.390625 14.109375 6.390625 19.734375 \nL 6.390625 51.859375 \nL 15.1875 51.859375 \nL 15.1875 23.09375 \nQ 15.1875 16.21875 15.71875 13.8125 \nQ 16.546875 10.359375 19.234375 8.375 \nQ 21.921875 6.390625 25.875 6.390625 \nQ 29.828125 6.390625 33.296875 8.421875 \nQ 36.765625 10.453125 38.203125 13.9375 \nQ 39.65625 17.4375 39.65625 24.078125 \nL 39.65625 51.859375 \nL 48.4375 51.859375 \nL 48.4375 0 \nz\n\" id=\"ArialMT-117\"/>\n      <path d=\"M 6.390625 0 \nL 6.390625 71.578125 \nL 15.1875 71.578125 \nL 15.1875 0 \nz\n\" id=\"ArialMT-108\"/>\n      <path d=\"M 25.78125 7.859375 \nL 27.046875 0.09375 \nQ 23.34375 -0.6875 20.40625 -0.6875 \nQ 15.625 -0.6875 12.984375 0.828125 \nQ 10.359375 2.34375 9.28125 4.8125 \nQ 8.203125 7.28125 8.203125 15.1875 \nL 8.203125 45.015625 \nL 1.765625 45.015625 \nL 1.765625 51.859375 \nL 8.203125 51.859375 \nL 8.203125 64.703125 \nL 16.9375 69.96875 \nL 16.9375 51.859375 \nL 25.78125 51.859375 \nL 25.78125 45.015625 \nL 16.9375 45.015625 \nL 16.9375 14.703125 \nQ 16.9375 10.9375 17.40625 9.859375 \nQ 17.875 8.796875 18.921875 8.15625 \nQ 19.96875 7.515625 21.921875 7.515625 \nQ 23.390625 7.515625 25.78125 7.859375 \nz\n\" id=\"ArialMT-116\"/>\n     </defs>\n     <g style=\"fill:#262626;\" transform=\"translate(319.378125 320.8925)scale(0.1 -0.1)\">\n      <use xlink:href=\"#ArialMT-100\"/>\n      <use x=\"55.615234\" xlink:href=\"#ArialMT-101\"/>\n      <use x=\"111.230469\" xlink:href=\"#ArialMT-102\"/>\n      <use x=\"139.013672\" xlink:href=\"#ArialMT-97\"/>\n      <use x=\"194.628906\" xlink:href=\"#ArialMT-117\"/>\n      <use x=\"250.244141\" xlink:href=\"#ArialMT-108\"/>\n      <use x=\"272.460938\" xlink:href=\"#ArialMT-116\"/>\n     </g>\n    </g>\n   </g>\n   <g id=\"matplotlib.axis_2\">\n    <g id=\"ytick_1\">\n     <g id=\"line2d_1\">\n      <path clip-path=\"url(#p18b13bc612)\" d=\"M 55.389063 293.589375 \nL 613.389063 293.589375 \n\" style=\"fill:none;stroke:#ffffff;stroke-linecap:round;stroke-width:0.8;\"/>\n     </g>\n     <g id=\"text_4\">\n      <!-- 0 -->\n      <g style=\"fill:#262626;\" transform=\"translate(42.828125 297.168281)scale(0.1 -0.1)\">\n       <use xlink:href=\"#ArialMT-48\"/>\n      </g>\n     </g>\n    </g>\n    <g id=\"ytick_2\">\n     <g id=\"line2d_2\">\n      <path clip-path=\"url(#p18b13bc612)\" d=\"M 55.389063 256.548401 \nL 613.389063 256.548401 \n\" style=\"fill:none;stroke:#ffffff;stroke-linecap:round;stroke-width:0.8;\"/>\n     </g>\n     <g id=\"text_5\">\n      <!-- 2500 -->\n      <defs>\n       <path d=\"M 50.34375 8.453125 \nL 50.34375 0 \nL 3.03125 0 \nQ 2.9375 3.171875 4.046875 6.109375 \nQ 5.859375 10.9375 9.828125 15.625 \nQ 13.8125 20.3125 21.34375 26.46875 \nQ 33.015625 36.03125 37.109375 41.625 \nQ 41.21875 47.21875 41.21875 52.203125 \nQ 41.21875 57.421875 37.46875 61 \nQ 33.734375 64.59375 27.734375 64.59375 \nQ 21.390625 64.59375 17.578125 60.78125 \nQ 13.765625 56.984375 13.71875 50.25 \nL 4.6875 51.171875 \nQ 5.609375 61.28125 11.65625 66.578125 \nQ 17.71875 71.875 27.9375 71.875 \nQ 38.234375 71.875 44.234375 66.15625 \nQ 50.25 60.453125 50.25 52 \nQ 50.25 47.703125 48.484375 43.546875 \nQ 46.734375 39.40625 42.65625 34.8125 \nQ 38.578125 30.21875 29.109375 22.21875 \nQ 21.1875 15.578125 18.9375 13.203125 \nQ 16.703125 10.84375 15.234375 8.453125 \nz\n\" id=\"ArialMT-50\"/>\n       <path d=\"M 4.15625 18.75 \nL 13.375 19.53125 \nQ 14.40625 12.796875 18.140625 9.390625 \nQ 21.875 6 27.15625 6 \nQ 33.5 6 37.890625 10.78125 \nQ 42.28125 15.578125 42.28125 23.484375 \nQ 42.28125 31 38.0625 35.34375 \nQ 33.84375 39.703125 27 39.703125 \nQ 22.75 39.703125 19.328125 37.765625 \nQ 15.921875 35.84375 13.96875 32.765625 \nL 5.71875 33.84375 \nL 12.640625 70.609375 \nL 48.25 70.609375 \nL 48.25 62.203125 \nL 19.671875 62.203125 \nL 15.828125 42.96875 \nQ 22.265625 47.46875 29.34375 47.46875 \nQ 38.71875 47.46875 45.15625 40.96875 \nQ 51.609375 34.46875 51.609375 24.265625 \nQ 51.609375 14.546875 45.953125 7.46875 \nQ 39.0625 -1.21875 27.15625 -1.21875 \nQ 17.390625 -1.21875 11.203125 4.25 \nQ 5.03125 9.71875 4.15625 18.75 \nz\n\" id=\"ArialMT-53\"/>\n      </defs>\n      <g style=\"fill:#262626;\" transform=\"translate(26.145313 260.127307)scale(0.1 -0.1)\">\n       <use xlink:href=\"#ArialMT-50\"/>\n       <use x=\"55.615234\" xlink:href=\"#ArialMT-53\"/>\n       <use x=\"111.230469\" xlink:href=\"#ArialMT-48\"/>\n       <use x=\"166.845703\" xlink:href=\"#ArialMT-48\"/>\n      </g>\n     </g>\n    </g>\n    <g id=\"ytick_3\">\n     <g id=\"line2d_3\">\n      <path clip-path=\"url(#p18b13bc612)\" d=\"M 55.389063 219.507427 \nL 613.389063 219.507427 \n\" style=\"fill:none;stroke:#ffffff;stroke-linecap:round;stroke-width:0.8;\"/>\n     </g>\n     <g id=\"text_6\">\n      <!-- 5000 -->\n      <g style=\"fill:#262626;\" transform=\"translate(26.145313 223.086333)scale(0.1 -0.1)\">\n       <use xlink:href=\"#ArialMT-53\"/>\n       <use x=\"55.615234\" xlink:href=\"#ArialMT-48\"/>\n       <use x=\"111.230469\" xlink:href=\"#ArialMT-48\"/>\n       <use x=\"166.845703\" xlink:href=\"#ArialMT-48\"/>\n      </g>\n     </g>\n    </g>\n    <g id=\"ytick_4\">\n     <g id=\"line2d_4\">\n      <path clip-path=\"url(#p18b13bc612)\" d=\"M 55.389063 182.466453 \nL 613.389063 182.466453 \n\" style=\"fill:none;stroke:#ffffff;stroke-linecap:round;stroke-width:0.8;\"/>\n     </g>\n     <g id=\"text_7\">\n      <!-- 7500 -->\n      <defs>\n       <path d=\"M 4.734375 62.203125 \nL 4.734375 70.65625 \nL 51.078125 70.65625 \nL 51.078125 63.8125 \nQ 44.234375 56.546875 37.515625 44.484375 \nQ 30.8125 32.421875 27.15625 19.671875 \nQ 24.515625 10.6875 23.78125 0 \nL 14.75 0 \nQ 14.890625 8.453125 18.0625 20.40625 \nQ 21.234375 32.375 27.171875 43.484375 \nQ 33.109375 54.59375 39.796875 62.203125 \nz\n\" id=\"ArialMT-55\"/>\n      </defs>\n      <g style=\"fill:#262626;\" transform=\"translate(26.145313 186.045359)scale(0.1 -0.1)\">\n       <use xlink:href=\"#ArialMT-55\"/>\n       <use x=\"55.615234\" xlink:href=\"#ArialMT-53\"/>\n       <use x=\"111.230469\" xlink:href=\"#ArialMT-48\"/>\n       <use x=\"166.845703\" xlink:href=\"#ArialMT-48\"/>\n      </g>\n     </g>\n    </g>\n    <g id=\"ytick_5\">\n     <g id=\"line2d_5\">\n      <path clip-path=\"url(#p18b13bc612)\" d=\"M 55.389063 145.425479 \nL 613.389063 145.425479 \n\" style=\"fill:none;stroke:#ffffff;stroke-linecap:round;stroke-width:0.8;\"/>\n     </g>\n     <g id=\"text_8\">\n      <!-- 10000 -->\n      <g style=\"fill:#262626;\" transform=\"translate(20.584375 149.004385)scale(0.1 -0.1)\">\n       <use xlink:href=\"#ArialMT-49\"/>\n       <use x=\"55.615234\" xlink:href=\"#ArialMT-48\"/>\n       <use x=\"111.230469\" xlink:href=\"#ArialMT-48\"/>\n       <use x=\"166.845703\" xlink:href=\"#ArialMT-48\"/>\n       <use x=\"222.460938\" xlink:href=\"#ArialMT-48\"/>\n      </g>\n     </g>\n    </g>\n    <g id=\"ytick_6\">\n     <g id=\"line2d_6\">\n      <path clip-path=\"url(#p18b13bc612)\" d=\"M 55.389063 108.384505 \nL 613.389063 108.384505 \n\" style=\"fill:none;stroke:#ffffff;stroke-linecap:round;stroke-width:0.8;\"/>\n     </g>\n     <g id=\"text_9\">\n      <!-- 12500 -->\n      <g style=\"fill:#262626;\" transform=\"translate(20.584375 111.963411)scale(0.1 -0.1)\">\n       <use xlink:href=\"#ArialMT-49\"/>\n       <use x=\"55.615234\" xlink:href=\"#ArialMT-50\"/>\n       <use x=\"111.230469\" xlink:href=\"#ArialMT-53\"/>\n       <use x=\"166.845703\" xlink:href=\"#ArialMT-48\"/>\n       <use x=\"222.460938\" xlink:href=\"#ArialMT-48\"/>\n      </g>\n     </g>\n    </g>\n    <g id=\"ytick_7\">\n     <g id=\"line2d_7\">\n      <path clip-path=\"url(#p18b13bc612)\" d=\"M 55.389063 71.343531 \nL 613.389063 71.343531 \n\" style=\"fill:none;stroke:#ffffff;stroke-linecap:round;stroke-width:0.8;\"/>\n     </g>\n     <g id=\"text_10\">\n      <!-- 15000 -->\n      <g style=\"fill:#262626;\" transform=\"translate(20.584375 74.922437)scale(0.1 -0.1)\">\n       <use xlink:href=\"#ArialMT-49\"/>\n       <use x=\"55.615234\" xlink:href=\"#ArialMT-53\"/>\n       <use x=\"111.230469\" xlink:href=\"#ArialMT-48\"/>\n       <use x=\"166.845703\" xlink:href=\"#ArialMT-48\"/>\n       <use x=\"222.460938\" xlink:href=\"#ArialMT-48\"/>\n      </g>\n     </g>\n    </g>\n    <g id=\"ytick_8\">\n     <g id=\"line2d_8\">\n      <path clip-path=\"url(#p18b13bc612)\" d=\"M 55.389063 34.302557 \nL 613.389063 34.302557 \n\" style=\"fill:none;stroke:#ffffff;stroke-linecap:round;stroke-width:0.8;\"/>\n     </g>\n     <g id=\"text_11\">\n      <!-- 17500 -->\n      <g style=\"fill:#262626;\" transform=\"translate(20.584375 37.881463)scale(0.1 -0.1)\">\n       <use xlink:href=\"#ArialMT-49\"/>\n       <use x=\"55.615234\" xlink:href=\"#ArialMT-55\"/>\n       <use x=\"111.230469\" xlink:href=\"#ArialMT-53\"/>\n       <use x=\"166.845703\" xlink:href=\"#ArialMT-48\"/>\n       <use x=\"222.460938\" xlink:href=\"#ArialMT-48\"/>\n      </g>\n     </g>\n    </g>\n    <g id=\"text_12\">\n     <!-- # of Study Participants -->\n     <defs>\n      <path d=\"M 5.03125 -1.21875 \nL 9.28125 19.578125 \nL 1.03125 19.578125 \nL 1.03125 26.859375 \nL 10.75 26.859375 \nL 14.359375 44.578125 \nL 1.03125 44.578125 \nL 1.03125 51.859375 \nL 15.828125 51.859375 \nL 20.0625 72.796875 \nL 27.390625 72.796875 \nL 23.140625 51.859375 \nL 38.53125 51.859375 \nL 42.78125 72.796875 \nL 50.140625 72.796875 \nL 45.90625 51.859375 \nL 54.34375 51.859375 \nL 54.34375 44.578125 \nL 44.4375 44.578125 \nL 40.765625 26.859375 \nL 54.34375 26.859375 \nL 54.34375 19.578125 \nL 39.3125 19.578125 \nL 35.0625 -1.21875 \nL 27.734375 -1.21875 \nL 31.9375 19.578125 \nL 16.609375 19.578125 \nL 12.359375 -1.21875 \nz\nM 18.0625 26.859375 \nL 33.40625 26.859375 \nL 37.0625 44.578125 \nL 21.6875 44.578125 \nz\n\" id=\"ArialMT-35\"/>\n      <path id=\"ArialMT-32\"/>\n      <path d=\"M 3.328125 25.921875 \nQ 3.328125 40.328125 11.328125 47.265625 \nQ 18.015625 53.03125 27.640625 53.03125 \nQ 38.328125 53.03125 45.109375 46.015625 \nQ 51.90625 39.015625 51.90625 26.65625 \nQ 51.90625 16.65625 48.90625 10.90625 \nQ 45.90625 5.171875 40.15625 2 \nQ 34.421875 -1.171875 27.640625 -1.171875 \nQ 16.75 -1.171875 10.03125 5.8125 \nQ 3.328125 12.796875 3.328125 25.921875 \nz\nM 12.359375 25.921875 \nQ 12.359375 15.96875 16.703125 11.015625 \nQ 21.046875 6.0625 27.640625 6.0625 \nQ 34.1875 6.0625 38.53125 11.03125 \nQ 42.875 16.015625 42.875 26.21875 \nQ 42.875 35.84375 38.5 40.796875 \nQ 34.125 45.75 27.640625 45.75 \nQ 21.046875 45.75 16.703125 40.8125 \nQ 12.359375 35.890625 12.359375 25.921875 \nz\n\" id=\"ArialMT-111\"/>\n      <path d=\"M 4.5 23 \nL 13.421875 23.78125 \nQ 14.0625 18.40625 16.375 14.96875 \nQ 18.703125 11.53125 23.578125 9.40625 \nQ 28.46875 7.28125 34.578125 7.28125 \nQ 39.984375 7.28125 44.140625 8.890625 \nQ 48.296875 10.5 50.3125 13.296875 \nQ 52.34375 16.109375 52.34375 19.4375 \nQ 52.34375 22.796875 50.390625 25.3125 \nQ 48.4375 27.828125 43.953125 29.546875 \nQ 41.0625 30.671875 31.203125 33.03125 \nQ 21.34375 35.40625 17.390625 37.5 \nQ 12.25 40.1875 9.734375 44.15625 \nQ 7.234375 48.140625 7.234375 53.078125 \nQ 7.234375 58.5 10.296875 63.203125 \nQ 13.375 67.921875 19.28125 70.359375 \nQ 25.203125 72.796875 32.421875 72.796875 \nQ 40.375 72.796875 46.453125 70.234375 \nQ 52.546875 67.671875 55.8125 62.6875 \nQ 59.078125 57.71875 59.328125 51.421875 \nL 50.25 50.734375 \nQ 49.515625 57.515625 45.28125 60.984375 \nQ 41.0625 64.453125 32.8125 64.453125 \nQ 24.21875 64.453125 20.28125 61.296875 \nQ 16.359375 58.15625 16.359375 53.71875 \nQ 16.359375 49.859375 19.140625 47.359375 \nQ 21.875 44.875 33.421875 42.265625 \nQ 44.96875 39.65625 49.265625 37.703125 \nQ 55.515625 34.8125 58.484375 30.390625 \nQ 61.46875 25.984375 61.46875 20.21875 \nQ 61.46875 14.5 58.203125 9.4375 \nQ 54.9375 4.390625 48.796875 1.578125 \nQ 42.671875 -1.21875 35.015625 -1.21875 \nQ 25.296875 -1.21875 18.71875 1.609375 \nQ 12.15625 4.4375 8.421875 10.125 \nQ 4.6875 15.828125 4.5 23 \nz\n\" id=\"ArialMT-83\"/>\n      <path d=\"M 6.203125 -19.96875 \nL 5.21875 -11.71875 \nQ 8.109375 -12.5 10.25 -12.5 \nQ 13.1875 -12.5 14.9375 -11.515625 \nQ 16.703125 -10.546875 17.828125 -8.796875 \nQ 18.65625 -7.46875 20.515625 -2.25 \nQ 20.75 -1.515625 21.296875 -0.09375 \nL 1.609375 51.859375 \nL 11.078125 51.859375 \nL 21.875 21.828125 \nQ 23.96875 16.109375 25.640625 9.8125 \nQ 27.15625 15.875 29.25 21.625 \nL 40.328125 51.859375 \nL 49.125 51.859375 \nL 29.390625 -0.875 \nQ 26.21875 -9.421875 24.46875 -12.640625 \nQ 22.125 -17 19.09375 -19.015625 \nQ 16.0625 -21.046875 11.859375 -21.046875 \nQ 9.328125 -21.046875 6.203125 -19.96875 \nz\n\" id=\"ArialMT-121\"/>\n      <path d=\"M 7.71875 0 \nL 7.71875 71.578125 \nL 34.71875 71.578125 \nQ 41.84375 71.578125 45.609375 70.90625 \nQ 50.875 70.015625 54.4375 67.546875 \nQ 58.015625 65.09375 60.1875 60.640625 \nQ 62.359375 56.203125 62.359375 50.875 \nQ 62.359375 41.75 56.546875 35.421875 \nQ 50.734375 29.109375 35.546875 29.109375 \nL 17.1875 29.109375 \nL 17.1875 0 \nz\nM 17.1875 37.546875 \nL 35.6875 37.546875 \nQ 44.875 37.546875 48.734375 40.96875 \nQ 52.59375 44.390625 52.59375 50.59375 \nQ 52.59375 55.078125 50.3125 58.265625 \nQ 48.046875 61.46875 44.34375 62.5 \nQ 41.9375 63.140625 35.5 63.140625 \nL 17.1875 63.140625 \nz\n\" id=\"ArialMT-80\"/>\n      <path d=\"M 6.5 0 \nL 6.5 51.859375 \nL 14.40625 51.859375 \nL 14.40625 44 \nQ 17.4375 49.515625 20 51.265625 \nQ 22.5625 53.03125 25.640625 53.03125 \nQ 30.078125 53.03125 34.671875 50.203125 \nL 31.640625 42.046875 \nQ 28.421875 43.953125 25.203125 43.953125 \nQ 22.3125 43.953125 20.015625 42.21875 \nQ 17.71875 40.484375 16.75 37.40625 \nQ 15.28125 32.71875 15.28125 27.15625 \nL 15.28125 0 \nz\n\" id=\"ArialMT-114\"/>\n      <path d=\"M 6.640625 61.46875 \nL 6.640625 71.578125 \nL 15.4375 71.578125 \nL 15.4375 61.46875 \nz\nM 6.640625 0 \nL 6.640625 51.859375 \nL 15.4375 51.859375 \nL 15.4375 0 \nz\n\" id=\"ArialMT-105\"/>\n      <path d=\"M 40.4375 19 \nL 49.078125 17.875 \nQ 47.65625 8.9375 41.8125 3.875 \nQ 35.984375 -1.171875 27.484375 -1.171875 \nQ 16.84375 -1.171875 10.375 5.78125 \nQ 3.90625 12.75 3.90625 25.734375 \nQ 3.90625 34.125 6.6875 40.421875 \nQ 9.46875 46.734375 15.15625 49.875 \nQ 20.84375 53.03125 27.546875 53.03125 \nQ 35.984375 53.03125 41.359375 48.75 \nQ 46.734375 44.484375 48.25 36.625 \nL 39.703125 35.296875 \nQ 38.484375 40.53125 35.375 43.15625 \nQ 32.28125 45.796875 27.875 45.796875 \nQ 21.234375 45.796875 17.078125 41.03125 \nQ 12.9375 36.28125 12.9375 25.984375 \nQ 12.9375 15.53125 16.9375 10.796875 \nQ 20.953125 6.0625 27.390625 6.0625 \nQ 32.5625 6.0625 36.03125 9.234375 \nQ 39.5 12.40625 40.4375 19 \nz\n\" id=\"ArialMT-99\"/>\n      <path d=\"M 6.59375 -19.875 \nL 6.59375 51.859375 \nL 14.59375 51.859375 \nL 14.59375 45.125 \nQ 17.4375 49.078125 21 51.046875 \nQ 24.5625 53.03125 29.640625 53.03125 \nQ 36.28125 53.03125 41.359375 49.609375 \nQ 46.4375 46.1875 49.015625 39.953125 \nQ 51.609375 33.734375 51.609375 26.3125 \nQ 51.609375 18.359375 48.75 11.984375 \nQ 45.90625 5.609375 40.453125 2.21875 \nQ 35.015625 -1.171875 29 -1.171875 \nQ 24.609375 -1.171875 21.109375 0.6875 \nQ 17.625 2.546875 15.375 5.375 \nL 15.375 -19.875 \nz\nM 14.546875 25.640625 \nQ 14.546875 15.625 18.59375 10.84375 \nQ 22.65625 6.0625 28.421875 6.0625 \nQ 34.28125 6.0625 38.453125 11.015625 \nQ 42.625 15.96875 42.625 26.375 \nQ 42.625 36.28125 38.546875 41.203125 \nQ 34.46875 46.140625 28.8125 46.140625 \nQ 23.1875 46.140625 18.859375 40.890625 \nQ 14.546875 35.640625 14.546875 25.640625 \nz\n\" id=\"ArialMT-112\"/>\n      <path d=\"M 6.59375 0 \nL 6.59375 51.859375 \nL 14.5 51.859375 \nL 14.5 44.484375 \nQ 20.21875 53.03125 31 53.03125 \nQ 35.6875 53.03125 39.625 51.34375 \nQ 43.5625 49.65625 45.515625 46.921875 \nQ 47.46875 44.1875 48.25 40.4375 \nQ 48.734375 37.984375 48.734375 31.890625 \nL 48.734375 0 \nL 39.9375 0 \nL 39.9375 31.546875 \nQ 39.9375 36.921875 38.90625 39.578125 \nQ 37.890625 42.234375 35.28125 43.8125 \nQ 32.671875 45.40625 29.15625 45.40625 \nQ 23.53125 45.40625 19.453125 41.84375 \nQ 15.375 38.28125 15.375 28.328125 \nL 15.375 0 \nz\n\" id=\"ArialMT-110\"/>\n      <path d=\"M 3.078125 15.484375 \nL 11.765625 16.84375 \nQ 12.5 11.625 15.84375 8.84375 \nQ 19.1875 6.0625 25.203125 6.0625 \nQ 31.25 6.0625 34.171875 8.515625 \nQ 37.109375 10.984375 37.109375 14.3125 \nQ 37.109375 17.28125 34.515625 19 \nQ 32.71875 20.171875 25.53125 21.96875 \nQ 15.875 24.421875 12.140625 26.203125 \nQ 8.40625 27.984375 6.46875 31.125 \nQ 4.546875 34.28125 4.546875 38.09375 \nQ 4.546875 41.546875 6.125 44.5 \nQ 7.71875 47.46875 10.453125 49.421875 \nQ 12.5 50.921875 16.03125 51.96875 \nQ 19.578125 53.03125 23.640625 53.03125 \nQ 29.734375 53.03125 34.34375 51.265625 \nQ 38.96875 49.515625 41.15625 46.5 \nQ 43.359375 43.5 44.1875 38.484375 \nL 35.59375 37.3125 \nQ 35.015625 41.3125 32.203125 43.546875 \nQ 29.390625 45.796875 24.265625 45.796875 \nQ 18.21875 45.796875 15.625 43.796875 \nQ 13.03125 41.796875 13.03125 39.109375 \nQ 13.03125 37.40625 14.109375 36.03125 \nQ 15.1875 34.625 17.484375 33.6875 \nQ 18.796875 33.203125 25.25 31.453125 \nQ 34.578125 28.953125 38.25 27.359375 \nQ 41.9375 25.78125 44.03125 22.75 \nQ 46.140625 19.734375 46.140625 15.234375 \nQ 46.140625 10.84375 43.578125 6.953125 \nQ 41.015625 3.078125 36.171875 0.953125 \nQ 31.34375 -1.171875 25.25 -1.171875 \nQ 15.140625 -1.171875 9.84375 3.03125 \nQ 4.546875 7.234375 3.078125 15.484375 \nz\n\" id=\"ArialMT-115\"/>\n     </defs>\n     <g style=\"fill:#262626;\" transform=\"translate(14.479688 207.713594)rotate(-90)scale(0.1 -0.1)\">\n      <use xlink:href=\"#ArialMT-35\"/>\n      <use x=\"55.615234\" xlink:href=\"#ArialMT-32\"/>\n      <use x=\"83.398438\" xlink:href=\"#ArialMT-111\"/>\n      <use x=\"139.013672\" xlink:href=\"#ArialMT-102\"/>\n      <use x=\"166.796875\" xlink:href=\"#ArialMT-32\"/>\n      <use x=\"194.580078\" xlink:href=\"#ArialMT-83\"/>\n      <use x=\"261.279297\" xlink:href=\"#ArialMT-116\"/>\n      <use x=\"289.0625\" xlink:href=\"#ArialMT-117\"/>\n      <use x=\"344.677734\" xlink:href=\"#ArialMT-100\"/>\n      <use x=\"400.292969\" xlink:href=\"#ArialMT-121\"/>\n      <use x=\"450.292969\" xlink:href=\"#ArialMT-32\"/>\n      <use x=\"478.076172\" xlink:href=\"#ArialMT-80\"/>\n      <use x=\"544.775391\" xlink:href=\"#ArialMT-97\"/>\n      <use x=\"600.390625\" xlink:href=\"#ArialMT-114\"/>\n      <use x=\"633.691406\" xlink:href=\"#ArialMT-116\"/>\n      <use x=\"661.474609\" xlink:href=\"#ArialMT-105\"/>\n      <use x=\"683.691406\" xlink:href=\"#ArialMT-99\"/>\n      <use x=\"733.691406\" xlink:href=\"#ArialMT-105\"/>\n      <use x=\"755.908203\" xlink:href=\"#ArialMT-112\"/>\n      <use x=\"811.523438\" xlink:href=\"#ArialMT-97\"/>\n      <use x=\"867.138672\" xlink:href=\"#ArialMT-110\"/>\n      <use x=\"922.753906\" xlink:href=\"#ArialMT-116\"/>\n      <use x=\"950.537109\" xlink:href=\"#ArialMT-115\"/>\n     </g>\n    </g>\n   </g>\n   <g id=\"patch_3\">\n    <path clip-path=\"url(#p18b13bc612)\" d=\"M 83.289063 293.589375 \nL 306.489063 293.589375 \nL 306.489063 34.732232 \nL 83.289063 34.732232 \nz\n\" style=\"fill:#9ce29c;opacity:0.8;stroke:#ffffff;stroke-linejoin:miter;\"/>\n   </g>\n   <g id=\"patch_4\">\n    <path clip-path=\"url(#p18b13bc612)\" d=\"M 362.289062 293.589375 \nL 585.489063 293.589375 \nL 585.489063 219.092568 \nL 362.289062 219.092568 \nz\n\" style=\"fill:#808080;opacity:0.8;stroke:#ffffff;stroke-linejoin:miter;\"/>\n   </g>\n   <g id=\"patch_5\">\n    <path d=\"M 55.389063 293.589375 \nL 55.389063 21.789375 \n\" style=\"fill:none;stroke:#ffffff;stroke-linecap:square;stroke-linejoin:miter;stroke-width:0.8;\"/>\n   </g>\n   <g id=\"patch_6\">\n    <path d=\"M 613.389063 293.589375 \nL 613.389063 21.789375 \n\" style=\"fill:none;stroke:#ffffff;stroke-linecap:square;stroke-linejoin:miter;stroke-width:0.8;\"/>\n   </g>\n   <g id=\"patch_7\">\n    <path d=\"M 55.389063 293.589375 \nL 613.389063 293.589375 \n\" style=\"fill:none;stroke:#ffffff;stroke-linecap:square;stroke-linejoin:miter;stroke-width:0.8;\"/>\n   </g>\n   <g id=\"patch_8\">\n    <path d=\"M 55.389063 21.789375 \nL 613.389063 21.789375 \n\" style=\"fill:none;stroke:#ffffff;stroke-linecap:square;stroke-linejoin:miter;stroke-width:0.8;\"/>\n   </g>\n   <g id=\"text_13\">\n    <!-- Default vs Non-Default -->\n    <defs>\n     <path d=\"M 7.71875 0 \nL 7.71875 71.578125 \nL 32.375 71.578125 \nQ 40.71875 71.578125 45.125 70.5625 \nQ 51.265625 69.140625 55.609375 65.4375 \nQ 61.28125 60.640625 64.078125 53.1875 \nQ 66.890625 45.75 66.890625 36.1875 \nQ 66.890625 28.03125 64.984375 21.734375 \nQ 63.09375 15.4375 60.109375 11.296875 \nQ 57.125 7.171875 53.578125 4.796875 \nQ 50.046875 2.4375 45.046875 1.21875 \nQ 40.046875 0 33.546875 0 \nz\nM 17.1875 8.453125 \nL 32.46875 8.453125 \nQ 39.546875 8.453125 43.578125 9.765625 \nQ 47.609375 11.078125 50 13.484375 \nQ 53.375 16.84375 55.25 22.53125 \nQ 57.125 28.21875 57.125 36.328125 \nQ 57.125 47.5625 53.4375 53.59375 \nQ 49.75 59.625 44.484375 61.671875 \nQ 40.671875 63.140625 32.234375 63.140625 \nL 17.1875 63.140625 \nz\n\" id=\"ArialMT-68\"/>\n     <path d=\"M 21 0 \nL 1.265625 51.859375 \nL 10.546875 51.859375 \nL 21.6875 20.796875 \nQ 23.484375 15.765625 25 10.359375 \nQ 26.171875 14.453125 28.265625 20.21875 \nL 39.796875 51.859375 \nL 48.828125 51.859375 \nL 29.203125 0 \nz\n\" id=\"ArialMT-118\"/>\n     <path d=\"M 7.625 0 \nL 7.625 71.578125 \nL 17.328125 71.578125 \nL 54.9375 15.375 \nL 54.9375 71.578125 \nL 64.015625 71.578125 \nL 64.015625 0 \nL 54.296875 0 \nL 16.703125 56.25 \nL 16.703125 0 \nz\n\" id=\"ArialMT-78\"/>\n     <path d=\"M 3.171875 21.484375 \nL 3.171875 30.328125 \nL 30.171875 30.328125 \nL 30.171875 21.484375 \nz\n\" id=\"ArialMT-45\"/>\n    </defs>\n    <g style=\"fill:#262626;\" transform=\"translate(274.031875 15.789375)scale(0.12 -0.12)\">\n     <use xlink:href=\"#ArialMT-68\"/>\n     <use x=\"72.216797\" xlink:href=\"#ArialMT-101\"/>\n     <use x=\"127.832031\" xlink:href=\"#ArialMT-102\"/>\n     <use x=\"155.615234\" xlink:href=\"#ArialMT-97\"/>\n     <use x=\"211.230469\" xlink:href=\"#ArialMT-117\"/>\n     <use x=\"266.845703\" xlink:href=\"#ArialMT-108\"/>\n     <use x=\"289.0625\" xlink:href=\"#ArialMT-116\"/>\n     <use x=\"316.845703\" xlink:href=\"#ArialMT-32\"/>\n     <use x=\"344.628906\" xlink:href=\"#ArialMT-118\"/>\n     <use x=\"394.628906\" xlink:href=\"#ArialMT-115\"/>\n     <use x=\"444.628906\" xlink:href=\"#ArialMT-32\"/>\n     <use x=\"472.412109\" xlink:href=\"#ArialMT-78\"/>\n     <use x=\"544.628906\" xlink:href=\"#ArialMT-111\"/>\n     <use x=\"600.244141\" xlink:href=\"#ArialMT-110\"/>\n     <use x=\"655.859375\" xlink:href=\"#ArialMT-45\"/>\n     <use x=\"689.160156\" xlink:href=\"#ArialMT-68\"/>\n     <use x=\"761.376953\" xlink:href=\"#ArialMT-101\"/>\n     <use x=\"816.992188\" xlink:href=\"#ArialMT-102\"/>\n     <use x=\"844.775391\" xlink:href=\"#ArialMT-97\"/>\n     <use x=\"900.390625\" xlink:href=\"#ArialMT-117\"/>\n     <use x=\"956.005859\" xlink:href=\"#ArialMT-108\"/>\n     <use x=\"978.222656\" xlink:href=\"#ArialMT-116\"/>\n    </g>\n   </g>\n  </g>\n </g>\n <defs>\n  <clipPath id=\"p18b13bc612\">\n   <rect height=\"271.8\" width=\"558\" x=\"55.389063\" y=\"21.789375\"/>\n  </clipPath>\n </defs>\n</svg>\n",
      "image/png": "[encoded data removed]"
     },
     "metadata": {}
    }
   ],
   "source": [
    "sns.set_style('darkgrid')\n",
    "plt.figure(figsize = (10,5))\n",
    "sns.countplot(y, alpha =.80, palette= ['lightgreen','grey'])\n",
    "plt.title('Default vs Non-Default')\n",
    "plt.ylabel('# of Study Participants')\n",
    "plt.show()"
   ]
  },
  {
   "source": [
    "### We can deal with this class imbalance by just penalizing the algorithm with `weights = distance` for KNN and `class_weight = balanced` for Logistic Regression"
   ],
   "cell_type": "markdown",
   "metadata": {}
  },
  {
   "cell_type": "code",
   "execution_count": 30,
   "metadata": {},
   "outputs": [],
   "source": [
    "# performing the TTS\n",
    "X_train, X_test, y_train, y_test = train_test_split(X, y, test_size=0.25, random_state=7)"
   ]
  },
  {
   "cell_type": "code",
   "execution_count": 31,
   "metadata": {},
   "outputs": [],
   "source": [
    "scaler = StandardScaler()  \n",
    "scaler.fit(X_train)\n",
    "\n",
    "X_train = scaler.transform(X_train)  \n",
    "X_test = scaler.transform(X_test)"
   ]
  },
  {
   "cell_type": "markdown",
   "metadata": {},
   "source": [
    "## 5. Model Fitting and Hyperparameter Tuning\n",
    "KNN, Logistic Regression, Decision Tree"
   ]
  },
  {
   "source": [
    "## Model 1: K Nearest Neighbors"
   ],
   "cell_type": "markdown",
   "metadata": {}
  },
  {
   "source": [
    "knn = KNeighborsClassifier(n_neighbors=6, weights='distance')\n",
    "knn.fit(X_train, y_train)"
   ],
   "cell_type": "code",
   "metadata": {},
   "execution_count": 32,
   "outputs": [
    {
     "output_type": "execute_result",
     "data": {
      "text/plain": [
       "KNeighborsClassifier(n_neighbors=6, weights='distance')"
      ]
     },
     "metadata": {},
     "execution_count": 32
    }
   ]
  },
  {
   "cell_type": "code",
   "execution_count": 33,
   "metadata": {},
   "outputs": [],
   "source": [
    "# predict the training set\n",
    "knn_y_pred_train = knn.predict(X_train)\n",
    "\n",
    "# Predict the for test set\n",
    "knn_tree_y_pred_test = knn.predict(X_test)"
   ]
  },
  {
   "cell_type": "code",
   "execution_count": 34,
   "metadata": {},
   "outputs": [
    {
     "output_type": "stream",
     "name": "stdout",
     "text": [
      "Untuned K Nearest Neighbors Model\nTraining F1 Score:  0.9993359011820959\nTesting F1 Score:  0.424415832141154\n"
     ]
    }
   ],
   "source": [
    "print('Untuned K Nearest Neighbors Model')\n",
    "print(\"Training F1 Score: \", metrics.f1_score(y_train, knn_y_pred_train))\n",
    "print(\"Testing F1 Score: \", metrics.f1_score(y_test, knn_tree_y_pred_test))"
   ]
  },
  {
   "source": [
    "### Use grid search to optomize the hyperparameters"
   ],
   "cell_type": "markdown",
   "metadata": {}
  },
  {
   "cell_type": "code",
   "execution_count": 35,
   "metadata": {},
   "outputs": [],
   "source": [
    "# creating our estimator\n",
    "k_near = KNeighborsClassifier(weights='distance')"
   ]
  },
  {
   "cell_type": "code",
   "execution_count": 36,
   "metadata": {},
   "outputs": [],
   "source": [
    "# creating our parameters to test\n",
    "k_param_dict={'n_neighbors': range(4,15,1)}"
   ]
  },
  {
   "cell_type": "code",
   "execution_count": 37,
   "metadata": {},
   "outputs": [],
   "source": [
    "# create the instance of GridSearchCV using the F1 metric for our scoring. \n",
    "grid_k_neighbors = GridSearchCV(k_near, k_param_dict, cv=5, scoring='f1', verbose=1)"
   ]
  },
  {
   "cell_type": "code",
   "execution_count": 38,
   "metadata": {},
   "outputs": [
    {
     "output_type": "stream",
     "name": "stdout",
     "text": [
      "Fitting 5 folds for each of 11 candidates, totalling 55 fits\n",
      "[Parallel(n_jobs=1)]: Using backend SequentialBackend with 1 concurrent workers.\n",
      "[Parallel(n_jobs=1)]: Done  55 out of  55 | elapsed:  1.9min finished\n"
     ]
    },
    {
     "output_type": "execute_result",
     "data": {
      "text/plain": [
       "GridSearchCV(cv=5, estimator=KNeighborsClassifier(weights='distance'),\n",
       "             param_grid={'n_neighbors': range(4, 15)}, scoring='f1', verbose=1)"
      ]
     },
     "metadata": {},
     "execution_count": 38
    }
   ],
   "source": [
    "# fit the grid search to our data\n",
    "grid_k_neighbors.fit(X_train, y_train)"
   ]
  },
  {
   "cell_type": "code",
   "execution_count": 39,
   "metadata": {},
   "outputs": [
    {
     "output_type": "stream",
     "name": "stdout",
     "text": [
      "F1 Score: 0.43350915712592125\nBest Hyperparameters: {'n_neighbors': 14}\nModel object with best parameters: \nKNeighborsClassifier(n_neighbors=14, weights='distance')\n"
     ]
    }
   ],
   "source": [
    "# examine the best model\n",
    "# Best F1 scoree achieved across all params\n",
    "print('F1 Score:', grid_k_neighbors.best_score_)\n",
    "\n",
    "# Checking dictionary showing the best hyperparameters used to generate that score\n",
    "print('Best Hyperparameters:', grid_k_neighbors.best_params_)\n",
    "\n",
    "# Actual model object fit with those best parameters\n",
    "# also shows default parameters that we did not specify\n",
    "print('Model object with best parameters: ')\n",
    "print(grid_k_neighbors.best_estimator_)"
   ]
  },
  {
   "cell_type": "code",
   "execution_count": 40,
   "metadata": {},
   "outputs": [
    {
     "output_type": "stream",
     "name": "stdout",
     "text": [
      "Tuned K Nearest Neighbors Predictions\nF1 on train set: 0.9993359011820959\nF1 on test set: 0.4361757105943152\n"
     ]
    }
   ],
   "source": [
    "# Predict the response for test dataset\n",
    "tuned_k_neighbors_y_pred_train = grid_k_neighbors.best_estimator_.predict(X_train)\n",
    "\n",
    "# predict the training set\n",
    "tuned_k_neighbors_y_pred_test = grid_k_neighbors.best_estimator_.predict(X_test)\n",
    "\n",
    "# Model F1, how often is the classifier correct?\n",
    "print('Tuned K Nearest Neighbors Predictions')\n",
    "print(\"F1 on train set:\",metrics.f1_score(y_train, tuned_k_neighbors_y_pred_train))\n",
    "print(\"F1 on test set:\",metrics.f1_score(y_test, tuned_k_neighbors_y_pred_test))"
   ]
  },
  {
   "source": [
    "## Model 2: Logisitic Regression"
   ],
   "cell_type": "markdown",
   "metadata": {}
  },
  {
   "cell_type": "code",
   "execution_count": 41,
   "metadata": {},
   "outputs": [
    {
     "output_type": "execute_result",
     "data": {
      "text/plain": [
       "LogisticRegression(C=1000000000.0, class_weight='balanced')"
      ]
     },
     "metadata": {},
     "execution_count": 41
    }
   ],
   "source": [
    "# instantiate\n",
    "logreg = LogisticRegression(C=1e9, class_weight='balanced')\n",
    "logreg.fit(X_train, y_train)"
   ]
  },
  {
   "cell_type": "code",
   "execution_count": 42,
   "metadata": {},
   "outputs": [],
   "source": [
    "# predict the training set\n",
    "logreg_y_pred_train = logreg.predict(X_train)\n",
    "# Predict the for test set\n",
    "logreg_y_pred_test = logreg.predict(X_test)"
   ]
  },
  {
   "cell_type": "code",
   "execution_count": 43,
   "metadata": {},
   "outputs": [
    {
     "output_type": "stream",
     "name": "stdout",
     "text": [
      "Untuned Logistic Regression Model\nTraining F1 Score:  0.525810028335592\nTesting F1 Score:  0.5414847161572053\n"
     ]
    }
   ],
   "source": [
    "print('Untuned Logistic Regression Model')\n",
    "print(\"Training F1 Score: \", metrics.f1_score(y_train, logreg_y_pred_train))\n",
    "print(\"Testing F1 Score: \", metrics.f1_score(y_test, logreg_y_pred_test))"
   ]
  },
  {
   "cell_type": "code",
   "execution_count": 44,
   "metadata": {},
   "outputs": [],
   "source": [
    "y_pred_prob = logreg.predict_proba(X_test)[:, 1]"
   ]
  },
  {
   "cell_type": "code",
   "execution_count": 45,
   "metadata": {},
   "outputs": [
    {
     "output_type": "display_data",
     "data": {
      "text/plain": "<Figure size 432x288 with 1 Axes>",
      "image/svg+xml": "<?xml version=\"1.0\" encoding=\"utf-8\" standalone=\"no\"?>\n<!DOCTYPE svg PUBLIC \"-//W3C//DTD SVG 1.1//EN\"\n  \"http://www.w3.org/Graphics/SVG/1.1/DTD/svg11.dtd\">\n<!-- Created with matplotlib (https://matplotlib.org/) -->\n<svg height=\"276.112813pt\" version=\"1.1\" viewBox=\"0 0 390.434375 276.112813\" width=\"390.434375pt\" xmlns=\"http://www.w3.org/2000/svg\" xmlns:xlink=\"http://www.w3.org/1999/xlink\">\n <defs>\n  <style type=\"text/css\">\n*{stroke-linecap:butt;stroke-linejoin:round;}\n  </style>\n </defs>\n <g id=\"figure_1\">\n  <g id=\"patch_1\">\n   <path d=\"M 0 276.112813 \nL 390.434375 276.112813 \nL 390.434375 0 \nL 0 0 \nz\n\" style=\"fill:#ffffff;\"/>\n  </g>\n  <g id=\"axes_1\">\n   <g id=\"patch_2\">\n    <path d=\"M 41.484375 239.383125 \nL 376.284375 239.383125 \nL 376.284375 21.943125 \nL 41.484375 21.943125 \nz\n\" style=\"fill:#eaeaf2;\"/>\n   </g>\n   <g id=\"matplotlib.axis_1\">\n    <g id=\"xtick_1\">\n     <g id=\"line2d_1\">\n      <path clip-path=\"url(#p57245653d3)\" d=\"M 41.484375 239.383125 \nL 41.484375 21.943125 \n\" style=\"fill:none;stroke:#ffffff;stroke-linecap:round;stroke-width:0.8;\"/>\n     </g>\n     <g id=\"text_1\">\n      <!-- 0.0 -->\n      <defs>\n       <path d=\"M 4.15625 35.296875 \nQ 4.15625 48 6.765625 55.734375 \nQ 9.375 63.484375 14.515625 67.671875 \nQ 19.671875 71.875 27.484375 71.875 \nQ 33.25 71.875 37.59375 69.546875 \nQ 41.9375 67.234375 44.765625 62.859375 \nQ 47.609375 58.5 49.21875 52.21875 \nQ 50.828125 45.953125 50.828125 35.296875 \nQ 50.828125 22.703125 48.234375 14.96875 \nQ 45.65625 7.234375 40.5 3 \nQ 35.359375 -1.21875 27.484375 -1.21875 \nQ 17.140625 -1.21875 11.234375 6.203125 \nQ 4.15625 15.140625 4.15625 35.296875 \nz\nM 13.1875 35.296875 \nQ 13.1875 17.671875 17.3125 11.828125 \nQ 21.4375 6 27.484375 6 \nQ 33.546875 6 37.671875 11.859375 \nQ 41.796875 17.71875 41.796875 35.296875 \nQ 41.796875 52.984375 37.671875 58.78125 \nQ 33.546875 64.59375 27.390625 64.59375 \nQ 21.34375 64.59375 17.71875 59.46875 \nQ 13.1875 52.9375 13.1875 35.296875 \nz\n\" id=\"ArialMT-48\"/>\n       <path d=\"M 9.078125 0 \nL 9.078125 10.015625 \nL 19.09375 10.015625 \nL 19.09375 0 \nz\n\" id=\"ArialMT-46\"/>\n      </defs>\n      <g style=\"fill:#262626;\" transform=\"translate(34.534375 253.540938)scale(0.1 -0.1)\">\n       <use xlink:href=\"#ArialMT-48\"/>\n       <use x=\"55.615234\" xlink:href=\"#ArialMT-46\"/>\n       <use x=\"83.398438\" xlink:href=\"#ArialMT-48\"/>\n      </g>\n     </g>\n    </g>\n    <g id=\"xtick_2\">\n     <g id=\"line2d_2\">\n      <path clip-path=\"url(#p57245653d3)\" d=\"M 108.444375 239.383125 \nL 108.444375 21.943125 \n\" style=\"fill:none;stroke:#ffffff;stroke-linecap:round;stroke-width:0.8;\"/>\n     </g>\n     <g id=\"text_2\">\n      <!-- 0.2 -->\n      <defs>\n       <path d=\"M 50.34375 8.453125 \nL 50.34375 0 \nL 3.03125 0 \nQ 2.9375 3.171875 4.046875 6.109375 \nQ 5.859375 10.9375 9.828125 15.625 \nQ 13.8125 20.3125 21.34375 26.46875 \nQ 33.015625 36.03125 37.109375 41.625 \nQ 41.21875 47.21875 41.21875 52.203125 \nQ 41.21875 57.421875 37.46875 61 \nQ 33.734375 64.59375 27.734375 64.59375 \nQ 21.390625 64.59375 17.578125 60.78125 \nQ 13.765625 56.984375 13.71875 50.25 \nL 4.6875 51.171875 \nQ 5.609375 61.28125 11.65625 66.578125 \nQ 17.71875 71.875 27.9375 71.875 \nQ 38.234375 71.875 44.234375 66.15625 \nQ 50.25 60.453125 50.25 52 \nQ 50.25 47.703125 48.484375 43.546875 \nQ 46.734375 39.40625 42.65625 34.8125 \nQ 38.578125 30.21875 29.109375 22.21875 \nQ 21.1875 15.578125 18.9375 13.203125 \nQ 16.703125 10.84375 15.234375 8.453125 \nz\n\" id=\"ArialMT-50\"/>\n      </defs>\n      <g style=\"fill:#262626;\" transform=\"translate(101.494375 253.540938)scale(0.1 -0.1)\">\n       <use xlink:href=\"#ArialMT-48\"/>\n       <use x=\"55.615234\" xlink:href=\"#ArialMT-46\"/>\n       <use x=\"83.398438\" xlink:href=\"#ArialMT-50\"/>\n      </g>\n     </g>\n    </g>\n    <g id=\"xtick_3\">\n     <g id=\"line2d_3\">\n      <path clip-path=\"url(#p57245653d3)\" d=\"M 175.404375 239.383125 \nL 175.404375 21.943125 \n\" style=\"fill:none;stroke:#ffffff;stroke-linecap:round;stroke-width:0.8;\"/>\n     </g>\n     <g id=\"text_3\">\n      <!-- 0.4 -->\n      <defs>\n       <path d=\"M 32.328125 0 \nL 32.328125 17.140625 \nL 1.265625 17.140625 \nL 1.265625 25.203125 \nL 33.9375 71.578125 \nL 41.109375 71.578125 \nL 41.109375 25.203125 \nL 50.78125 25.203125 \nL 50.78125 17.140625 \nL 41.109375 17.140625 \nL 41.109375 0 \nz\nM 32.328125 25.203125 \nL 32.328125 57.46875 \nL 9.90625 25.203125 \nz\n\" id=\"ArialMT-52\"/>\n      </defs>\n      <g style=\"fill:#262626;\" transform=\"translate(168.454375 253.540938)scale(0.1 -0.1)\">\n       <use xlink:href=\"#ArialMT-48\"/>\n       <use x=\"55.615234\" xlink:href=\"#ArialMT-46\"/>\n       <use x=\"83.398438\" xlink:href=\"#ArialMT-52\"/>\n      </g>\n     </g>\n    </g>\n    <g id=\"xtick_4\">\n     <g id=\"line2d_4\">\n      <path clip-path=\"url(#p57245653d3)\" d=\"M 242.364375 239.383125 \nL 242.364375 21.943125 \n\" style=\"fill:none;stroke:#ffffff;stroke-linecap:round;stroke-width:0.8;\"/>\n     </g>\n     <g id=\"text_4\">\n      <!-- 0.6 -->\n      <defs>\n       <path d=\"M 49.75 54.046875 \nL 41.015625 53.375 \nQ 39.84375 58.546875 37.703125 60.890625 \nQ 34.125 64.65625 28.90625 64.65625 \nQ 24.703125 64.65625 21.53125 62.3125 \nQ 17.390625 59.28125 14.984375 53.46875 \nQ 12.59375 47.65625 12.5 36.921875 \nQ 15.671875 41.75 20.265625 44.09375 \nQ 24.859375 46.4375 29.890625 46.4375 \nQ 38.671875 46.4375 44.84375 39.96875 \nQ 51.03125 33.5 51.03125 23.25 \nQ 51.03125 16.5 48.125 10.71875 \nQ 45.21875 4.9375 40.140625 1.859375 \nQ 35.0625 -1.21875 28.609375 -1.21875 \nQ 17.625 -1.21875 10.6875 6.859375 \nQ 3.765625 14.9375 3.765625 33.5 \nQ 3.765625 54.25 11.421875 63.671875 \nQ 18.109375 71.875 29.4375 71.875 \nQ 37.890625 71.875 43.28125 67.140625 \nQ 48.6875 62.40625 49.75 54.046875 \nz\nM 13.875 23.1875 \nQ 13.875 18.65625 15.796875 14.5 \nQ 17.71875 10.359375 21.1875 8.171875 \nQ 24.65625 6 28.46875 6 \nQ 34.03125 6 38.03125 10.484375 \nQ 42.046875 14.984375 42.046875 22.703125 \nQ 42.046875 30.125 38.078125 34.390625 \nQ 34.125 38.671875 28.125 38.671875 \nQ 22.171875 38.671875 18.015625 34.390625 \nQ 13.875 30.125 13.875 23.1875 \nz\n\" id=\"ArialMT-54\"/>\n      </defs>\n      <g style=\"fill:#262626;\" transform=\"translate(235.414375 253.540938)scale(0.1 -0.1)\">\n       <use xlink:href=\"#ArialMT-48\"/>\n       <use x=\"55.615234\" xlink:href=\"#ArialMT-46\"/>\n       <use x=\"83.398438\" xlink:href=\"#ArialMT-54\"/>\n      </g>\n     </g>\n    </g>\n    <g id=\"xtick_5\">\n     <g id=\"line2d_5\">\n      <path clip-path=\"url(#p57245653d3)\" d=\"M 309.324375 239.383125 \nL 309.324375 21.943125 \n\" style=\"fill:none;stroke:#ffffff;stroke-linecap:round;stroke-width:0.8;\"/>\n     </g>\n     <g id=\"text_5\">\n      <!-- 0.8 -->\n      <defs>\n       <path d=\"M 17.671875 38.8125 \nQ 12.203125 40.828125 9.5625 44.53125 \nQ 6.9375 48.25 6.9375 53.421875 \nQ 6.9375 61.234375 12.546875 66.546875 \nQ 18.171875 71.875 27.484375 71.875 \nQ 36.859375 71.875 42.578125 66.421875 \nQ 48.296875 60.984375 48.296875 53.171875 \nQ 48.296875 48.1875 45.671875 44.5 \nQ 43.0625 40.828125 37.75 38.8125 \nQ 44.34375 36.671875 47.78125 31.875 \nQ 51.21875 27.09375 51.21875 20.453125 \nQ 51.21875 11.28125 44.71875 5.03125 \nQ 38.234375 -1.21875 27.640625 -1.21875 \nQ 17.046875 -1.21875 10.546875 5.046875 \nQ 4.046875 11.328125 4.046875 20.703125 \nQ 4.046875 27.6875 7.59375 32.390625 \nQ 11.140625 37.109375 17.671875 38.8125 \nz\nM 15.921875 53.71875 \nQ 15.921875 48.640625 19.1875 45.40625 \nQ 22.46875 42.1875 27.6875 42.1875 \nQ 32.765625 42.1875 36.015625 45.375 \nQ 39.265625 48.578125 39.265625 53.21875 \nQ 39.265625 58.0625 35.90625 61.359375 \nQ 32.5625 64.65625 27.59375 64.65625 \nQ 22.5625 64.65625 19.234375 61.421875 \nQ 15.921875 58.203125 15.921875 53.71875 \nz\nM 13.09375 20.65625 \nQ 13.09375 16.890625 14.875 13.375 \nQ 16.65625 9.859375 20.171875 7.921875 \nQ 23.6875 6 27.734375 6 \nQ 34.03125 6 38.125 10.046875 \nQ 42.234375 14.109375 42.234375 20.359375 \nQ 42.234375 26.703125 38.015625 30.859375 \nQ 33.796875 35.015625 27.4375 35.015625 \nQ 21.234375 35.015625 17.15625 30.90625 \nQ 13.09375 26.8125 13.09375 20.65625 \nz\n\" id=\"ArialMT-56\"/>\n      </defs>\n      <g style=\"fill:#262626;\" transform=\"translate(302.374375 253.540938)scale(0.1 -0.1)\">\n       <use xlink:href=\"#ArialMT-48\"/>\n       <use x=\"55.615234\" xlink:href=\"#ArialMT-46\"/>\n       <use x=\"83.398438\" xlink:href=\"#ArialMT-56\"/>\n      </g>\n     </g>\n    </g>\n    <g id=\"xtick_6\">\n     <g id=\"line2d_6\">\n      <path clip-path=\"url(#p57245653d3)\" d=\"M 376.284375 239.383125 \nL 376.284375 21.943125 \n\" style=\"fill:none;stroke:#ffffff;stroke-linecap:round;stroke-width:0.8;\"/>\n     </g>\n     <g id=\"text_6\">\n      <!-- 1.0 -->\n      <defs>\n       <path d=\"M 37.25 0 \nL 28.46875 0 \nL 28.46875 56 \nQ 25.296875 52.984375 20.140625 49.953125 \nQ 14.984375 46.921875 10.890625 45.40625 \nL 10.890625 53.90625 \nQ 18.265625 57.375 23.78125 62.296875 \nQ 29.296875 67.234375 31.59375 71.875 \nL 37.25 71.875 \nz\n\" id=\"ArialMT-49\"/>\n      </defs>\n      <g style=\"fill:#262626;\" transform=\"translate(369.334375 253.540938)scale(0.1 -0.1)\">\n       <use xlink:href=\"#ArialMT-49\"/>\n       <use x=\"55.615234\" xlink:href=\"#ArialMT-46\"/>\n       <use x=\"83.398438\" xlink:href=\"#ArialMT-48\"/>\n      </g>\n     </g>\n    </g>\n    <g id=\"text_7\">\n     <!-- False Positive Rate (1 - Specificity) -->\n     <defs>\n      <path d=\"M 8.203125 0 \nL 8.203125 71.578125 \nL 56.5 71.578125 \nL 56.5 63.140625 \nL 17.671875 63.140625 \nL 17.671875 40.96875 \nL 51.265625 40.96875 \nL 51.265625 32.515625 \nL 17.671875 32.515625 \nL 17.671875 0 \nz\n\" id=\"ArialMT-70\"/>\n      <path d=\"M 40.4375 6.390625 \nQ 35.546875 2.25 31.03125 0.53125 \nQ 26.515625 -1.171875 21.34375 -1.171875 \nQ 12.796875 -1.171875 8.203125 3 \nQ 3.609375 7.171875 3.609375 13.671875 \nQ 3.609375 17.484375 5.34375 20.625 \nQ 7.078125 23.78125 9.890625 25.6875 \nQ 12.703125 27.59375 16.21875 28.5625 \nQ 18.796875 29.25 24.03125 29.890625 \nQ 34.671875 31.15625 39.703125 32.90625 \nQ 39.75 34.71875 39.75 35.203125 \nQ 39.75 40.578125 37.25 42.78125 \nQ 33.890625 45.75 27.25 45.75 \nQ 21.046875 45.75 18.09375 43.578125 \nQ 15.140625 41.40625 13.71875 35.890625 \nL 5.125 37.0625 \nQ 6.296875 42.578125 8.984375 45.96875 \nQ 11.671875 49.359375 16.75 51.1875 \nQ 21.828125 53.03125 28.515625 53.03125 \nQ 35.15625 53.03125 39.296875 51.46875 \nQ 43.453125 49.90625 45.40625 47.53125 \nQ 47.359375 45.171875 48.140625 41.546875 \nQ 48.578125 39.3125 48.578125 33.453125 \nL 48.578125 21.734375 \nQ 48.578125 9.46875 49.140625 6.21875 \nQ 49.703125 2.984375 51.375 0 \nL 42.1875 0 \nQ 40.828125 2.734375 40.4375 6.390625 \nz\nM 39.703125 26.03125 \nQ 34.90625 24.078125 25.34375 22.703125 \nQ 19.921875 21.921875 17.671875 20.9375 \nQ 15.4375 19.96875 14.203125 18.09375 \nQ 12.984375 16.21875 12.984375 13.921875 \nQ 12.984375 10.40625 15.640625 8.0625 \nQ 18.3125 5.71875 23.4375 5.71875 \nQ 28.515625 5.71875 32.46875 7.9375 \nQ 36.421875 10.15625 38.28125 14.015625 \nQ 39.703125 17 39.703125 22.796875 \nz\n\" id=\"ArialMT-97\"/>\n      <path d=\"M 6.390625 0 \nL 6.390625 71.578125 \nL 15.1875 71.578125 \nL 15.1875 0 \nz\n\" id=\"ArialMT-108\"/>\n      <path d=\"M 3.078125 15.484375 \nL 11.765625 16.84375 \nQ 12.5 11.625 15.84375 8.84375 \nQ 19.1875 6.0625 25.203125 6.0625 \nQ 31.25 6.0625 34.171875 8.515625 \nQ 37.109375 10.984375 37.109375 14.3125 \nQ 37.109375 17.28125 34.515625 19 \nQ 32.71875 20.171875 25.53125 21.96875 \nQ 15.875 24.421875 12.140625 26.203125 \nQ 8.40625 27.984375 6.46875 31.125 \nQ 4.546875 34.28125 4.546875 38.09375 \nQ 4.546875 41.546875 6.125 44.5 \nQ 7.71875 47.46875 10.453125 49.421875 \nQ 12.5 50.921875 16.03125 51.96875 \nQ 19.578125 53.03125 23.640625 53.03125 \nQ 29.734375 53.03125 34.34375 51.265625 \nQ 38.96875 49.515625 41.15625 46.5 \nQ 43.359375 43.5 44.1875 38.484375 \nL 35.59375 37.3125 \nQ 35.015625 41.3125 32.203125 43.546875 \nQ 29.390625 45.796875 24.265625 45.796875 \nQ 18.21875 45.796875 15.625 43.796875 \nQ 13.03125 41.796875 13.03125 39.109375 \nQ 13.03125 37.40625 14.109375 36.03125 \nQ 15.1875 34.625 17.484375 33.6875 \nQ 18.796875 33.203125 25.25 31.453125 \nQ 34.578125 28.953125 38.25 27.359375 \nQ 41.9375 25.78125 44.03125 22.75 \nQ 46.140625 19.734375 46.140625 15.234375 \nQ 46.140625 10.84375 43.578125 6.953125 \nQ 41.015625 3.078125 36.171875 0.953125 \nQ 31.34375 -1.171875 25.25 -1.171875 \nQ 15.140625 -1.171875 9.84375 3.03125 \nQ 4.546875 7.234375 3.078125 15.484375 \nz\n\" id=\"ArialMT-115\"/>\n      <path d=\"M 42.09375 16.703125 \nL 51.171875 15.578125 \nQ 49.03125 7.625 43.21875 3.21875 \nQ 37.40625 -1.171875 28.375 -1.171875 \nQ 17 -1.171875 10.328125 5.828125 \nQ 3.65625 12.84375 3.65625 25.484375 \nQ 3.65625 38.578125 10.390625 45.796875 \nQ 17.140625 53.03125 27.875 53.03125 \nQ 38.28125 53.03125 44.875 45.953125 \nQ 51.46875 38.875 51.46875 26.03125 \nQ 51.46875 25.25 51.421875 23.6875 \nL 12.75 23.6875 \nQ 13.234375 15.140625 17.578125 10.59375 \nQ 21.921875 6.0625 28.421875 6.0625 \nQ 33.25 6.0625 36.671875 8.59375 \nQ 40.09375 11.140625 42.09375 16.703125 \nz\nM 13.234375 30.90625 \nL 42.1875 30.90625 \nQ 41.609375 37.453125 38.875 40.71875 \nQ 34.671875 45.796875 27.984375 45.796875 \nQ 21.921875 45.796875 17.796875 41.75 \nQ 13.671875 37.703125 13.234375 30.90625 \nz\n\" id=\"ArialMT-101\"/>\n      <path id=\"ArialMT-32\"/>\n      <path d=\"M 7.71875 0 \nL 7.71875 71.578125 \nL 34.71875 71.578125 \nQ 41.84375 71.578125 45.609375 70.90625 \nQ 50.875 70.015625 54.4375 67.546875 \nQ 58.015625 65.09375 60.1875 60.640625 \nQ 62.359375 56.203125 62.359375 50.875 \nQ 62.359375 41.75 56.546875 35.421875 \nQ 50.734375 29.109375 35.546875 29.109375 \nL 17.1875 29.109375 \nL 17.1875 0 \nz\nM 17.1875 37.546875 \nL 35.6875 37.546875 \nQ 44.875 37.546875 48.734375 40.96875 \nQ 52.59375 44.390625 52.59375 50.59375 \nQ 52.59375 55.078125 50.3125 58.265625 \nQ 48.046875 61.46875 44.34375 62.5 \nQ 41.9375 63.140625 35.5 63.140625 \nL 17.1875 63.140625 \nz\n\" id=\"ArialMT-80\"/>\n      <path d=\"M 3.328125 25.921875 \nQ 3.328125 40.328125 11.328125 47.265625 \nQ 18.015625 53.03125 27.640625 53.03125 \nQ 38.328125 53.03125 45.109375 46.015625 \nQ 51.90625 39.015625 51.90625 26.65625 \nQ 51.90625 16.65625 48.90625 10.90625 \nQ 45.90625 5.171875 40.15625 2 \nQ 34.421875 -1.171875 27.640625 -1.171875 \nQ 16.75 -1.171875 10.03125 5.8125 \nQ 3.328125 12.796875 3.328125 25.921875 \nz\nM 12.359375 25.921875 \nQ 12.359375 15.96875 16.703125 11.015625 \nQ 21.046875 6.0625 27.640625 6.0625 \nQ 34.1875 6.0625 38.53125 11.03125 \nQ 42.875 16.015625 42.875 26.21875 \nQ 42.875 35.84375 38.5 40.796875 \nQ 34.125 45.75 27.640625 45.75 \nQ 21.046875 45.75 16.703125 40.8125 \nQ 12.359375 35.890625 12.359375 25.921875 \nz\n\" id=\"ArialMT-111\"/>\n      <path d=\"M 6.640625 61.46875 \nL 6.640625 71.578125 \nL 15.4375 71.578125 \nL 15.4375 61.46875 \nz\nM 6.640625 0 \nL 6.640625 51.859375 \nL 15.4375 51.859375 \nL 15.4375 0 \nz\n\" id=\"ArialMT-105\"/>\n      <path d=\"M 25.78125 7.859375 \nL 27.046875 0.09375 \nQ 23.34375 -0.6875 20.40625 -0.6875 \nQ 15.625 -0.6875 12.984375 0.828125 \nQ 10.359375 2.34375 9.28125 4.8125 \nQ 8.203125 7.28125 8.203125 15.1875 \nL 8.203125 45.015625 \nL 1.765625 45.015625 \nL 1.765625 51.859375 \nL 8.203125 51.859375 \nL 8.203125 64.703125 \nL 16.9375 69.96875 \nL 16.9375 51.859375 \nL 25.78125 51.859375 \nL 25.78125 45.015625 \nL 16.9375 45.015625 \nL 16.9375 14.703125 \nQ 16.9375 10.9375 17.40625 9.859375 \nQ 17.875 8.796875 18.921875 8.15625 \nQ 19.96875 7.515625 21.921875 7.515625 \nQ 23.390625 7.515625 25.78125 7.859375 \nz\n\" id=\"ArialMT-116\"/>\n      <path d=\"M 21 0 \nL 1.265625 51.859375 \nL 10.546875 51.859375 \nL 21.6875 20.796875 \nQ 23.484375 15.765625 25 10.359375 \nQ 26.171875 14.453125 28.265625 20.21875 \nL 39.796875 51.859375 \nL 48.828125 51.859375 \nL 29.203125 0 \nz\n\" id=\"ArialMT-118\"/>\n      <path d=\"M 7.859375 0 \nL 7.859375 71.578125 \nL 39.59375 71.578125 \nQ 49.171875 71.578125 54.140625 69.640625 \nQ 59.125 67.71875 62.109375 62.828125 \nQ 65.09375 57.953125 65.09375 52.046875 \nQ 65.09375 44.4375 60.15625 39.203125 \nQ 55.21875 33.984375 44.921875 32.5625 \nQ 48.6875 30.765625 50.640625 29 \nQ 54.78125 25.203125 58.5 19.484375 \nL 70.953125 0 \nL 59.03125 0 \nL 49.5625 14.890625 \nQ 45.40625 21.34375 42.71875 24.75 \nQ 40.046875 28.171875 37.921875 29.53125 \nQ 35.796875 30.90625 33.59375 31.453125 \nQ 31.984375 31.78125 28.328125 31.78125 \nL 17.328125 31.78125 \nL 17.328125 0 \nz\nM 17.328125 39.984375 \nL 37.703125 39.984375 \nQ 44.1875 39.984375 47.84375 41.328125 \nQ 51.515625 42.671875 53.421875 45.625 \nQ 55.328125 48.578125 55.328125 52.046875 \nQ 55.328125 57.125 51.640625 60.390625 \nQ 47.953125 63.671875 39.984375 63.671875 \nL 17.328125 63.671875 \nz\n\" id=\"ArialMT-82\"/>\n      <path d=\"M 23.390625 -21.046875 \nQ 16.109375 -11.859375 11.078125 0.4375 \nQ 6.0625 12.75 6.0625 25.921875 \nQ 6.0625 37.546875 9.8125 48.1875 \nQ 14.203125 60.546875 23.390625 72.796875 \nL 29.6875 72.796875 \nQ 23.78125 62.640625 21.875 58.296875 \nQ 18.890625 51.5625 17.1875 44.234375 \nQ 15.09375 35.109375 15.09375 25.875 \nQ 15.09375 2.390625 29.6875 -21.046875 \nz\n\" id=\"ArialMT-40\"/>\n      <path d=\"M 3.171875 21.484375 \nL 3.171875 30.328125 \nL 30.171875 30.328125 \nL 30.171875 21.484375 \nz\n\" id=\"ArialMT-45\"/>\n      <path d=\"M 4.5 23 \nL 13.421875 23.78125 \nQ 14.0625 18.40625 16.375 14.96875 \nQ 18.703125 11.53125 23.578125 9.40625 \nQ 28.46875 7.28125 34.578125 7.28125 \nQ 39.984375 7.28125 44.140625 8.890625 \nQ 48.296875 10.5 50.3125 13.296875 \nQ 52.34375 16.109375 52.34375 19.4375 \nQ 52.34375 22.796875 50.390625 25.3125 \nQ 48.4375 27.828125 43.953125 29.546875 \nQ 41.0625 30.671875 31.203125 33.03125 \nQ 21.34375 35.40625 17.390625 37.5 \nQ 12.25 40.1875 9.734375 44.15625 \nQ 7.234375 48.140625 7.234375 53.078125 \nQ 7.234375 58.5 10.296875 63.203125 \nQ 13.375 67.921875 19.28125 70.359375 \nQ 25.203125 72.796875 32.421875 72.796875 \nQ 40.375 72.796875 46.453125 70.234375 \nQ 52.546875 67.671875 55.8125 62.6875 \nQ 59.078125 57.71875 59.328125 51.421875 \nL 50.25 50.734375 \nQ 49.515625 57.515625 45.28125 60.984375 \nQ 41.0625 64.453125 32.8125 64.453125 \nQ 24.21875 64.453125 20.28125 61.296875 \nQ 16.359375 58.15625 16.359375 53.71875 \nQ 16.359375 49.859375 19.140625 47.359375 \nQ 21.875 44.875 33.421875 42.265625 \nQ 44.96875 39.65625 49.265625 37.703125 \nQ 55.515625 34.8125 58.484375 30.390625 \nQ 61.46875 25.984375 61.46875 20.21875 \nQ 61.46875 14.5 58.203125 9.4375 \nQ 54.9375 4.390625 48.796875 1.578125 \nQ 42.671875 -1.21875 35.015625 -1.21875 \nQ 25.296875 -1.21875 18.71875 1.609375 \nQ 12.15625 4.4375 8.421875 10.125 \nQ 4.6875 15.828125 4.5 23 \nz\n\" id=\"ArialMT-83\"/>\n      <path d=\"M 6.59375 -19.875 \nL 6.59375 51.859375 \nL 14.59375 51.859375 \nL 14.59375 45.125 \nQ 17.4375 49.078125 21 51.046875 \nQ 24.5625 53.03125 29.640625 53.03125 \nQ 36.28125 53.03125 41.359375 49.609375 \nQ 46.4375 46.1875 49.015625 39.953125 \nQ 51.609375 33.734375 51.609375 26.3125 \nQ 51.609375 18.359375 48.75 11.984375 \nQ 45.90625 5.609375 40.453125 2.21875 \nQ 35.015625 -1.171875 29 -1.171875 \nQ 24.609375 -1.171875 21.109375 0.6875 \nQ 17.625 2.546875 15.375 5.375 \nL 15.375 -19.875 \nz\nM 14.546875 25.640625 \nQ 14.546875 15.625 18.59375 10.84375 \nQ 22.65625 6.0625 28.421875 6.0625 \nQ 34.28125 6.0625 38.453125 11.015625 \nQ 42.625 15.96875 42.625 26.375 \nQ 42.625 36.28125 38.546875 41.203125 \nQ 34.46875 46.140625 28.8125 46.140625 \nQ 23.1875 46.140625 18.859375 40.890625 \nQ 14.546875 35.640625 14.546875 25.640625 \nz\n\" id=\"ArialMT-112\"/>\n      <path d=\"M 40.4375 19 \nL 49.078125 17.875 \nQ 47.65625 8.9375 41.8125 3.875 \nQ 35.984375 -1.171875 27.484375 -1.171875 \nQ 16.84375 -1.171875 10.375 5.78125 \nQ 3.90625 12.75 3.90625 25.734375 \nQ 3.90625 34.125 6.6875 40.421875 \nQ 9.46875 46.734375 15.15625 49.875 \nQ 20.84375 53.03125 27.546875 53.03125 \nQ 35.984375 53.03125 41.359375 48.75 \nQ 46.734375 44.484375 48.25 36.625 \nL 39.703125 35.296875 \nQ 38.484375 40.53125 35.375 43.15625 \nQ 32.28125 45.796875 27.875 45.796875 \nQ 21.234375 45.796875 17.078125 41.03125 \nQ 12.9375 36.28125 12.9375 25.984375 \nQ 12.9375 15.53125 16.9375 10.796875 \nQ 20.953125 6.0625 27.390625 6.0625 \nQ 32.5625 6.0625 36.03125 9.234375 \nQ 39.5 12.40625 40.4375 19 \nz\n\" id=\"ArialMT-99\"/>\n      <path d=\"M 8.6875 0 \nL 8.6875 45.015625 \nL 0.921875 45.015625 \nL 0.921875 51.859375 \nL 8.6875 51.859375 \nL 8.6875 57.375 \nQ 8.6875 62.59375 9.625 65.140625 \nQ 10.890625 68.5625 14.078125 70.671875 \nQ 17.28125 72.796875 23.046875 72.796875 \nQ 26.765625 72.796875 31.25 71.921875 \nL 29.9375 64.265625 \nQ 27.203125 64.75 24.75 64.75 \nQ 20.75 64.75 19.09375 63.03125 \nQ 17.4375 61.328125 17.4375 56.640625 \nL 17.4375 51.859375 \nL 27.546875 51.859375 \nL 27.546875 45.015625 \nL 17.4375 45.015625 \nL 17.4375 0 \nz\n\" id=\"ArialMT-102\"/>\n      <path d=\"M 6.203125 -19.96875 \nL 5.21875 -11.71875 \nQ 8.109375 -12.5 10.25 -12.5 \nQ 13.1875 -12.5 14.9375 -11.515625 \nQ 16.703125 -10.546875 17.828125 -8.796875 \nQ 18.65625 -7.46875 20.515625 -2.25 \nQ 20.75 -1.515625 21.296875 -0.09375 \nL 1.609375 51.859375 \nL 11.078125 51.859375 \nL 21.875 21.828125 \nQ 23.96875 16.109375 25.640625 9.8125 \nQ 27.15625 15.875 29.25 21.625 \nL 40.328125 51.859375 \nL 49.125 51.859375 \nL 29.390625 -0.875 \nQ 26.21875 -9.421875 24.46875 -12.640625 \nQ 22.125 -17 19.09375 -19.015625 \nQ 16.0625 -21.046875 11.859375 -21.046875 \nQ 9.328125 -21.046875 6.203125 -19.96875 \nz\n\" id=\"ArialMT-121\"/>\n      <path d=\"M 12.359375 -21.046875 \nL 6.0625 -21.046875 \nQ 20.65625 2.390625 20.65625 25.875 \nQ 20.65625 35.0625 18.5625 44.09375 \nQ 16.890625 51.421875 13.921875 58.15625 \nQ 12.015625 62.546875 6.0625 72.796875 \nL 12.359375 72.796875 \nQ 21.53125 60.546875 25.921875 48.1875 \nQ 29.6875 37.546875 29.6875 25.921875 \nQ 29.6875 12.75 24.625 0.4375 \nQ 19.578125 -11.859375 12.359375 -21.046875 \nz\n\" id=\"ArialMT-41\"/>\n     </defs>\n     <g style=\"fill:#262626;\" transform=\"translate(131.363281 266.808125)scale(0.1 -0.1)\">\n      <use xlink:href=\"#ArialMT-70\"/>\n      <use x=\"61.083984\" xlink:href=\"#ArialMT-97\"/>\n      <use x=\"116.699219\" xlink:href=\"#ArialMT-108\"/>\n      <use x=\"138.916016\" xlink:href=\"#ArialMT-115\"/>\n      <use x=\"188.916016\" xlink:href=\"#ArialMT-101\"/>\n      <use x=\"244.53125\" xlink:href=\"#ArialMT-32\"/>\n      <use x=\"272.314453\" xlink:href=\"#ArialMT-80\"/>\n      <use x=\"339.013672\" xlink:href=\"#ArialMT-111\"/>\n      <use x=\"394.628906\" xlink:href=\"#ArialMT-115\"/>\n      <use x=\"444.628906\" xlink:href=\"#ArialMT-105\"/>\n      <use x=\"466.845703\" xlink:href=\"#ArialMT-116\"/>\n      <use x=\"494.628906\" xlink:href=\"#ArialMT-105\"/>\n      <use x=\"516.845703\" xlink:href=\"#ArialMT-118\"/>\n      <use x=\"566.845703\" xlink:href=\"#ArialMT-101\"/>\n      <use x=\"622.460938\" xlink:href=\"#ArialMT-32\"/>\n      <use x=\"650.244141\" xlink:href=\"#ArialMT-82\"/>\n      <use x=\"722.460938\" xlink:href=\"#ArialMT-97\"/>\n      <use x=\"778.076172\" xlink:href=\"#ArialMT-116\"/>\n      <use x=\"805.859375\" xlink:href=\"#ArialMT-101\"/>\n      <use x=\"861.474609\" xlink:href=\"#ArialMT-32\"/>\n      <use x=\"889.257812\" xlink:href=\"#ArialMT-40\"/>\n      <use x=\"922.558594\" xlink:href=\"#ArialMT-49\"/>\n      <use x=\"978.173828\" xlink:href=\"#ArialMT-32\"/>\n      <use x=\"1005.957031\" xlink:href=\"#ArialMT-45\"/>\n      <use x=\"1039.257812\" xlink:href=\"#ArialMT-32\"/>\n      <use x=\"1067.041016\" xlink:href=\"#ArialMT-83\"/>\n      <use x=\"1133.740234\" xlink:href=\"#ArialMT-112\"/>\n      <use x=\"1189.355469\" xlink:href=\"#ArialMT-101\"/>\n      <use x=\"1244.970703\" xlink:href=\"#ArialMT-99\"/>\n      <use x=\"1294.970703\" xlink:href=\"#ArialMT-105\"/>\n      <use x=\"1317.1875\" xlink:href=\"#ArialMT-102\"/>\n      <use x=\"1344.970703\" xlink:href=\"#ArialMT-105\"/>\n      <use x=\"1367.1875\" xlink:href=\"#ArialMT-99\"/>\n      <use x=\"1417.1875\" xlink:href=\"#ArialMT-105\"/>\n      <use x=\"1439.404297\" xlink:href=\"#ArialMT-116\"/>\n      <use x=\"1467.1875\" xlink:href=\"#ArialMT-121\"/>\n      <use x=\"1517.1875\" xlink:href=\"#ArialMT-41\"/>\n     </g>\n    </g>\n   </g>\n   <g id=\"matplotlib.axis_2\">\n    <g id=\"ytick_1\">\n     <g id=\"line2d_7\">\n      <path clip-path=\"url(#p57245653d3)\" d=\"M 41.484375 239.383125 \nL 376.284375 239.383125 \n\" style=\"fill:none;stroke:#ffffff;stroke-linecap:round;stroke-width:0.8;\"/>\n     </g>\n     <g id=\"text_8\">\n      <!-- 0.0 -->\n      <g style=\"fill:#262626;\" transform=\"translate(20.584375 242.962031)scale(0.1 -0.1)\">\n       <use xlink:href=\"#ArialMT-48\"/>\n       <use x=\"55.615234\" xlink:href=\"#ArialMT-46\"/>\n       <use x=\"83.398438\" xlink:href=\"#ArialMT-48\"/>\n      </g>\n     </g>\n    </g>\n    <g id=\"ytick_2\">\n     <g id=\"line2d_8\">\n      <path clip-path=\"url(#p57245653d3)\" d=\"M 41.484375 195.895125 \nL 376.284375 195.895125 \n\" style=\"fill:none;stroke:#ffffff;stroke-linecap:round;stroke-width:0.8;\"/>\n     </g>\n     <g id=\"text_9\">\n      <!-- 0.2 -->\n      <g style=\"fill:#262626;\" transform=\"translate(20.584375 199.474031)scale(0.1 -0.1)\">\n       <use xlink:href=\"#ArialMT-48\"/>\n       <use x=\"55.615234\" xlink:href=\"#ArialMT-46\"/>\n       <use x=\"83.398438\" xlink:href=\"#ArialMT-50\"/>\n      </g>\n     </g>\n    </g>\n    <g id=\"ytick_3\">\n     <g id=\"line2d_9\">\n      <path clip-path=\"url(#p57245653d3)\" d=\"M 41.484375 152.407125 \nL 376.284375 152.407125 \n\" style=\"fill:none;stroke:#ffffff;stroke-linecap:round;stroke-width:0.8;\"/>\n     </g>\n     <g id=\"text_10\">\n      <!-- 0.4 -->\n      <g style=\"fill:#262626;\" transform=\"translate(20.584375 155.986031)scale(0.1 -0.1)\">\n       <use xlink:href=\"#ArialMT-48\"/>\n       <use x=\"55.615234\" xlink:href=\"#ArialMT-46\"/>\n       <use x=\"83.398438\" xlink:href=\"#ArialMT-52\"/>\n      </g>\n     </g>\n    </g>\n    <g id=\"ytick_4\">\n     <g id=\"line2d_10\">\n      <path clip-path=\"url(#p57245653d3)\" d=\"M 41.484375 108.919125 \nL 376.284375 108.919125 \n\" style=\"fill:none;stroke:#ffffff;stroke-linecap:round;stroke-width:0.8;\"/>\n     </g>\n     <g id=\"text_11\">\n      <!-- 0.6 -->\n      <g style=\"fill:#262626;\" transform=\"translate(20.584375 112.498031)scale(0.1 -0.1)\">\n       <use xlink:href=\"#ArialMT-48\"/>\n       <use x=\"55.615234\" xlink:href=\"#ArialMT-46\"/>\n       <use x=\"83.398438\" xlink:href=\"#ArialMT-54\"/>\n      </g>\n     </g>\n    </g>\n    <g id=\"ytick_5\">\n     <g id=\"line2d_11\">\n      <path clip-path=\"url(#p57245653d3)\" d=\"M 41.484375 65.431125 \nL 376.284375 65.431125 \n\" style=\"fill:none;stroke:#ffffff;stroke-linecap:round;stroke-width:0.8;\"/>\n     </g>\n     <g id=\"text_12\">\n      <!-- 0.8 -->\n      <g style=\"fill:#262626;\" transform=\"translate(20.584375 69.010031)scale(0.1 -0.1)\">\n       <use xlink:href=\"#ArialMT-48\"/>\n       <use x=\"55.615234\" xlink:href=\"#ArialMT-46\"/>\n       <use x=\"83.398438\" xlink:href=\"#ArialMT-56\"/>\n      </g>\n     </g>\n    </g>\n    <g id=\"ytick_6\">\n     <g id=\"line2d_12\">\n      <path clip-path=\"url(#p57245653d3)\" d=\"M 41.484375 21.943125 \nL 376.284375 21.943125 \n\" style=\"fill:none;stroke:#ffffff;stroke-linecap:round;stroke-width:0.8;\"/>\n     </g>\n     <g id=\"text_13\">\n      <!-- 1.0 -->\n      <g style=\"fill:#262626;\" transform=\"translate(20.584375 25.522031)scale(0.1 -0.1)\">\n       <use xlink:href=\"#ArialMT-49\"/>\n       <use x=\"55.615234\" xlink:href=\"#ArialMT-46\"/>\n       <use x=\"83.398438\" xlink:href=\"#ArialMT-48\"/>\n      </g>\n     </g>\n    </g>\n    <g id=\"text_14\">\n     <!-- True Positive Rate (Sensitivity) -->\n     <defs>\n      <path d=\"M 25.921875 0 \nL 25.921875 63.140625 \nL 2.34375 63.140625 \nL 2.34375 71.578125 \nL 59.078125 71.578125 \nL 59.078125 63.140625 \nL 35.40625 63.140625 \nL 35.40625 0 \nz\n\" id=\"ArialMT-84\"/>\n      <path d=\"M 6.5 0 \nL 6.5 51.859375 \nL 14.40625 51.859375 \nL 14.40625 44 \nQ 17.4375 49.515625 20 51.265625 \nQ 22.5625 53.03125 25.640625 53.03125 \nQ 30.078125 53.03125 34.671875 50.203125 \nL 31.640625 42.046875 \nQ 28.421875 43.953125 25.203125 43.953125 \nQ 22.3125 43.953125 20.015625 42.21875 \nQ 17.71875 40.484375 16.75 37.40625 \nQ 15.28125 32.71875 15.28125 27.15625 \nL 15.28125 0 \nz\n\" id=\"ArialMT-114\"/>\n      <path d=\"M 40.578125 0 \nL 40.578125 7.625 \nQ 34.515625 -1.171875 24.125 -1.171875 \nQ 19.53125 -1.171875 15.546875 0.578125 \nQ 11.578125 2.34375 9.640625 5 \nQ 7.71875 7.671875 6.9375 11.53125 \nQ 6.390625 14.109375 6.390625 19.734375 \nL 6.390625 51.859375 \nL 15.1875 51.859375 \nL 15.1875 23.09375 \nQ 15.1875 16.21875 15.71875 13.8125 \nQ 16.546875 10.359375 19.234375 8.375 \nQ 21.921875 6.390625 25.875 6.390625 \nQ 29.828125 6.390625 33.296875 8.421875 \nQ 36.765625 10.453125 38.203125 13.9375 \nQ 39.65625 17.4375 39.65625 24.078125 \nL 39.65625 51.859375 \nL 48.4375 51.859375 \nL 48.4375 0 \nz\n\" id=\"ArialMT-117\"/>\n      <path d=\"M 6.59375 0 \nL 6.59375 51.859375 \nL 14.5 51.859375 \nL 14.5 44.484375 \nQ 20.21875 53.03125 31 53.03125 \nQ 35.6875 53.03125 39.625 51.34375 \nQ 43.5625 49.65625 45.515625 46.921875 \nQ 47.46875 44.1875 48.25 40.4375 \nQ 48.734375 37.984375 48.734375 31.890625 \nL 48.734375 0 \nL 39.9375 0 \nL 39.9375 31.546875 \nQ 39.9375 36.921875 38.90625 39.578125 \nQ 37.890625 42.234375 35.28125 43.8125 \nQ 32.671875 45.40625 29.15625 45.40625 \nQ 23.53125 45.40625 19.453125 41.84375 \nQ 15.375 38.28125 15.375 28.328125 \nL 15.375 0 \nz\n\" id=\"ArialMT-110\"/>\n     </defs>\n     <g style=\"fill:#262626;\" transform=\"translate(14.479688 199.012344)rotate(-90)scale(0.1 -0.1)\">\n      <use xlink:href=\"#ArialMT-84\"/>\n      <use x=\"61.037109\" xlink:href=\"#ArialMT-114\"/>\n      <use x=\"94.337891\" xlink:href=\"#ArialMT-117\"/>\n      <use x=\"149.953125\" xlink:href=\"#ArialMT-101\"/>\n      <use x=\"205.568359\" xlink:href=\"#ArialMT-32\"/>\n      <use x=\"233.351562\" xlink:href=\"#ArialMT-80\"/>\n      <use x=\"300.050781\" xlink:href=\"#ArialMT-111\"/>\n      <use x=\"355.666016\" xlink:href=\"#ArialMT-115\"/>\n      <use x=\"405.666016\" xlink:href=\"#ArialMT-105\"/>\n      <use x=\"427.882812\" xlink:href=\"#ArialMT-116\"/>\n      <use x=\"455.666016\" xlink:href=\"#ArialMT-105\"/>\n      <use x=\"477.882812\" xlink:href=\"#ArialMT-118\"/>\n      <use x=\"527.882812\" xlink:href=\"#ArialMT-101\"/>\n      <use x=\"583.498047\" xlink:href=\"#ArialMT-32\"/>\n      <use x=\"611.28125\" xlink:href=\"#ArialMT-82\"/>\n      <use x=\"683.498047\" xlink:href=\"#ArialMT-97\"/>\n      <use x=\"739.113281\" xlink:href=\"#ArialMT-116\"/>\n      <use x=\"766.896484\" xlink:href=\"#ArialMT-101\"/>\n      <use x=\"822.511719\" xlink:href=\"#ArialMT-32\"/>\n      <use x=\"850.294922\" xlink:href=\"#ArialMT-40\"/>\n      <use x=\"883.595703\" xlink:href=\"#ArialMT-83\"/>\n      <use x=\"950.294922\" xlink:href=\"#ArialMT-101\"/>\n      <use x=\"1005.910156\" xlink:href=\"#ArialMT-110\"/>\n      <use x=\"1061.525391\" xlink:href=\"#ArialMT-115\"/>\n      <use x=\"1111.525391\" xlink:href=\"#ArialMT-105\"/>\n      <use x=\"1133.742188\" xlink:href=\"#ArialMT-116\"/>\n      <use x=\"1161.525391\" xlink:href=\"#ArialMT-105\"/>\n      <use x=\"1183.742188\" xlink:href=\"#ArialMT-118\"/>\n      <use x=\"1233.742188\" xlink:href=\"#ArialMT-105\"/>\n      <use x=\"1255.958984\" xlink:href=\"#ArialMT-116\"/>\n      <use x=\"1283.742188\" xlink:href=\"#ArialMT-121\"/>\n      <use x=\"1333.742188\" xlink:href=\"#ArialMT-41\"/>\n     </g>\n    </g>\n   </g>\n   <g id=\"line2d_13\">\n    <path clip-path=\"url(#p57245653d3)\" d=\"M 41.484375 239.383125 \nL 41.561094 239.383125 \nL 41.561094 238.693387 \nL 41.714531 238.693387 \nL 41.791249 237.658779 \nL 41.867968 237.658779 \nL 41.944687 237.31391 \nL 42.098124 237.31391 \nL 42.174842 236.279303 \nL 42.251561 236.279303 \nL 42.32828 234.554957 \nL 42.404998 234.554957 \nL 42.404998 233.520349 \nL 42.635154 233.520349 \nL 42.711873 232.140873 \nL 42.86531 232.140873 \nL 42.942029 231.796004 \nL 43.018747 231.796004 \nL 43.095466 230.588962 \nL 43.172184 230.588962 \nL 43.248903 229.899223 \nL 43.325622 229.899223 \nL 43.40234 227.312705 \nL 43.479059 227.312705 \nL 43.555777 225.933228 \nL 43.632496 225.933228 \nL 43.632496 225.588359 \nL 43.785933 225.588359 \nL 43.862652 223.691579 \nL 43.93937 223.691579 \nL 44.016089 222.312102 \nL 44.092808 222.312102 \nL 44.169526 219.20828 \nL 44.246245 219.20828 \nL 44.246245 218.86341 \nL 44.476401 218.86341 \nL 44.553119 218.001238 \nL 44.629838 218.001238 \nL 44.629838 216.621761 \nL 44.783275 216.621761 \nL 44.859994 212.483331 \nL 44.936712 212.483331 \nL 45.013431 211.448724 \nL 45.166868 211.448724 \nL 45.243587 211.103855 \nL 45.473743 211.103855 \nL 45.473743 210.93142 \nL 45.62718 210.93142 \nL 45.703898 210.414116 \nL 45.857336 210.414116 \nL 45.934054 209.207074 \nL 46.010773 209.207074 \nL 46.087491 208.689771 \nL 46.240929 208.689771 \nL 46.317647 207.827598 \nL 46.471084 207.827598 \nL 46.547803 207.310294 \nL 46.624522 207.310294 \nL 46.624522 207.137859 \nL 46.777959 207.137859 \nL 46.777959 206.103252 \nL 46.931396 206.103252 \nL 47.008115 204.723775 \nL 47.084833 204.723775 \nL 47.161552 202.482126 \nL 47.314989 202.482126 \nL 47.391708 201.619953 \nL 47.468426 201.619953 \nL 47.545145 201.275084 \nL 47.775301 201.275084 \nL 47.775301 201.102649 \nL 47.928738 201.102649 \nL 47.928738 200.75778 \nL 48.082175 200.75778 \nL 48.158894 199.550738 \nL 48.235612 199.550738 \nL 48.235612 199.378303 \nL 48.38905 199.378303 \nL 48.465768 198.516131 \nL 48.619205 198.516131 \nL 48.695924 197.998827 \nL 48.772643 197.998827 \nL 48.849361 196.964219 \nL 48.92608 196.964219 \nL 48.92608 196.791785 \nL 49.309673 196.791785 \nL 49.309673 196.61935 \nL 49.46311 196.61935 \nL 49.539829 194.895004 \nL 49.616547 194.895004 \nL 49.693266 194.205266 \nL 49.769985 194.205266 \nL 49.846703 193.687962 \nL 49.923422 193.687962 \nL 50.00014 191.618748 \nL 50.076859 191.618748 \nL 50.076859 190.58414 \nL 50.307015 190.58414 \nL 50.383733 190.239271 \nL 50.460452 190.239271 \nL 50.537171 189.549533 \nL 50.613889 189.549533 \nL 50.690608 188.68736 \nL 50.767326 188.68736 \nL 50.767326 188.514925 \nL 50.920764 188.514925 \nL 50.920764 187.652752 \nL 51.074201 187.652752 \nL 51.150919 187.135449 \nL 51.227638 187.135449 \nL 51.227638 186.963014 \nL 51.381075 186.963014 \nL 51.457794 186.44571 \nL 51.534512 186.44571 \nL 51.611231 185.411103 \nL 51.68795 185.411103 \nL 51.764668 184.376495 \nL 51.841387 184.376495 \nL 51.841387 184.031626 \nL 52.148261 184.031626 \nL 52.22498 183.514322 \nL 52.378417 183.514322 \nL 52.455136 183.169453 \nL 52.685292 183.169453 \nL 52.685292 182.479715 \nL 52.838729 182.479715 \nL 52.838729 182.30728 \nL 53.145603 182.30728 \nL 53.222322 180.755369 \nL 53.529196 180.755369 \nL 53.605915 180.065631 \nL 53.682633 180.065631 \nL 53.682633 179.893196 \nL 53.836071 179.893196 \nL 53.836071 179.548327 \nL 53.989508 179.548327 \nL 54.066227 178.686154 \nL 54.142945 178.686154 \nL 54.142945 178.341285 \nL 54.296382 178.341285 \nL 54.373101 177.651547 \nL 54.603257 177.651547 \nL 54.679975 176.616939 \nL 54.910131 176.616939 \nL 54.910131 176.444505 \nL 55.063568 176.444505 \nL 55.140287 175.582332 \nL 55.293724 175.582332 \nL 55.293724 175.409897 \nL 55.447161 175.409897 \nL 55.52388 174.202855 \nL 55.600599 174.202855 \nL 55.677317 172.47851 \nL 55.754036 172.47851 \nL 55.830754 172.13364 \nL 55.907473 172.13364 \nL 55.984192 170.754164 \nL 56.06091 170.754164 \nL 56.06091 170.064426 \nL 56.291066 170.064426 \nL 56.291066 169.891991 \nL 56.597941 169.891991 \nL 56.674659 169.374687 \nL 56.751378 169.374687 \nL 56.828096 168.857384 \nL 57.211689 168.857384 \nL 57.211689 168.512514 \nL 57.365127 168.512514 \nL 57.365127 168.167645 \nL 57.595282 168.167645 \nL 57.672001 167.650341 \nL 57.825438 167.650341 \nL 57.825438 167.477907 \nL 58.055594 167.477907 \nL 58.055594 166.615734 \nL 58.28575 166.615734 \nL 58.28575 166.270865 \nL 58.515906 166.270865 \nL 58.515906 165.236257 \nL 58.669343 165.236257 \nL 58.746062 164.20165 \nL 58.899499 164.20165 \nL 58.976217 163.856781 \nL 59.052936 163.856781 \nL 59.129655 163.511912 \nL 59.206373 163.511912 \nL 59.206373 163.167043 \nL 59.35981 163.167043 \nL 59.436529 162.132435 \nL 59.666685 162.132435 \nL 59.743403 161.442697 \nL 59.820122 161.442697 \nL 59.896841 161.097828 \nL 59.973559 161.097828 \nL 60.050278 160.752958 \nL 60.203715 160.752958 \nL 60.280434 160.235655 \nL 60.357152 160.235655 \nL 60.357152 159.373482 \nL 60.510589 159.373482 \nL 60.587308 158.511309 \nL 60.740745 158.511309 \nL 60.740745 158.338874 \nL 61.04762 158.338874 \nL 61.04762 157.821571 \nL 61.201057 157.821571 \nL 61.277776 156.442094 \nL 61.431213 156.442094 \nL 61.507931 154.545314 \nL 61.58465 154.545314 \nL 61.661369 154.02801 \nL 61.738087 154.02801 \nL 61.814806 152.820968 \nL 61.891524 152.820968 \nL 61.968243 152.303664 \nL 62.044962 152.303664 \nL 62.12168 151.958795 \nL 62.351836 151.958795 \nL 62.428555 151.441491 \nL 62.505273 151.441491 \nL 62.581992 150.579318 \nL 62.735429 150.579318 \nL 62.735429 150.234449 \nL 62.965585 150.234449 \nL 62.965585 150.062015 \nL 63.195741 150.062015 \nL 63.195741 149.88958 \nL 63.349178 149.88958 \nL 63.349178 149.717146 \nL 63.502615 149.717146 \nL 63.579334 149.027407 \nL 63.732771 149.027407 \nL 63.732771 148.165234 \nL 63.886208 148.165234 \nL 63.962927 147.647931 \nL 64.039645 147.647931 \nL 64.039645 147.475496 \nL 64.34652 147.475496 \nL 64.423238 146.785758 \nL 64.653394 146.785758 \nL 64.653394 146.268454 \nL 64.960269 146.268454 \nL 65.036987 145.923585 \nL 65.190424 145.923585 \nL 65.190424 145.578716 \nL 65.343862 145.578716 \nL 65.42058 145.061412 \nL 65.497299 145.061412 \nL 65.574018 144.544108 \nL 65.804173 144.544108 \nL 65.804173 144.026805 \nL 66.187766 144.026805 \nL 66.187766 143.85437 \nL 66.801515 143.85437 \nL 66.801515 143.681935 \nL 67.031671 143.681935 \nL 67.031671 143.509501 \nL 67.338545 143.509501 \nL 67.338545 143.164632 \nL 67.64542 143.164632 \nL 67.722139 142.819763 \nL 67.952294 142.819763 \nL 68.029013 142.474893 \nL 68.335887 142.474893 \nL 68.335887 142.302459 \nL 68.566043 142.302459 \nL 68.642762 141.785155 \nL 68.71948 141.785155 \nL 68.796199 141.267851 \nL 69.256511 141.267851 \nL 69.333229 140.405679 \nL 69.486666 140.405679 \nL 69.486666 140.233244 \nL 69.640104 140.233244 \nL 69.640104 140.060809 \nL 69.87026 140.060809 \nL 69.87026 139.888375 \nL 70.100415 139.888375 \nL 70.177134 139.371071 \nL 70.330571 139.371071 \nL 70.40729 138.681333 \nL 70.484008 138.681333 \nL 70.560727 138.336464 \nL 70.637446 138.336464 \nL 70.637446 138.164029 \nL 70.790883 138.164029 \nL 70.867601 137.646725 \nL 70.94432 137.646725 \nL 70.94432 137.474291 \nL 71.251194 137.474291 \nL 71.327913 137.129422 \nL 71.634787 137.129422 \nL 71.634787 136.956987 \nL 71.788225 136.956987 \nL 71.788225 136.784552 \nL 72.095099 136.784552 \nL 72.095099 136.612118 \nL 72.939004 136.612118 \nL 72.939004 136.094814 \nL 73.245878 136.094814 \nL 73.322597 135.749945 \nL 73.552753 135.749945 \nL 73.552753 135.57751 \nL 74.013064 135.57751 \nL 74.013064 135.405076 \nL 74.319939 135.405076 \nL 74.396657 135.060207 \nL 74.550095 135.060207 \nL 74.550095 134.887772 \nL 74.703532 134.887772 \nL 74.703532 134.715338 \nL 75.163843 134.715338 \nL 75.240562 134.370468 \nL 75.470718 134.370468 \nL 75.547436 133.68073 \nL 76.007748 133.68073 \nL 76.007748 133.508295 \nL 76.161185 133.508295 \nL 76.237904 133.163426 \nL 76.314622 133.163426 \nL 76.391341 132.818557 \nL 76.621497 132.818557 \nL 76.621497 132.646123 \nL 77.081809 132.646123 \nL 77.158527 132.473688 \nL 77.388683 132.473688 \nL 77.388683 131.78395 \nL 77.54212 131.78395 \nL 77.618839 131.439081 \nL 77.772276 131.439081 \nL 77.772276 131.266646 \nL 78.07915 131.266646 \nL 78.07915 131.094211 \nL 78.386025 131.094211 \nL 78.386025 130.921777 \nL 78.539462 130.921777 \nL 78.539462 130.576908 \nL 78.692899 130.576908 \nL 78.769618 130.232039 \nL 78.923055 130.232039 \nL 78.923055 130.059604 \nL 79.076492 130.059604 \nL 79.076492 129.887169 \nL 79.22993 129.887169 \nL 79.306648 129.5423 \nL 79.460085 129.5423 \nL 79.460085 129.197431 \nL 79.613523 129.197431 \nL 79.613523 128.852562 \nL 79.76696 128.852562 \nL 79.76696 128.507693 \nL 79.997116 128.507693 \nL 79.997116 128.162824 \nL 80.687583 128.162824 \nL 80.687583 127.817955 \nL 80.994457 127.817955 \nL 80.994457 127.64552 \nL 81.147895 127.64552 \nL 81.224613 127.300651 \nL 81.301332 127.300651 \nL 81.301332 126.955782 \nL 81.608206 126.955782 \nL 81.608206 126.783347 \nL 81.838362 126.783347 \nL 81.838362 126.610912 \nL 82.221955 126.610912 \nL 82.221955 126.438478 \nL 82.52883 126.438478 \nL 82.52883 126.093609 \nL 82.758985 126.093609 \nL 82.758985 125.921174 \nL 83.296016 125.921174 \nL 83.372734 125.231436 \nL 83.526172 125.231436 \nL 83.526172 125.059001 \nL 83.756327 125.059001 \nL 83.833046 124.714132 \nL 83.909765 124.714132 \nL 83.909765 124.369263 \nL 85.290699 124.369263 \nL 85.290699 124.196828 \nL 85.444137 124.196828 \nL 85.444137 124.024394 \nL 85.597574 124.024394 \nL 85.597574 123.851959 \nL 85.82773 123.851959 \nL 85.82773 123.679525 \nL 86.211323 123.679525 \nL 86.211323 123.50709 \nL 86.441479 123.50709 \nL 86.441479 123.334656 \nL 86.594916 123.334656 \nL 86.594916 123.162221 \nL 86.748353 123.162221 \nL 86.825072 122.817352 \nL 86.978509 122.817352 \nL 86.978509 122.644917 \nL 87.131946 122.644917 \nL 87.131946 122.472483 \nL 87.515539 122.472483 \nL 87.515539 122.300048 \nL 88.052569 122.300048 \nL 88.129288 121.955179 \nL 88.206007 121.955179 \nL 88.206007 121.782744 \nL 88.512881 121.782744 \nL 88.512881 121.437875 \nL 89.049911 121.437875 \nL 89.12663 121.093006 \nL 89.203348 121.093006 \nL 89.203348 120.748137 \nL 89.356786 120.748137 \nL 89.356786 120.575702 \nL 89.510223 120.575702 \nL 89.586941 120.230833 \nL 89.893816 120.230833 \nL 89.970534 119.713529 \nL 90.277409 119.713529 \nL 90.354128 119.36866 \nL 90.507565 119.36866 \nL 90.584283 119.023791 \nL 91.121314 119.023791 \nL 91.198032 117.989184 \nL 91.504907 117.989184 \nL 91.581625 117.644315 \nL 91.811781 117.644315 \nL 91.8885 117.127011 \nL 92.118655 117.127011 \nL 92.118655 116.954576 \nL 92.42553 116.954576 \nL 92.42553 116.609707 \nL 92.655686 116.609707 \nL 92.655686 116.437273 \nL 93.115997 116.437273 \nL 93.115997 116.264838 \nL 93.269435 116.264838 \nL 93.269435 115.23023 \nL 93.49959 115.23023 \nL 93.49959 115.057796 \nL 94.190058 115.057796 \nL 94.190058 114.885361 \nL 94.573651 114.885361 \nL 94.573651 114.540492 \nL 94.803807 114.540492 \nL 94.880525 114.195623 \nL 95.1874 114.195623 \nL 95.1874 113.850754 \nL 95.877867 113.850754 \nL 95.954586 113.505885 \nL 96.721772 113.505885 \nL 96.721772 112.643712 \nL 96.875209 112.643712 \nL 96.875209 112.471277 \nL 97.258802 112.471277 \nL 97.258802 112.298843 \nL 97.412239 112.298843 \nL 97.412239 112.126408 \nL 97.565677 112.126408 \nL 97.565677 111.953974 \nL 97.719114 111.953974 \nL 97.719114 111.781539 \nL 98.179425 111.781539 \nL 98.179425 111.43667 \nL 98.4863 111.43667 \nL 98.4863 111.091801 \nL 98.869893 111.091801 \nL 98.946611 110.746932 \nL 99.253486 110.746932 \nL 99.253486 110.402062 \nL 99.56036 110.402062 \nL 99.56036 110.229628 \nL 100.097391 110.229628 \nL 100.097391 110.057193 \nL 100.327546 110.057193 \nL 100.327546 109.884759 \nL 100.557702 109.884759 \nL 100.557702 109.712324 \nL 101.708481 109.712324 \nL 101.708481 109.539889 \nL 101.861919 109.539889 \nL 101.938637 109.19502 \nL 102.398949 109.19502 \nL 102.398949 109.022586 \nL 102.705823 109.022586 \nL 102.705823 108.850151 \nL 103.242853 108.850151 \nL 103.242853 108.677717 \nL 103.396291 108.677717 \nL 103.396291 108.505282 \nL 103.626446 108.505282 \nL 103.626446 108.332847 \nL 103.856602 108.332847 \nL 103.856602 108.160413 \nL 105.160819 108.160413 \nL 105.160819 107.987978 \nL 105.314256 107.987978 \nL 105.314256 107.815544 \nL 105.467693 107.815544 \nL 105.544412 107.470675 \nL 105.851286 107.470675 \nL 105.928005 107.125805 \nL 106.465035 107.125805 \nL 106.465035 106.780936 \nL 106.771909 106.780936 \nL 106.771909 106.608502 \nL 107.078784 106.608502 \nL 107.078784 106.436067 \nL 107.385658 106.436067 \nL 107.385658 106.263633 \nL 107.539095 106.263633 \nL 107.539095 106.091198 \nL 107.84597 106.091198 \nL 107.84597 105.918763 \nL 107.999407 105.918763 \nL 108.076126 105.573894 \nL 109.533779 105.573894 \nL 109.610498 105.056591 \nL 109.994091 105.056591 \nL 109.994091 104.884156 \nL 110.147528 104.884156 \nL 110.147528 104.711721 \nL 110.837996 104.711721 \nL 110.837996 104.366852 \nL 111.068151 104.366852 \nL 111.068151 104.194418 \nL 111.528463 104.194418 \nL 111.528463 104.021983 \nL 113.523147 104.021983 \nL 113.523147 103.849548 \nL 113.90674 103.849548 \nL 113.90674 103.677114 \nL 114.136896 103.677114 \nL 114.136896 103.504679 \nL 114.750644 103.504679 \nL 114.827363 102.814941 \nL 115.364393 102.814941 \nL 115.364393 102.470072 \nL 115.824705 102.470072 \nL 115.824705 102.125203 \nL 116.131579 102.125203 \nL 116.131579 101.952768 \nL 116.361735 101.952768 \nL 116.438454 101.607899 \nL 117.20564 101.607899 \nL 117.20564 101.435464 \nL 117.435796 101.435464 \nL 117.512514 100.745726 \nL 118.356419 100.745726 \nL 118.356419 100.573292 \nL 118.586575 100.573292 \nL 118.586575 100.400857 \nL 118.816731 100.400857 \nL 118.816731 100.055988 \nL 119.814073 100.055988 \nL 119.814073 99.883553 \nL 120.044228 99.883553 \nL 120.044228 99.711119 \nL 120.197666 99.711119 \nL 120.197666 99.538684 \nL 120.427821 99.538684 \nL 120.427821 99.193815 \nL 120.657977 99.193815 \nL 120.657977 99.02138 \nL 121.655319 99.02138 \nL 121.655319 98.504077 \nL 122.192349 98.504077 \nL 122.269068 98.159207 \nL 122.345787 98.159207 \nL 122.345787 97.986773 \nL 122.806098 97.986773 \nL 122.806098 97.814338 \nL 123.573284 97.814338 \nL 123.573284 97.641904 \nL 124.110315 97.641904 \nL 124.110315 97.469469 \nL 124.877501 97.469469 \nL 124.877501 96.952165 \nL 125.951561 96.952165 \nL 125.951561 96.779731 \nL 126.258435 96.779731 \nL 126.258435 96.607296 \nL 126.488591 96.607296 \nL 126.488591 96.434862 \nL 127.63937 96.434862 \nL 127.63937 96.262427 \nL 127.946245 96.262427 \nL 127.946245 96.089993 \nL 128.406556 96.089993 \nL 128.483275 95.745123 \nL 129.250461 95.745123 \nL 129.250461 95.572689 \nL 129.403898 95.572689 \nL 129.403898 95.400254 \nL 129.634054 95.400254 \nL 129.634054 94.882951 \nL 129.940929 94.882951 \nL 129.940929 94.710516 \nL 130.40124 94.710516 \nL 130.40124 94.538081 \nL 130.708115 94.538081 \nL 130.784833 94.020778 \nL 130.938271 94.020778 \nL 130.938271 93.848343 \nL 131.091708 93.848343 \nL 131.091708 93.503474 \nL 131.782175 93.503474 \nL 131.782175 93.331039 \nL 132.165768 93.331039 \nL 132.165768 93.158605 \nL 132.702798 93.158605 \nL 132.702798 92.98617 \nL 132.856236 92.98617 \nL 132.856236 92.813736 \nL 133.546703 92.813736 \nL 133.546703 92.468866 \nL 133.853578 92.468866 \nL 133.853578 92.296432 \nL 134.083733 92.296432 \nL 134.160452 91.951563 \nL 134.697482 91.951563 \nL 134.774201 91.606694 \nL 135.311231 91.606694 \nL 135.311231 91.434259 \nL 135.848261 91.434259 \nL 135.848261 91.261824 \nL 136.155136 91.261824 \nL 136.155136 91.08939 \nL 137.075759 91.08939 \nL 137.075759 90.916955 \nL 137.459352 90.916955 \nL 137.459352 90.744521 \nL 137.766227 90.744521 \nL 137.766227 90.399652 \nL 138.533413 90.399652 \nL 138.533413 90.227217 \nL 139.22388 90.227217 \nL 139.22388 90.054782 \nL 139.76091 90.054782 \nL 139.76091 89.882348 \nL 140.988408 89.882348 \nL 140.988408 89.709913 \nL 141.218564 89.709913 \nL 141.218564 89.537479 \nL 141.372001 89.537479 \nL 141.372001 89.365044 \nL 141.525438 89.365044 \nL 141.525438 89.19261 \nL 141.678875 89.19261 \nL 141.678875 89.020175 \nL 142.062468 89.020175 \nL 142.062468 88.84774 \nL 142.215906 88.84774 \nL 142.215906 88.675306 \nL 142.983092 88.675306 \nL 142.983092 88.502871 \nL 143.136529 88.502871 \nL 143.136529 88.330437 \nL 143.289966 88.330437 \nL 143.289966 88.158002 \nL 144.517464 88.158002 \nL 144.517464 87.985568 \nL 144.901057 87.985568 \nL 144.901057 87.813133 \nL 146.051836 87.813133 \nL 146.051836 87.640698 \nL 146.205273 87.640698 \nL 146.205273 87.468264 \nL 146.588866 87.468264 \nL 146.665585 87.123395 \nL 147.356052 87.123395 \nL 147.356052 86.95096 \nL 148.276676 86.95096 \nL 148.276676 86.433656 \nL 148.660269 86.433656 \nL 148.736987 86.088787 \nL 148.890424 86.088787 \nL 148.890424 85.743918 \nL 149.734329 85.743918 \nL 149.811048 85.399049 \nL 149.887766 85.399049 \nL 149.887766 85.226614 \nL 151.191983 85.226614 \nL 151.191983 85.05418 \nL 151.34542 85.05418 \nL 151.34542 84.881745 \nL 151.729013 84.881745 \nL 151.805732 83.847138 \nL 152.342762 83.847138 \nL 152.342762 83.674703 \nL 152.726355 83.674703 \nL 152.726355 83.502269 \nL 153.186666 83.502269 \nL 153.186666 83.329834 \nL 153.416822 83.329834 \nL 153.416822 83.157399 \nL 153.800415 83.157399 \nL 153.800415 82.984965 \nL 154.951194 82.984965 \nL 154.951194 82.81253 \nL 156.485567 82.81253 \nL 156.562285 82.467661 \nL 157.252753 82.467661 \nL 157.252753 82.295227 \nL 157.789783 82.295227 \nL 157.789783 82.122792 \nL 158.173376 82.122792 \nL 158.173376 81.950357 \nL 158.403532 81.950357 \nL 158.403532 81.777923 \nL 158.633688 81.777923 \nL 158.633688 81.605488 \nL 158.863843 81.605488 \nL 158.863843 81.260619 \nL 159.324155 81.260619 \nL 159.324155 81.088184 \nL 159.477592 81.088184 \nL 159.554311 80.570881 \nL 161.011964 80.570881 \nL 161.011964 80.226012 \nL 161.395557 80.226012 \nL 161.395557 80.053577 \nL 161.77915 80.053577 \nL 161.77915 79.881142 \nL 162.546337 79.881142 \nL 162.623055 79.363839 \nL 162.776492 79.363839 \nL 162.776492 79.191404 \nL 164.157427 79.191404 \nL 164.157427 78.846535 \nL 164.694457 78.846535 \nL 164.694457 78.6741 \nL 165.078051 78.6741 \nL 165.078051 78.501666 \nL 165.384925 78.501666 \nL 165.384925 78.329231 \nL 165.921955 78.329231 \nL 165.921955 78.156797 \nL 166.382267 78.156797 \nL 166.382267 77.984362 \nL 166.612423 77.984362 \nL 166.612423 77.811928 \nL 167.993358 77.811928 \nL 167.993358 77.639493 \nL 168.453669 77.639493 \nL 168.453669 77.467058 \nL 169.52773 77.467058 \nL 169.52773 77.294624 \nL 169.681167 77.294624 \nL 169.681167 77.122189 \nL 169.988041 77.122189 \nL 170.06476 76.77732 \nL 170.831946 76.77732 \nL 170.831946 76.604886 \nL 171.13882 76.604886 \nL 171.13882 76.432451 \nL 172.443037 76.432451 \nL 172.443037 76.260016 \nL 172.596474 76.260016 \nL 172.596474 76.087582 \nL 173.36366 76.087582 \nL 173.36366 75.915147 \nL 173.593816 75.915147 \nL 173.593816 75.742713 \nL 173.747253 75.742713 \nL 173.823972 75.225409 \nL 174.207565 75.225409 \nL 174.207565 75.052974 \nL 176.278967 75.052974 \nL 176.278967 74.708105 \nL 176.66256 74.708105 \nL 176.66256 74.535671 \nL 177.046153 74.535671 \nL 177.046153 74.363236 \nL 177.276309 74.363236 \nL 177.353028 74.018367 \nL 178.733963 74.018367 \nL 178.733963 73.845932 \nL 179.270993 73.845932 \nL 179.270993 73.673498 \nL 179.654586 73.673498 \nL 179.731304 73.328629 \nL 180.805365 73.328629 \nL 180.805365 73.156194 \nL 182.032863 73.156194 \nL 182.032863 72.983759 \nL 184.334421 72.983759 \nL 184.334421 72.811325 \nL 184.487858 72.811325 \nL 184.487858 72.63889 \nL 186.175667 72.63889 \nL 186.175667 72.466456 \nL 187.556602 72.466456 \nL 187.556602 72.121587 \nL 187.786758 72.121587 \nL 187.786758 71.776717 \nL 188.016914 71.776717 \nL 188.016914 71.604283 \nL 188.553944 71.604283 \nL 188.553944 71.431848 \nL 190.088316 71.431848 \nL 190.088316 71.259414 \nL 190.932221 71.259414 \nL 190.932221 71.086979 \nL 192.236437 71.086979 \nL 192.236437 70.914545 \nL 192.466593 70.914545 \nL 192.466593 70.74211 \nL 193.003623 70.74211 \nL 193.003623 70.569675 \nL 193.310498 70.569675 \nL 193.310498 70.052372 \nL 193.694091 70.052372 \nL 193.694091 69.879937 \nL 193.847528 69.879937 \nL 193.847528 69.707502 \nL 194.000965 69.707502 \nL 194.000965 69.362633 \nL 194.614714 69.362633 \nL 194.614714 69.190199 \nL 196.149086 69.190199 \nL 196.225805 68.84533 \nL 196.916272 68.84533 \nL 196.916272 68.672895 \nL 197.299865 68.672895 \nL 197.299865 68.50046 \nL 197.990333 68.50046 \nL 197.990333 68.328026 \nL 198.757519 68.328026 \nL 198.757519 68.155591 \nL 199.371268 68.155591 \nL 199.371268 67.983157 \nL 199.908298 67.983157 \nL 199.985017 67.638288 \nL 200.138454 67.638288 \nL 200.138454 67.465853 \nL 200.291891 67.465853 \nL 200.291891 67.120984 \nL 201.289233 67.120984 \nL 201.289233 66.948549 \nL 201.596107 66.948549 \nL 201.596107 66.776115 \nL 202.363293 66.776115 \nL 202.363293 66.431246 \nL 202.900324 66.431246 \nL 202.900324 66.258811 \nL 204.664852 66.258811 \nL 204.664852 65.913942 \nL 204.895007 65.913942 \nL 204.971726 65.569073 \nL 205.585475 65.569073 \nL 205.585475 65.224204 \nL 205.969068 65.224204 \nL 205.969068 65.051769 \nL 207.50344 65.051769 \nL 207.50344 64.879334 \nL 207.887033 64.879334 \nL 207.887033 64.017161 \nL 208.117189 64.017161 \nL 208.117189 63.844727 \nL 208.347345 63.844727 \nL 208.347345 63.672292 \nL 209.344687 63.672292 \nL 209.344687 63.499858 \nL 209.574842 63.499858 \nL 209.574842 63.327423 \nL 210.188591 63.327423 \nL 210.188591 62.982554 \nL 210.572184 62.982554 \nL 210.572184 62.810119 \nL 210.955777 62.810119 \nL 210.955777 62.637685 \nL 212.029838 62.637685 \nL 212.029838 62.46525 \nL 213.487491 62.46525 \nL 213.487491 62.292816 \nL 213.640929 62.292816 \nL 213.640929 62.120381 \nL 213.794366 62.120381 \nL 213.794366 61.947947 \nL 213.947803 61.947947 \nL 213.947803 61.775512 \nL 214.484833 61.775512 \nL 214.484833 61.603077 \nL 214.638271 61.603077 \nL 214.638271 61.258208 \nL 215.558894 61.258208 \nL 215.558894 61.085774 \nL 216.632954 61.085774 \nL 216.632954 60.740905 \nL 216.786391 60.740905 \nL 216.786391 60.56847 \nL 217.169985 60.56847 \nL 217.246703 59.878732 \nL 217.707015 59.878732 \nL 217.707015 59.706297 \nL 217.937171 59.706297 \nL 217.937171 59.361428 \nL 218.781075 59.361428 \nL 218.781075 59.188993 \nL 219.164668 59.188993 \nL 219.164668 59.016559 \nL 219.318106 59.016559 \nL 219.318106 58.844124 \nL 219.855136 58.844124 \nL 219.855136 58.67169 \nL 220.16201 58.67169 \nL 220.16201 58.499255 \nL 220.69904 58.499255 \nL 220.69904 58.32682 \nL 221.312789 58.32682 \nL 221.312789 58.154386 \nL 221.619664 58.154386 \nL 221.619664 57.981951 \nL 222.079975 57.981951 \nL 222.156694 57.637082 \nL 222.540287 57.637082 \nL 222.540287 57.464648 \nL 222.693724 57.464648 \nL 222.770443 57.119778 \nL 223.537629 57.119778 \nL 223.537629 56.774909 \nL 223.691066 56.774909 \nL 223.691066 56.602475 \nL 223.997941 56.602475 \nL 223.997941 56.257606 \nL 224.151378 56.257606 \nL 224.151378 56.085171 \nL 224.688408 56.085171 \nL 224.765127 55.740302 \nL 224.841845 55.740302 \nL 224.918564 55.395433 \nL 225.225438 55.395433 \nL 225.225438 55.222998 \nL 225.455594 55.222998 \nL 225.455594 54.878129 \nL 227.066685 54.878129 \nL 227.066685 54.53326 \nL 228.064027 54.53326 \nL 228.064027 54.360825 \nL 228.294183 54.360825 \nL 228.294183 54.188391 \nL 228.907931 54.188391 \nL 228.907931 54.015956 \nL 229.214806 54.015956 \nL 229.214806 53.843522 \nL 229.675117 53.843522 \nL 229.675117 53.671087 \nL 229.981992 53.671087 \nL 229.981992 53.498652 \nL 230.212148 53.498652 \nL 230.212148 53.153783 \nL 230.519022 53.153783 \nL 230.519022 52.981349 \nL 231.132771 52.981349 \nL 231.132771 52.808914 \nL 232.206831 52.808914 \nL 232.206831 52.636479 \nL 232.82058 52.636479 \nL 232.82058 52.464045 \nL 233.204173 52.464045 \nL 233.204173 52.29161 \nL 233.434329 52.29161 \nL 233.434329 52.119176 \nL 233.971359 52.119176 \nL 234.048078 51.774307 \nL 235.122139 51.774307 \nL 235.122139 51.601872 \nL 235.58245 51.601872 \nL 235.58245 51.429437 \nL 236.579792 51.429437 \nL 236.579792 51.084568 \nL 237.27026 51.084568 \nL 237.27026 50.912134 \nL 237.423697 50.912134 \nL 237.423697 50.567265 \nL 237.577134 50.567265 \nL 237.577134 50.222395 \nL 237.884008 50.222395 \nL 237.884008 50.049961 \nL 238.88135 50.049961 \nL 238.88135 49.877526 \nL 239.111506 49.877526 \nL 239.111506 49.705092 \nL 239.264943 49.705092 \nL 239.264943 49.360223 \nL 240.262285 49.360223 \nL 240.262285 49.187788 \nL 241.029471 49.187788 \nL 241.029471 49.015353 \nL 241.489783 49.015353 \nL 241.489783 48.842919 \nL 242.256969 48.842919 \nL 242.256969 48.670484 \nL 242.717281 48.670484 \nL 242.717281 48.49805 \nL 243.637904 48.49805 \nL 243.714622 48.153181 \nL 244.174934 48.153181 \nL 244.174934 47.980746 \nL 246.169618 47.980746 \nL 246.169618 47.635877 \nL 247.473834 47.635877 \nL 247.473834 47.463442 \nL 247.780709 47.463442 \nL 247.780709 47.291008 \nL 248.624613 47.291008 \nL 248.624613 46.946138 \nL 249.084925 46.946138 \nL 249.084925 46.773704 \nL 249.391799 46.773704 \nL 249.391799 46.601269 \nL 249.545237 46.601269 \nL 249.621955 46.2564 \nL 250.696016 46.2564 \nL 250.696016 46.083966 \nL 253.074293 46.083966 \nL 253.074293 45.911531 \nL 253.22773 45.911531 \nL 253.304448 45.394227 \nL 253.534604 45.394227 \nL 253.534604 45.049358 \nL 253.918197 45.049358 \nL 253.918197 44.876924 \nL 254.225072 44.876924 \nL 254.225072 44.704489 \nL 254.83882 44.704489 \nL 254.83882 44.532054 \nL 255.9896 44.532054 \nL 255.9896 44.35962 \nL 256.373193 44.35962 \nL 256.373193 44.014751 \nL 257.140379 44.014751 \nL 257.140379 43.842316 \nL 257.370534 43.842316 \nL 257.370534 43.669882 \nL 259.058344 43.669882 \nL 259.058344 43.497447 \nL 261.513339 43.497447 \nL 261.513339 43.325012 \nL 262.894274 43.325012 \nL 262.894274 43.152578 \nL 263.584742 43.152578 \nL 263.584742 42.980143 \nL 263.738179 42.980143 \nL 263.738179 42.807709 \nL 264.658802 42.807709 \nL 264.658802 42.635274 \nL 264.812239 42.635274 \nL 264.812239 42.46284 \nL 267.190516 42.46284 \nL 267.190516 42.11797 \nL 267.880984 42.11797 \nL 267.880984 41.945536 \nL 268.264577 41.945536 \nL 268.341295 41.600667 \nL 268.64817 41.600667 \nL 268.64817 41.428232 \nL 269.338637 41.428232 \nL 269.338637 41.255797 \nL 271.640195 41.255797 \nL 271.716914 40.910928 \nL 273.711598 40.910928 \nL 273.711598 40.738494 \nL 274.555502 40.738494 \nL 274.555502 40.566059 \nL 274.862377 40.566059 \nL 274.862377 40.393625 \nL 275.322688 40.393625 \nL 275.399407 40.22119 \nL 275.706282 40.22119 \nL 275.706282 40.048755 \nL 276.243312 40.048755 \nL 276.243312 39.876321 \nL 278.314714 39.876321 \nL 278.391433 39.531452 \nL 279.312056 39.531452 \nL 279.312056 39.186583 \nL 279.465493 39.186583 \nL 279.465493 39.014148 \nL 280.999865 39.014148 \nL 280.999865 38.841713 \nL 282.534238 38.841713 \nL 282.534238 38.669279 \nL 283.531579 38.669279 \nL 283.531579 38.496844 \nL 283.685017 38.496844 \nL 283.685017 38.32441 \nL 284.528921 38.32441 \nL 284.528921 37.807106 \nL 285.449545 37.807106 \nL 285.449545 37.634671 \nL 286.983917 37.634671 \nL 286.983917 37.462237 \nL 288.595007 37.462237 \nL 288.595007 37.289802 \nL 289.745787 37.289802 \nL 289.745787 37.117368 \nL 289.975942 37.117368 \nL 289.975942 36.944933 \nL 291.20344 36.944933 \nL 291.20344 36.772499 \nL 292.047345 36.772499 \nL 292.124063 36.427629 \nL 292.967968 36.427629 \nL 292.967968 36.255195 \nL 293.735154 36.255195 \nL 293.888591 35.910326 \nL 295.576401 35.910326 \nL 295.576401 35.565456 \nL 297.877959 35.565456 \nL 297.877959 35.393022 \nL 300.639829 35.393022 \nL 300.639829 35.220587 \nL 301.483733 35.220587 \nL 301.483733 35.048153 \nL 302.78795 35.048153 \nL 302.78795 34.875718 \nL 304.475759 34.875718 \nL 304.475759 34.703284 \nL 306.317006 34.703284 \nL 306.317006 34.530849 \nL 308.388408 34.530849 \nL 308.388408 34.358414 \nL 310.536529 34.358414 \nL 310.613248 34.013545 \nL 311.073559 34.013545 \nL 311.073559 33.841111 \nL 311.764027 33.841111 \nL 311.764027 33.496242 \nL 312.454494 33.496242 \nL 312.454494 33.323807 \nL 314.295741 33.323807 \nL 314.295741 33.151372 \nL 315.44652 33.151372 \nL 315.44652 32.978938 \nL 316.674018 32.978938 \nL 316.674018 32.806503 \nL 317.748078 32.806503 \nL 317.748078 32.634069 \nL 319.052294 32.634069 \nL 319.129013 32.2892 \nL 319.435887 32.2892 \nL 319.435887 32.116765 \nL 323.655411 32.116765 \nL 323.655411 31.94433 \nL 324.115722 31.94433 \nL 324.115722 31.771896 \nL 324.729471 31.771896 \nL 324.729471 31.599461 \nL 325.189783 31.599461 \nL 325.189783 31.427027 \nL 326.110406 31.427027 \nL 326.110406 31.254592 \nL 326.954311 31.254592 \nL 326.954311 31.082158 \nL 327.184467 31.082158 \nL 327.184467 30.909723 \nL 328.565402 30.909723 \nL 328.565402 30.737288 \nL 328.795557 30.737288 \nL 328.795557 30.564854 \nL 329.332588 30.564854 \nL 329.332588 30.219985 \nL 329.869618 30.219985 \nL 329.869618 30.04755 \nL 330.790241 30.04755 \nL 330.86696 29.357812 \nL 332.247895 29.357812 \nL 332.247895 29.185377 \nL 332.784925 29.185377 \nL 332.861644 28.840508 \nL 334.549453 28.840508 \nL 334.549453 28.668073 \nL 335.546795 28.668073 \nL 335.546795 28.495639 \nL 335.700232 28.495639 \nL 335.700232 28.323204 \nL 335.930388 28.323204 \nL 335.930388 28.15077 \nL 337.388041 28.15077 \nL 337.388041 27.978335 \nL 340.149911 27.978335 \nL 340.22663 27.633466 \nL 340.686941 27.633466 \nL 340.686941 27.461031 \nL 342.221314 27.461031 \nL 342.221314 27.288597 \nL 343.218655 27.288597 \nL 343.218655 27.116162 \nL 343.755686 27.116162 \nL 343.755686 26.943728 \nL 343.909123 26.943728 \nL 343.909123 26.771293 \nL 349.279425 26.771293 \nL 349.356144 26.426424 \nL 349.509581 26.426424 \nL 349.509581 26.253989 \nL 349.893174 26.253989 \nL 349.893174 25.90912 \nL 351.427546 25.90912 \nL 351.427546 25.736686 \nL 351.657702 25.736686 \nL 351.657702 25.564251 \nL 352.578326 25.564251 \nL 352.578326 25.391817 \nL 352.8852 25.391817 \nL 352.8852 25.219382 \nL 353.038637 25.219382 \nL 353.038637 25.046947 \nL 358.025347 25.046947 \nL 358.025347 24.874513 \nL 358.178784 24.874513 \nL 358.178784 24.702078 \nL 359.022688 24.702078 \nL 359.022688 24.529644 \nL 360.250186 24.529644 \nL 360.250186 24.357209 \nL 360.787216 24.357209 \nL 360.787216 24.184774 \nL 362.551744 24.184774 \nL 362.551744 24.01234 \nL 363.165493 24.01234 \nL 363.165493 23.839905 \nL 364.699865 23.839905 \nL 364.699865 23.667471 \nL 365.927363 23.667471 \nL 365.927363 23.495036 \nL 369.456419 23.495036 \nL 369.456419 23.150167 \nL 371.527821 23.150167 \nL 371.527821 22.977732 \nL 372.371726 22.977732 \nL 372.371726 22.805298 \nL 372.985475 22.805298 \nL 372.985475 22.632863 \nL 373.675942 22.632863 \nL 373.675942 22.460429 \nL 374.136254 22.460429 \nL 374.136254 22.287994 \nL 375.44047 22.287994 \nL 375.44047 22.11556 \nL 376.130938 22.11556 \nL 376.130938 21.943125 \nL 376.284375 21.943125 \nL 376.284375 21.943125 \n\" style=\"fill:none;stroke:#1f77b4;stroke-linecap:round;stroke-width:1.5;\"/>\n   </g>\n   <g id=\"patch_3\">\n    <path d=\"M 41.484375 239.383125 \nL 41.484375 21.943125 \n\" style=\"fill:none;stroke:#ffffff;stroke-linecap:square;stroke-linejoin:miter;stroke-width:0.8;\"/>\n   </g>\n   <g id=\"patch_4\">\n    <path d=\"M 376.284375 239.383125 \nL 376.284375 21.943125 \n\" style=\"fill:none;stroke:#ffffff;stroke-linecap:square;stroke-linejoin:miter;stroke-width:0.8;\"/>\n   </g>\n   <g id=\"patch_5\">\n    <path d=\"M 41.484375 239.383125 \nL 376.284375 239.383125 \n\" style=\"fill:none;stroke:#ffffff;stroke-linecap:square;stroke-linejoin:miter;stroke-width:0.8;\"/>\n   </g>\n   <g id=\"patch_6\">\n    <path d=\"M 41.484375 21.943125 \nL 376.284375 21.943125 \n\" style=\"fill:none;stroke:#ffffff;stroke-linecap:square;stroke-linejoin:miter;stroke-width:0.8;\"/>\n   </g>\n   <g id=\"text_15\">\n    <!-- ROC curve for Logisitic Regression -->\n    <defs>\n     <path d=\"M 4.828125 34.859375 \nQ 4.828125 52.6875 14.390625 62.765625 \nQ 23.96875 72.859375 39.109375 72.859375 \nQ 49.03125 72.859375 56.984375 68.109375 \nQ 64.9375 63.375 69.109375 54.90625 \nQ 73.296875 46.4375 73.296875 35.6875 \nQ 73.296875 24.8125 68.890625 16.21875 \nQ 64.5 7.625 56.4375 3.203125 \nQ 48.390625 -1.21875 39.0625 -1.21875 \nQ 28.953125 -1.21875 20.984375 3.65625 \nQ 13.03125 8.546875 8.921875 16.984375 \nQ 4.828125 25.4375 4.828125 34.859375 \nz\nM 14.59375 34.71875 \nQ 14.59375 21.78125 21.546875 14.328125 \nQ 28.515625 6.890625 39.015625 6.890625 \nQ 49.703125 6.890625 56.609375 14.40625 \nQ 63.53125 21.921875 63.53125 35.75 \nQ 63.53125 44.484375 60.578125 51 \nQ 57.625 57.515625 51.921875 61.109375 \nQ 46.234375 64.703125 39.15625 64.703125 \nQ 29.109375 64.703125 21.84375 57.78125 \nQ 14.59375 50.875 14.59375 34.71875 \nz\n\" id=\"ArialMT-79\"/>\n     <path d=\"M 58.796875 25.09375 \nL 68.265625 22.703125 \nQ 65.28125 11.03125 57.546875 4.90625 \nQ 49.8125 -1.21875 38.625 -1.21875 \nQ 27.046875 -1.21875 19.796875 3.484375 \nQ 12.546875 8.203125 8.765625 17.140625 \nQ 4.984375 26.078125 4.984375 36.328125 \nQ 4.984375 47.515625 9.25 55.828125 \nQ 13.53125 64.15625 21.40625 68.46875 \nQ 29.296875 72.796875 38.765625 72.796875 \nQ 49.515625 72.796875 56.828125 67.328125 \nQ 64.15625 61.859375 67.046875 51.953125 \nL 57.71875 49.75 \nQ 55.21875 57.5625 50.484375 61.125 \nQ 45.75 64.703125 38.578125 64.703125 \nQ 30.328125 64.703125 24.78125 60.734375 \nQ 19.234375 56.78125 16.984375 50.109375 \nQ 14.75 43.453125 14.75 36.375 \nQ 14.75 27.25 17.40625 20.4375 \nQ 20.0625 13.625 25.671875 10.25 \nQ 31.296875 6.890625 37.84375 6.890625 \nQ 45.796875 6.890625 51.3125 11.46875 \nQ 56.84375 16.0625 58.796875 25.09375 \nz\n\" id=\"ArialMT-67\"/>\n     <path d=\"M 7.328125 0 \nL 7.328125 71.578125 \nL 16.796875 71.578125 \nL 16.796875 8.453125 \nL 52.046875 8.453125 \nL 52.046875 0 \nz\n\" id=\"ArialMT-76\"/>\n     <path d=\"M 4.984375 -4.296875 \nL 13.53125 -5.5625 \nQ 14.0625 -9.515625 16.5 -11.328125 \nQ 19.78125 -13.765625 25.4375 -13.765625 \nQ 31.546875 -13.765625 34.859375 -11.328125 \nQ 38.1875 -8.890625 39.359375 -4.5 \nQ 40.046875 -1.8125 39.984375 6.78125 \nQ 34.234375 0 25.640625 0 \nQ 14.9375 0 9.078125 7.71875 \nQ 3.21875 15.4375 3.21875 26.21875 \nQ 3.21875 33.640625 5.90625 39.90625 \nQ 8.59375 46.1875 13.6875 49.609375 \nQ 18.796875 53.03125 25.6875 53.03125 \nQ 34.859375 53.03125 40.828125 45.609375 \nL 40.828125 51.859375 \nL 48.921875 51.859375 \nL 48.921875 7.03125 \nQ 48.921875 -5.078125 46.453125 -10.125 \nQ 44 -15.1875 38.640625 -18.109375 \nQ 33.296875 -21.046875 25.484375 -21.046875 \nQ 16.21875 -21.046875 10.5 -16.875 \nQ 4.78125 -12.703125 4.984375 -4.296875 \nz\nM 12.25 26.859375 \nQ 12.25 16.65625 16.296875 11.96875 \nQ 20.359375 7.28125 26.46875 7.28125 \nQ 32.515625 7.28125 36.609375 11.9375 \nQ 40.71875 16.609375 40.71875 26.5625 \nQ 40.71875 36.078125 36.5 40.90625 \nQ 32.28125 45.75 26.3125 45.75 \nQ 20.453125 45.75 16.34375 40.984375 \nQ 12.25 36.234375 12.25 26.859375 \nz\n\" id=\"ArialMT-103\"/>\n    </defs>\n    <g style=\"fill:#262626;\" transform=\"translate(115.18875 15.943125)scale(0.12 -0.12)\">\n     <use xlink:href=\"#ArialMT-82\"/>\n     <use x=\"72.216797\" xlink:href=\"#ArialMT-79\"/>\n     <use x=\"150\" xlink:href=\"#ArialMT-67\"/>\n     <use x=\"222.216797\" xlink:href=\"#ArialMT-32\"/>\n     <use x=\"250\" xlink:href=\"#ArialMT-99\"/>\n     <use x=\"300\" xlink:href=\"#ArialMT-117\"/>\n     <use x=\"355.615234\" xlink:href=\"#ArialMT-114\"/>\n     <use x=\"388.916016\" xlink:href=\"#ArialMT-118\"/>\n     <use x=\"438.916016\" xlink:href=\"#ArialMT-101\"/>\n     <use x=\"494.53125\" xlink:href=\"#ArialMT-32\"/>\n     <use x=\"522.314453\" xlink:href=\"#ArialMT-102\"/>\n     <use x=\"550.097656\" xlink:href=\"#ArialMT-111\"/>\n     <use x=\"605.712891\" xlink:href=\"#ArialMT-114\"/>\n     <use x=\"639.013672\" xlink:href=\"#ArialMT-32\"/>\n     <use x=\"666.796875\" xlink:href=\"#ArialMT-76\"/>\n     <use x=\"722.412109\" xlink:href=\"#ArialMT-111\"/>\n     <use x=\"778.027344\" xlink:href=\"#ArialMT-103\"/>\n     <use x=\"833.642578\" xlink:href=\"#ArialMT-105\"/>\n     <use x=\"855.859375\" xlink:href=\"#ArialMT-115\"/>\n     <use x=\"905.859375\" xlink:href=\"#ArialMT-105\"/>\n     <use x=\"928.076172\" xlink:href=\"#ArialMT-116\"/>\n     <use x=\"955.859375\" xlink:href=\"#ArialMT-105\"/>\n     <use x=\"978.076172\" xlink:href=\"#ArialMT-99\"/>\n     <use x=\"1028.076172\" xlink:href=\"#ArialMT-32\"/>\n     <use x=\"1055.859375\" xlink:href=\"#ArialMT-82\"/>\n     <use x=\"1128.076172\" xlink:href=\"#ArialMT-101\"/>\n     <use x=\"1183.691406\" xlink:href=\"#ArialMT-103\"/>\n     <use x=\"1239.306641\" xlink:href=\"#ArialMT-114\"/>\n     <use x=\"1272.607422\" xlink:href=\"#ArialMT-101\"/>\n     <use x=\"1328.222656\" xlink:href=\"#ArialMT-115\"/>\n     <use x=\"1378.222656\" xlink:href=\"#ArialMT-115\"/>\n     <use x=\"1428.222656\" xlink:href=\"#ArialMT-105\"/>\n     <use x=\"1450.439453\" xlink:href=\"#ArialMT-111\"/>\n     <use x=\"1506.054688\" xlink:href=\"#ArialMT-110\"/>\n    </g>\n   </g>\n  </g>\n </g>\n <defs>\n  <clipPath id=\"p57245653d3\">\n   <rect height=\"217.44\" width=\"334.8\" x=\"41.484375\" y=\"21.943125\"/>\n  </clipPath>\n </defs>\n</svg>\n",
      "image/png": "[encoded data removed]"
     },
     "metadata": {}
    }
   ],
   "source": [
    "# ROC Curve\n",
    "fpr, tpr, thresholds = metrics.roc_curve(y_test, y_pred_prob)\n",
    "plt.plot(fpr, tpr)\n",
    "plt.xlim([0.0, 1.0])\n",
    "plt.ylim([0.0, 1.0])\n",
    "plt.title('ROC curve for Logisitic Regression')\n",
    "plt.xlabel('False Positive Rate (1 - Specificity)')\n",
    "plt.ylabel('True Positive Rate (Sensitivity)')\n",
    "plt.grid(True)"
   ]
  },
  {
   "cell_type": "code",
   "execution_count": 46,
   "metadata": {},
   "outputs": [
    {
     "output_type": "stream",
     "name": "stdout",
     "text": [
      "0.7648104562526212\n"
     ]
    }
   ],
   "source": [
    "# Generating AUC\n",
    "print(metrics.roc_auc_score(y_test, y_pred_prob))\n",
    "# print('AUC: {}'.format(auc(fpr, tpr)))"
   ]
  },
  {
   "source": [
    "Let's intepret this **ROC Curve**:\n",
    "- Ideally, we want an ROC that hugs the upper left corner of the graph\n",
    "- We can also use the ROC to determine the threshold with the threshold with the best precision-recall tradeoff.\n",
    "\n",
    "Interpret AUC:\n",
    "- Ideally, we want an AUC of 1\n",
    "- So this model's predictions are only 76.68% correct"
   ],
   "cell_type": "markdown",
   "metadata": {}
  },
  {
   "source": [
    "Let's also create a **confusion matrix** here"
   ],
   "cell_type": "markdown",
   "metadata": {}
  },
  {
   "cell_type": "code",
   "execution_count": 47,
   "metadata": {},
   "outputs": [],
   "source": [
    "# y_true = y_test (ground truth/ correct target values)\n",
    "# y_pred = logreg_y_pred_test (estimated targets as returned by classifier)\n",
    "\n",
    "confusion = metrics.confusion_matrix(y_test, logreg_y_pred_test)\n",
    "TN = confusion[0, 0]\n",
    "FP = confusion[0, 1]\n",
    "FN = confusion[1, 0]\n",
    "TP = confusion[1, 1]"
   ]
  },
  {
   "cell_type": "code",
   "execution_count": 48,
   "metadata": {},
   "outputs": [
    {
     "output_type": "execute_result",
     "data": {
      "text/plain": [
       "array([[3621,  743],\n",
       "       [ 517,  744]])"
      ]
     },
     "metadata": {},
     "execution_count": 48
    }
   ],
   "source": [
    "# print(metrics.confusion_matrix(y_test, y_pred_class))\n",
    "confusion"
   ]
  },
  {
   "cell_type": "code",
   "execution_count": 49,
   "metadata": {},
   "outputs": [
    {
     "output_type": "stream",
     "name": "stdout",
     "text": [
      "0.776\n"
     ]
    }
   ],
   "source": [
    "# formula for accuracy\n",
    "print((TP + TN) / float(TP + TN + FP + FN))\n",
    "# metrics.accuracy_score(y_test, logreg_y_pred_test)"
   ]
  },
  {
   "cell_type": "code",
   "execution_count": 50,
   "metadata": {},
   "outputs": [],
   "source": [
    "# print(metrics.classification_report(y_test, logreg_y_pred_test))"
   ]
  },
  {
   "cell_type": "code",
   "execution_count": 51,
   "metadata": {},
   "outputs": [
    {
     "output_type": "stream",
     "name": "stdout",
     "text": [
      "accuracy: 0.776\nprecision: 0.5003362474781439\nrecall: 0.5900079302141158\nspecificity: 0.8297433547204399\nf1 score: 0.5414847161572053\n"
     ]
    }
   ],
   "source": [
    "print('accuracy:', metrics.accuracy_score(y_test, logreg_y_pred_test))\n",
    "print('precision:', metrics.precision_score(y_test, logreg_y_pred_test))\n",
    "print('recall:', metrics.recall_score(y_test, logreg_y_pred_test))\n",
    "print('specificity:', TN / float(TN + FP))\n",
    "print('f1 score:', metrics.f1_score(y_test, logreg_y_pred_test))"
   ]
  },
  {
   "cell_type": "code",
   "execution_count": 52,
   "metadata": {},
   "outputs": [
    {
     "output_type": "execute_result",
     "data": {
      "text/plain": [
       "<sklearn.metrics._plot.confusion_matrix.ConfusionMatrixDisplay at 0x7ff35a6b2ef0>"
      ]
     },
     "metadata": {},
     "execution_count": 52
    },
    {
     "output_type": "display_data",
     "data": {
      "text/plain": "<Figure size 432x288 with 2 Axes>",
      "image/svg+xml": "<?xml version=\"1.0\" encoding=\"utf-8\" standalone=\"no\"?>\n<!DOCTYPE svg PUBLIC \"-//W3C//DTD SVG 1.1//EN\"\n  \"http://www.w3.org/Graphics/SVG/1.1/DTD/svg11.dtd\">\n<!-- Created with matplotlib (https://matplotlib.org/) -->\n<svg height=\"261.130625pt\" version=\"1.1\" viewBox=\"0 0 314.402 261.130625\" width=\"314.402pt\" xmlns=\"http://www.w3.org/2000/svg\" xmlns:xlink=\"http://www.w3.org/1999/xlink\">\n <defs>\n  <style type=\"text/css\">\n*{stroke-linecap:butt;stroke-linejoin:round;}\n  </style>\n </defs>\n <g id=\"figure_1\">\n  <g id=\"patch_1\">\n   <path d=\"M 0 261.130625 \nL 314.402 261.130625 \nL 314.402 0 \nL 0 0 \nz\n\" style=\"fill:#ffffff;\"/>\n  </g>\n  <g id=\"axes_1\">\n   <g id=\"patch_2\">\n    <path d=\"M 32.90625 224.64 \nL 250.34625 224.64 \nL 250.34625 7.2 \nL 32.90625 7.2 \nz\n\" style=\"fill:#eaeaf2;\"/>\n   </g>\n   <g clip-path=\"url(#p617fb7a412)\">\n    <image height=\"218\" id=\"image46d3bb5736\" transform=\"scale(1 -1)translate(0 -218)\" width=\"218\" x=\"32.90625\" xlink:href=\"data:image/png;base64,\niVBORw0KGgoAAAANSUhEUgAAANoAAADaCAYAAADAHVzbAAAABHNCSVQICAgIfAhkiAAAAphJREFUeJzt1TERAkEABEGeCDnvCzFowgkWSJ7gg0PDJXNF0a1gk6ndPucYF37K+zhXT2DSdfUA+AdCg4DQICA0CAgNAkKDgNAgIDQICA0CQoOA0CAgNAgIDQJCg4DQICA0CAgNAkKDgNAgIDQICA0CQoOA0CAgNAgIDQJCg4DQICA0CAgNAkKDgNAgIDQICA0CQoOA0CAgNAgIDQJCg4DQICA0CAgNAkKDgNAgIDQICA0CQoOA0CAgNAgIDQJCg4DQICA0CAgNAkKDgNAgIDQICA0CQoOA0CAgNAgIDQJCg4DQICA0CAgNAkKDgNAgIDQICA0CQoOA0CAgNAgIDQJCg4DQICA0CAgNAkKDgNAgIDQICA0CQoOA0CAgNAgIDQJCg4DQICA0CAgNAkKDgNAgIDQICA0CQoOA0CAgNAgIDQJCg4DQICA0CAgNAkKDgNAgIDQICA0CQoOA0CAgNAhst/0+Vo9gzuv5WD2BSR4NAkKDgNAgIDQICA0CQoOA0CAgNAgIDQJCg4DQICA0CAgNAkKDgNAgIDQICA0CQoOA0CAgNAgIDQJCg4DQICA0CAgNAkKDgNAgIDQICA0CQoOA0CAgNAgIDQJCg4DQICA0CAgNAkKDgNAgIDQICA0CQoOA0CAgNAgIDQJCg4DQICA0CAgNAkKDgNAgIDQICA0CQoOA0CAgNAgIDQJCg4DQICA0CAgNAkKDgNAgIDQICA0CQoOA0CAgNAgIDQJCg4DQICA0CAgNAkKDgNAgIDQICA0CQoOA0CAgNAgIDQJCg4DQICA0CAgNAkKDgNAgIDQICA0CQoOA0CAgNAgIDQJCg4DQICA0CAgNAkKDgNAgIDQICA0CQoOA0CAgNAgIDQJCg4DQICA0CHwBw1oMVzTpPzYAAAAASUVORK5CYII=\" y=\"-6.64\"/>\n   </g>\n   <g id=\"matplotlib.axis_1\">\n    <g id=\"xtick_1\">\n     <g id=\"line2d_1\">\n      <path clip-path=\"url(#p617fb7a412)\" d=\"M 87.26625 224.64 \nL 87.26625 7.2 \n\" style=\"fill:none;stroke:#ffffff;stroke-linecap:round;stroke-width:0.8;\"/>\n     </g>\n     <g id=\"text_1\">\n      <!-- 0 -->\n      <defs>\n       <path d=\"M 4.15625 35.296875 \nQ 4.15625 48 6.765625 55.734375 \nQ 9.375 63.484375 14.515625 67.671875 \nQ 19.671875 71.875 27.484375 71.875 \nQ 33.25 71.875 37.59375 69.546875 \nQ 41.9375 67.234375 44.765625 62.859375 \nQ 47.609375 58.5 49.21875 52.21875 \nQ 50.828125 45.953125 50.828125 35.296875 \nQ 50.828125 22.703125 48.234375 14.96875 \nQ 45.65625 7.234375 40.5 3 \nQ 35.359375 -1.21875 27.484375 -1.21875 \nQ 17.140625 -1.21875 11.234375 6.203125 \nQ 4.15625 15.140625 4.15625 35.296875 \nz\nM 13.1875 35.296875 \nQ 13.1875 17.671875 17.3125 11.828125 \nQ 21.4375 6 27.484375 6 \nQ 33.546875 6 37.671875 11.859375 \nQ 41.796875 17.71875 41.796875 35.296875 \nQ 41.796875 52.984375 37.671875 58.78125 \nQ 33.546875 64.59375 27.390625 64.59375 \nQ 21.34375 64.59375 17.71875 59.46875 \nQ 13.1875 52.9375 13.1875 35.296875 \nz\n\" id=\"ArialMT-48\"/>\n      </defs>\n      <g style=\"fill:#262626;\" transform=\"translate(84.485781 238.797812)scale(0.1 -0.1)\">\n       <use xlink:href=\"#ArialMT-48\"/>\n      </g>\n     </g>\n    </g>\n    <g id=\"xtick_2\">\n     <g id=\"line2d_2\">\n      <path clip-path=\"url(#p617fb7a412)\" d=\"M 195.98625 224.64 \nL 195.98625 7.2 \n\" style=\"fill:none;stroke:#ffffff;stroke-linecap:round;stroke-width:0.8;\"/>\n     </g>\n     <g id=\"text_2\">\n      <!-- 1 -->\n      <defs>\n       <path d=\"M 37.25 0 \nL 28.46875 0 \nL 28.46875 56 \nQ 25.296875 52.984375 20.140625 49.953125 \nQ 14.984375 46.921875 10.890625 45.40625 \nL 10.890625 53.90625 \nQ 18.265625 57.375 23.78125 62.296875 \nQ 29.296875 67.234375 31.59375 71.875 \nL 37.25 71.875 \nz\n\" id=\"ArialMT-49\"/>\n      </defs>\n      <g style=\"fill:#262626;\" transform=\"translate(193.205781 238.797812)scale(0.1 -0.1)\">\n       <use xlink:href=\"#ArialMT-49\"/>\n      </g>\n     </g>\n    </g>\n    <g id=\"text_3\">\n     <!-- Predicted label -->\n     <defs>\n      <path d=\"M 7.71875 0 \nL 7.71875 71.578125 \nL 34.71875 71.578125 \nQ 41.84375 71.578125 45.609375 70.90625 \nQ 50.875 70.015625 54.4375 67.546875 \nQ 58.015625 65.09375 60.1875 60.640625 \nQ 62.359375 56.203125 62.359375 50.875 \nQ 62.359375 41.75 56.546875 35.421875 \nQ 50.734375 29.109375 35.546875 29.109375 \nL 17.1875 29.109375 \nL 17.1875 0 \nz\nM 17.1875 37.546875 \nL 35.6875 37.546875 \nQ 44.875 37.546875 48.734375 40.96875 \nQ 52.59375 44.390625 52.59375 50.59375 \nQ 52.59375 55.078125 50.3125 58.265625 \nQ 48.046875 61.46875 44.34375 62.5 \nQ 41.9375 63.140625 35.5 63.140625 \nL 17.1875 63.140625 \nz\n\" id=\"ArialMT-80\"/>\n      <path d=\"M 6.5 0 \nL 6.5 51.859375 \nL 14.40625 51.859375 \nL 14.40625 44 \nQ 17.4375 49.515625 20 51.265625 \nQ 22.5625 53.03125 25.640625 53.03125 \nQ 30.078125 53.03125 34.671875 50.203125 \nL 31.640625 42.046875 \nQ 28.421875 43.953125 25.203125 43.953125 \nQ 22.3125 43.953125 20.015625 42.21875 \nQ 17.71875 40.484375 16.75 37.40625 \nQ 15.28125 32.71875 15.28125 27.15625 \nL 15.28125 0 \nz\n\" id=\"ArialMT-114\"/>\n      <path d=\"M 42.09375 16.703125 \nL 51.171875 15.578125 \nQ 49.03125 7.625 43.21875 3.21875 \nQ 37.40625 -1.171875 28.375 -1.171875 \nQ 17 -1.171875 10.328125 5.828125 \nQ 3.65625 12.84375 3.65625 25.484375 \nQ 3.65625 38.578125 10.390625 45.796875 \nQ 17.140625 53.03125 27.875 53.03125 \nQ 38.28125 53.03125 44.875 45.953125 \nQ 51.46875 38.875 51.46875 26.03125 \nQ 51.46875 25.25 51.421875 23.6875 \nL 12.75 23.6875 \nQ 13.234375 15.140625 17.578125 10.59375 \nQ 21.921875 6.0625 28.421875 6.0625 \nQ 33.25 6.0625 36.671875 8.59375 \nQ 40.09375 11.140625 42.09375 16.703125 \nz\nM 13.234375 30.90625 \nL 42.1875 30.90625 \nQ 41.609375 37.453125 38.875 40.71875 \nQ 34.671875 45.796875 27.984375 45.796875 \nQ 21.921875 45.796875 17.796875 41.75 \nQ 13.671875 37.703125 13.234375 30.90625 \nz\n\" id=\"ArialMT-101\"/>\n      <path d=\"M 40.234375 0 \nL 40.234375 6.546875 \nQ 35.296875 -1.171875 25.734375 -1.171875 \nQ 19.53125 -1.171875 14.328125 2.25 \nQ 9.125 5.671875 6.265625 11.796875 \nQ 3.421875 17.921875 3.421875 25.875 \nQ 3.421875 33.640625 6 39.96875 \nQ 8.59375 46.296875 13.765625 49.65625 \nQ 18.953125 53.03125 25.34375 53.03125 \nQ 30.03125 53.03125 33.6875 51.046875 \nQ 37.359375 49.078125 39.65625 45.90625 \nL 39.65625 71.578125 \nL 48.390625 71.578125 \nL 48.390625 0 \nz\nM 12.453125 25.875 \nQ 12.453125 15.921875 16.640625 10.984375 \nQ 20.84375 6.0625 26.5625 6.0625 \nQ 32.328125 6.0625 36.34375 10.765625 \nQ 40.375 15.484375 40.375 25.140625 \nQ 40.375 35.796875 36.265625 40.765625 \nQ 32.171875 45.75 26.171875 45.75 \nQ 20.3125 45.75 16.375 40.96875 \nQ 12.453125 36.1875 12.453125 25.875 \nz\n\" id=\"ArialMT-100\"/>\n      <path d=\"M 6.640625 61.46875 \nL 6.640625 71.578125 \nL 15.4375 71.578125 \nL 15.4375 61.46875 \nz\nM 6.640625 0 \nL 6.640625 51.859375 \nL 15.4375 51.859375 \nL 15.4375 0 \nz\n\" id=\"ArialMT-105\"/>\n      <path d=\"M 40.4375 19 \nL 49.078125 17.875 \nQ 47.65625 8.9375 41.8125 3.875 \nQ 35.984375 -1.171875 27.484375 -1.171875 \nQ 16.84375 -1.171875 10.375 5.78125 \nQ 3.90625 12.75 3.90625 25.734375 \nQ 3.90625 34.125 6.6875 40.421875 \nQ 9.46875 46.734375 15.15625 49.875 \nQ 20.84375 53.03125 27.546875 53.03125 \nQ 35.984375 53.03125 41.359375 48.75 \nQ 46.734375 44.484375 48.25 36.625 \nL 39.703125 35.296875 \nQ 38.484375 40.53125 35.375 43.15625 \nQ 32.28125 45.796875 27.875 45.796875 \nQ 21.234375 45.796875 17.078125 41.03125 \nQ 12.9375 36.28125 12.9375 25.984375 \nQ 12.9375 15.53125 16.9375 10.796875 \nQ 20.953125 6.0625 27.390625 6.0625 \nQ 32.5625 6.0625 36.03125 9.234375 \nQ 39.5 12.40625 40.4375 19 \nz\n\" id=\"ArialMT-99\"/>\n      <path d=\"M 25.78125 7.859375 \nL 27.046875 0.09375 \nQ 23.34375 -0.6875 20.40625 -0.6875 \nQ 15.625 -0.6875 12.984375 0.828125 \nQ 10.359375 2.34375 9.28125 4.8125 \nQ 8.203125 7.28125 8.203125 15.1875 \nL 8.203125 45.015625 \nL 1.765625 45.015625 \nL 1.765625 51.859375 \nL 8.203125 51.859375 \nL 8.203125 64.703125 \nL 16.9375 69.96875 \nL 16.9375 51.859375 \nL 25.78125 51.859375 \nL 25.78125 45.015625 \nL 16.9375 45.015625 \nL 16.9375 14.703125 \nQ 16.9375 10.9375 17.40625 9.859375 \nQ 17.875 8.796875 18.921875 8.15625 \nQ 19.96875 7.515625 21.921875 7.515625 \nQ 23.390625 7.515625 25.78125 7.859375 \nz\n\" id=\"ArialMT-116\"/>\n      <path id=\"ArialMT-32\"/>\n      <path d=\"M 6.390625 0 \nL 6.390625 71.578125 \nL 15.1875 71.578125 \nL 15.1875 0 \nz\n\" id=\"ArialMT-108\"/>\n      <path d=\"M 40.4375 6.390625 \nQ 35.546875 2.25 31.03125 0.53125 \nQ 26.515625 -1.171875 21.34375 -1.171875 \nQ 12.796875 -1.171875 8.203125 3 \nQ 3.609375 7.171875 3.609375 13.671875 \nQ 3.609375 17.484375 5.34375 20.625 \nQ 7.078125 23.78125 9.890625 25.6875 \nQ 12.703125 27.59375 16.21875 28.5625 \nQ 18.796875 29.25 24.03125 29.890625 \nQ 34.671875 31.15625 39.703125 32.90625 \nQ 39.75 34.71875 39.75 35.203125 \nQ 39.75 40.578125 37.25 42.78125 \nQ 33.890625 45.75 27.25 45.75 \nQ 21.046875 45.75 18.09375 43.578125 \nQ 15.140625 41.40625 13.71875 35.890625 \nL 5.125 37.0625 \nQ 6.296875 42.578125 8.984375 45.96875 \nQ 11.671875 49.359375 16.75 51.1875 \nQ 21.828125 53.03125 28.515625 53.03125 \nQ 35.15625 53.03125 39.296875 51.46875 \nQ 43.453125 49.90625 45.40625 47.53125 \nQ 47.359375 45.171875 48.140625 41.546875 \nQ 48.578125 39.3125 48.578125 33.453125 \nL 48.578125 21.734375 \nQ 48.578125 9.46875 49.140625 6.21875 \nQ 49.703125 2.984375 51.375 0 \nL 42.1875 0 \nQ 40.828125 2.734375 40.4375 6.390625 \nz\nM 39.703125 26.03125 \nQ 34.90625 24.078125 25.34375 22.703125 \nQ 19.921875 21.921875 17.671875 20.9375 \nQ 15.4375 19.96875 14.203125 18.09375 \nQ 12.984375 16.21875 12.984375 13.921875 \nQ 12.984375 10.40625 15.640625 8.0625 \nQ 18.3125 5.71875 23.4375 5.71875 \nQ 28.515625 5.71875 32.46875 7.9375 \nQ 36.421875 10.15625 38.28125 14.015625 \nQ 39.703125 17 39.703125 22.796875 \nz\n\" id=\"ArialMT-97\"/>\n      <path d=\"M 14.703125 0 \nL 6.546875 0 \nL 6.546875 71.578125 \nL 15.328125 71.578125 \nL 15.328125 46.046875 \nQ 20.90625 53.03125 29.546875 53.03125 \nQ 34.328125 53.03125 38.59375 51.09375 \nQ 42.875 49.171875 45.625 45.671875 \nQ 48.390625 42.1875 49.953125 37.25 \nQ 51.515625 32.328125 51.515625 26.703125 \nQ 51.515625 13.375 44.921875 6.09375 \nQ 38.328125 -1.171875 29.109375 -1.171875 \nQ 19.921875 -1.171875 14.703125 6.5 \nz\nM 14.59375 26.3125 \nQ 14.59375 17 17.140625 12.84375 \nQ 21.296875 6.0625 28.375 6.0625 \nQ 34.125 6.0625 38.328125 11.0625 \nQ 42.53125 16.0625 42.53125 25.984375 \nQ 42.53125 36.140625 38.5 40.96875 \nQ 34.46875 45.796875 28.765625 45.796875 \nQ 23 45.796875 18.796875 40.796875 \nQ 14.59375 35.796875 14.59375 26.3125 \nz\n\" id=\"ArialMT-98\"/>\n     </defs>\n     <g style=\"fill:#262626;\" transform=\"translate(108.552031 251.943125)scale(0.1 -0.1)\">\n      <use xlink:href=\"#ArialMT-80\"/>\n      <use x=\"66.699219\" xlink:href=\"#ArialMT-114\"/>\n      <use x=\"100\" xlink:href=\"#ArialMT-101\"/>\n      <use x=\"155.615234\" xlink:href=\"#ArialMT-100\"/>\n      <use x=\"211.230469\" xlink:href=\"#ArialMT-105\"/>\n      <use x=\"233.447266\" xlink:href=\"#ArialMT-99\"/>\n      <use x=\"283.447266\" xlink:href=\"#ArialMT-116\"/>\n      <use x=\"311.230469\" xlink:href=\"#ArialMT-101\"/>\n      <use x=\"366.845703\" xlink:href=\"#ArialMT-100\"/>\n      <use x=\"422.460938\" xlink:href=\"#ArialMT-32\"/>\n      <use x=\"450.244141\" xlink:href=\"#ArialMT-108\"/>\n      <use x=\"472.460938\" xlink:href=\"#ArialMT-97\"/>\n      <use x=\"528.076172\" xlink:href=\"#ArialMT-98\"/>\n      <use x=\"583.691406\" xlink:href=\"#ArialMT-101\"/>\n      <use x=\"639.306641\" xlink:href=\"#ArialMT-108\"/>\n     </g>\n    </g>\n   </g>\n   <g id=\"matplotlib.axis_2\">\n    <g id=\"ytick_1\">\n     <g id=\"line2d_3\">\n      <path clip-path=\"url(#p617fb7a412)\" d=\"M 32.90625 61.56 \nL 250.34625 61.56 \n\" style=\"fill:none;stroke:#ffffff;stroke-linecap:round;stroke-width:0.8;\"/>\n     </g>\n     <g id=\"text_4\">\n      <!-- 0 -->\n      <g style=\"fill:#262626;\" transform=\"translate(20.345312 65.138906)scale(0.1 -0.1)\">\n       <use xlink:href=\"#ArialMT-48\"/>\n      </g>\n     </g>\n    </g>\n    <g id=\"ytick_2\">\n     <g id=\"line2d_4\">\n      <path clip-path=\"url(#p617fb7a412)\" d=\"M 32.90625 170.28 \nL 250.34625 170.28 \n\" style=\"fill:none;stroke:#ffffff;stroke-linecap:round;stroke-width:0.8;\"/>\n     </g>\n     <g id=\"text_5\">\n      <!-- 1 -->\n      <g style=\"fill:#262626;\" transform=\"translate(20.345312 173.858906)scale(0.1 -0.1)\">\n       <use xlink:href=\"#ArialMT-49\"/>\n      </g>\n     </g>\n    </g>\n    <g id=\"text_6\">\n     <!-- True label -->\n     <defs>\n      <path d=\"M 25.921875 0 \nL 25.921875 63.140625 \nL 2.34375 63.140625 \nL 2.34375 71.578125 \nL 59.078125 71.578125 \nL 59.078125 63.140625 \nL 35.40625 63.140625 \nL 35.40625 0 \nz\n\" id=\"ArialMT-84\"/>\n      <path d=\"M 40.578125 0 \nL 40.578125 7.625 \nQ 34.515625 -1.171875 24.125 -1.171875 \nQ 19.53125 -1.171875 15.546875 0.578125 \nQ 11.578125 2.34375 9.640625 5 \nQ 7.71875 7.671875 6.9375 11.53125 \nQ 6.390625 14.109375 6.390625 19.734375 \nL 6.390625 51.859375 \nL 15.1875 51.859375 \nL 15.1875 23.09375 \nQ 15.1875 16.21875 15.71875 13.8125 \nQ 16.546875 10.359375 19.234375 8.375 \nQ 21.921875 6.390625 25.875 6.390625 \nQ 29.828125 6.390625 33.296875 8.421875 \nQ 36.765625 10.453125 38.203125 13.9375 \nQ 39.65625 17.4375 39.65625 24.078125 \nL 39.65625 51.859375 \nL 48.4375 51.859375 \nL 48.4375 0 \nz\n\" id=\"ArialMT-117\"/>\n     </defs>\n     <g style=\"fill:#262626;\" transform=\"translate(14.357812 138.149687)rotate(-90)scale(0.1 -0.1)\">\n      <use xlink:href=\"#ArialMT-84\"/>\n      <use x=\"61.037109\" xlink:href=\"#ArialMT-114\"/>\n      <use x=\"94.337891\" xlink:href=\"#ArialMT-117\"/>\n      <use x=\"149.953125\" xlink:href=\"#ArialMT-101\"/>\n      <use x=\"205.568359\" xlink:href=\"#ArialMT-32\"/>\n      <use x=\"233.351562\" xlink:href=\"#ArialMT-108\"/>\n      <use x=\"255.568359\" xlink:href=\"#ArialMT-97\"/>\n      <use x=\"311.183594\" xlink:href=\"#ArialMT-98\"/>\n      <use x=\"366.798828\" xlink:href=\"#ArialMT-101\"/>\n      <use x=\"422.414062\" xlink:href=\"#ArialMT-108\"/>\n     </g>\n    </g>\n   </g>\n   <g id=\"patch_3\">\n    <path d=\"M 32.90625 224.64 \nL 32.90625 7.2 \n\" style=\"fill:none;stroke:#ffffff;stroke-linecap:square;stroke-linejoin:miter;stroke-width:0.8;\"/>\n   </g>\n   <g id=\"patch_4\">\n    <path d=\"M 250.34625 224.64 \nL 250.34625 7.2 \n\" style=\"fill:none;stroke:#ffffff;stroke-linecap:square;stroke-linejoin:miter;stroke-width:0.8;\"/>\n   </g>\n   <g id=\"patch_5\">\n    <path d=\"M 32.90625 224.64 \nL 250.34625 224.64 \n\" style=\"fill:none;stroke:#ffffff;stroke-linecap:square;stroke-linejoin:miter;stroke-width:0.8;\"/>\n   </g>\n   <g id=\"patch_6\">\n    <path d=\"M 32.90625 7.2 \nL 250.34625 7.2 \n\" style=\"fill:none;stroke:#ffffff;stroke-linecap:square;stroke-linejoin:miter;stroke-width:0.8;\"/>\n   </g>\n   <g id=\"text_7\">\n    <!-- 3621 -->\n    <defs>\n     <path d=\"M 4.203125 18.890625 \nL 12.984375 20.0625 \nQ 14.5 12.59375 18.140625 9.296875 \nQ 21.78125 6 27 6 \nQ 33.203125 6 37.46875 10.296875 \nQ 41.75 14.59375 41.75 20.953125 \nQ 41.75 27 37.796875 30.921875 \nQ 33.84375 34.859375 27.734375 34.859375 \nQ 25.25 34.859375 21.53125 33.890625 \nL 22.515625 41.609375 \nQ 23.390625 41.5 23.921875 41.5 \nQ 29.546875 41.5 34.03125 44.421875 \nQ 38.53125 47.359375 38.53125 53.46875 \nQ 38.53125 58.296875 35.25 61.46875 \nQ 31.984375 64.65625 26.8125 64.65625 \nQ 21.6875 64.65625 18.265625 61.421875 \nQ 14.84375 58.203125 13.875 51.765625 \nL 5.078125 53.328125 \nQ 6.6875 62.15625 12.390625 67.015625 \nQ 18.109375 71.875 26.609375 71.875 \nQ 32.46875 71.875 37.390625 69.359375 \nQ 42.328125 66.84375 44.9375 62.5 \nQ 47.5625 58.15625 47.5625 53.265625 \nQ 47.5625 48.640625 45.0625 44.828125 \nQ 42.578125 41.015625 37.703125 38.765625 \nQ 44.046875 37.3125 47.5625 32.6875 \nQ 51.078125 28.078125 51.078125 21.140625 \nQ 51.078125 11.765625 44.234375 5.25 \nQ 37.40625 -1.265625 26.953125 -1.265625 \nQ 17.53125 -1.265625 11.296875 4.34375 \nQ 5.078125 9.96875 4.203125 18.890625 \nz\n\" id=\"ArialMT-51\"/>\n     <path d=\"M 49.75 54.046875 \nL 41.015625 53.375 \nQ 39.84375 58.546875 37.703125 60.890625 \nQ 34.125 64.65625 28.90625 64.65625 \nQ 24.703125 64.65625 21.53125 62.3125 \nQ 17.390625 59.28125 14.984375 53.46875 \nQ 12.59375 47.65625 12.5 36.921875 \nQ 15.671875 41.75 20.265625 44.09375 \nQ 24.859375 46.4375 29.890625 46.4375 \nQ 38.671875 46.4375 44.84375 39.96875 \nQ 51.03125 33.5 51.03125 23.25 \nQ 51.03125 16.5 48.125 10.71875 \nQ 45.21875 4.9375 40.140625 1.859375 \nQ 35.0625 -1.21875 28.609375 -1.21875 \nQ 17.625 -1.21875 10.6875 6.859375 \nQ 3.765625 14.9375 3.765625 33.5 \nQ 3.765625 54.25 11.421875 63.671875 \nQ 18.109375 71.875 29.4375 71.875 \nQ 37.890625 71.875 43.28125 67.140625 \nQ 48.6875 62.40625 49.75 54.046875 \nz\nM 13.875 23.1875 \nQ 13.875 18.65625 15.796875 14.5 \nQ 17.71875 10.359375 21.1875 8.171875 \nQ 24.65625 6 28.46875 6 \nQ 34.03125 6 38.03125 10.484375 \nQ 42.046875 14.984375 42.046875 22.703125 \nQ 42.046875 30.125 38.078125 34.390625 \nQ 34.125 38.671875 28.125 38.671875 \nQ 22.171875 38.671875 18.015625 34.390625 \nQ 13.875 30.125 13.875 23.1875 \nz\n\" id=\"ArialMT-54\"/>\n     <path d=\"M 50.34375 8.453125 \nL 50.34375 0 \nL 3.03125 0 \nQ 2.9375 3.171875 4.046875 6.109375 \nQ 5.859375 10.9375 9.828125 15.625 \nQ 13.8125 20.3125 21.34375 26.46875 \nQ 33.015625 36.03125 37.109375 41.625 \nQ 41.21875 47.21875 41.21875 52.203125 \nQ 41.21875 57.421875 37.46875 61 \nQ 33.734375 64.59375 27.734375 64.59375 \nQ 21.390625 64.59375 17.578125 60.78125 \nQ 13.765625 56.984375 13.71875 50.25 \nL 4.6875 51.171875 \nQ 5.609375 61.28125 11.65625 66.578125 \nQ 17.71875 71.875 27.9375 71.875 \nQ 38.234375 71.875 44.234375 66.15625 \nQ 50.25 60.453125 50.25 52 \nQ 50.25 47.703125 48.484375 43.546875 \nQ 46.734375 39.40625 42.65625 34.8125 \nQ 38.578125 30.21875 29.109375 22.21875 \nQ 21.1875 15.578125 18.9375 13.203125 \nQ 16.703125 10.84375 15.234375 8.453125 \nz\n\" id=\"ArialMT-50\"/>\n    </defs>\n    <g style=\"fill:#f7fbff;\" transform=\"translate(76.144375 64.145156)scale(0.1 -0.1)\">\n     <use xlink:href=\"#ArialMT-51\"/>\n     <use x=\"55.615234\" xlink:href=\"#ArialMT-54\"/>\n     <use x=\"111.230469\" xlink:href=\"#ArialMT-50\"/>\n     <use x=\"166.845703\" xlink:href=\"#ArialMT-49\"/>\n    </g>\n   </g>\n   <g id=\"text_8\">\n    <!-- 743 -->\n    <defs>\n     <path d=\"M 4.734375 62.203125 \nL 4.734375 70.65625 \nL 51.078125 70.65625 \nL 51.078125 63.8125 \nQ 44.234375 56.546875 37.515625 44.484375 \nQ 30.8125 32.421875 27.15625 19.671875 \nQ 24.515625 10.6875 23.78125 0 \nL 14.75 0 \nQ 14.890625 8.453125 18.0625 20.40625 \nQ 21.234375 32.375 27.171875 43.484375 \nQ 33.109375 54.59375 39.796875 62.203125 \nz\n\" id=\"ArialMT-55\"/>\n     <path d=\"M 32.328125 0 \nL 32.328125 17.140625 \nL 1.265625 17.140625 \nL 1.265625 25.203125 \nL 33.9375 71.578125 \nL 41.109375 71.578125 \nL 41.109375 25.203125 \nL 50.78125 25.203125 \nL 50.78125 17.140625 \nL 41.109375 17.140625 \nL 41.109375 0 \nz\nM 32.328125 25.203125 \nL 32.328125 57.46875 \nL 9.90625 25.203125 \nz\n\" id=\"ArialMT-52\"/>\n    </defs>\n    <g style=\"fill:#08306b;\" transform=\"translate(187.644844 64.145156)scale(0.1 -0.1)\">\n     <use xlink:href=\"#ArialMT-55\"/>\n     <use x=\"55.615234\" xlink:href=\"#ArialMT-52\"/>\n     <use x=\"111.230469\" xlink:href=\"#ArialMT-51\"/>\n    </g>\n   </g>\n   <g id=\"text_9\">\n    <!-- 517 -->\n    <defs>\n     <path d=\"M 4.15625 18.75 \nL 13.375 19.53125 \nQ 14.40625 12.796875 18.140625 9.390625 \nQ 21.875 6 27.15625 6 \nQ 33.5 6 37.890625 10.78125 \nQ 42.28125 15.578125 42.28125 23.484375 \nQ 42.28125 31 38.0625 35.34375 \nQ 33.84375 39.703125 27 39.703125 \nQ 22.75 39.703125 19.328125 37.765625 \nQ 15.921875 35.84375 13.96875 32.765625 \nL 5.71875 33.84375 \nL 12.640625 70.609375 \nL 48.25 70.609375 \nL 48.25 62.203125 \nL 19.671875 62.203125 \nL 15.828125 42.96875 \nQ 22.265625 47.46875 29.34375 47.46875 \nQ 38.71875 47.46875 45.15625 40.96875 \nQ 51.609375 34.46875 51.609375 24.265625 \nQ 51.609375 14.546875 45.953125 7.46875 \nQ 39.0625 -1.21875 27.15625 -1.21875 \nQ 17.390625 -1.21875 11.203125 4.25 \nQ 5.03125 9.71875 4.15625 18.75 \nz\n\" id=\"ArialMT-53\"/>\n    </defs>\n    <g style=\"fill:#08306b;\" transform=\"translate(78.924844 172.865156)scale(0.1 -0.1)\">\n     <use xlink:href=\"#ArialMT-53\"/>\n     <use x=\"55.615234\" xlink:href=\"#ArialMT-49\"/>\n     <use x=\"111.230469\" xlink:href=\"#ArialMT-55\"/>\n    </g>\n   </g>\n   <g id=\"text_10\">\n    <!-- 744 -->\n    <g style=\"fill:#08306b;\" transform=\"translate(187.644844 172.865156)scale(0.1 -0.1)\">\n     <use xlink:href=\"#ArialMT-55\"/>\n     <use x=\"55.615234\" xlink:href=\"#ArialMT-52\"/>\n     <use x=\"111.230469\" xlink:href=\"#ArialMT-52\"/>\n    </g>\n   </g>\n  </g>\n  <g id=\"axes_2\">\n   <g id=\"patch_7\">\n    <path clip-path=\"url(#p23fa91f279)\" d=\"M 267.08625 224.64 \nL 267.08625 223.790625 \nL 267.08625 8.049375 \nL 267.08625 7.2 \nL 277.95825 7.2 \nL 277.95825 8.049375 \nL 277.95825 223.790625 \nL 277.95825 224.64 \nz\n\" style=\"fill:#eaeaf2;stroke:#eaeaf2;stroke-linejoin:miter;stroke-width:0.01;\"/>\n   </g>\n   <g id=\"matplotlib.axis_3\"/>\n   <g id=\"matplotlib.axis_4\">\n    <g id=\"ytick_3\">\n     <g id=\"line2d_5\">\n      <defs>\n       <path d=\"M 0 0 \nL 3.5 0 \n\" id=\"mc405a88207\" style=\"stroke:#262626;stroke-width:0.8;\"/>\n      </defs>\n      <g>\n       <use style=\"fill:#262626;stroke:#262626;stroke-width:0.8;\" x=\"277.95825\" xlink:href=\"#mc405a88207\" y=\"190.805103\"/>\n      </g>\n     </g>\n     <g id=\"text_11\">\n      <!-- 1000 -->\n      <g style=\"fill:#262626;\" transform=\"translate(284.95825 194.384009)scale(0.1 -0.1)\">\n       <use xlink:href=\"#ArialMT-49\"/>\n       <use x=\"55.615234\" xlink:href=\"#ArialMT-48\"/>\n       <use x=\"111.230469\" xlink:href=\"#ArialMT-48\"/>\n       <use x=\"166.845703\" xlink:href=\"#ArialMT-48\"/>\n      </g>\n     </g>\n    </g>\n    <g id=\"ytick_4\">\n     <g id=\"line2d_6\">\n      <g>\n       <use style=\"fill:#262626;stroke:#262626;stroke-width:0.8;\" x=\"277.95825\" xlink:href=\"#mc405a88207\" y=\"155.77933\"/>\n      </g>\n     </g>\n     <g id=\"text_12\">\n      <!-- 1500 -->\n      <g style=\"fill:#262626;\" transform=\"translate(284.95825 159.358236)scale(0.1 -0.1)\">\n       <use xlink:href=\"#ArialMT-49\"/>\n       <use x=\"55.615234\" xlink:href=\"#ArialMT-53\"/>\n       <use x=\"111.230469\" xlink:href=\"#ArialMT-48\"/>\n       <use x=\"166.845703\" xlink:href=\"#ArialMT-48\"/>\n      </g>\n     </g>\n    </g>\n    <g id=\"ytick_5\">\n     <g id=\"line2d_7\">\n      <g>\n       <use style=\"fill:#262626;stroke:#262626;stroke-width:0.8;\" x=\"277.95825\" xlink:href=\"#mc405a88207\" y=\"120.753557\"/>\n      </g>\n     </g>\n     <g id=\"text_13\">\n      <!-- 2000 -->\n      <g style=\"fill:#262626;\" transform=\"translate(284.95825 124.332463)scale(0.1 -0.1)\">\n       <use xlink:href=\"#ArialMT-50\"/>\n       <use x=\"55.615234\" xlink:href=\"#ArialMT-48\"/>\n       <use x=\"111.230469\" xlink:href=\"#ArialMT-48\"/>\n       <use x=\"166.845703\" xlink:href=\"#ArialMT-48\"/>\n      </g>\n     </g>\n    </g>\n    <g id=\"ytick_6\">\n     <g id=\"line2d_8\">\n      <g>\n       <use style=\"fill:#262626;stroke:#262626;stroke-width:0.8;\" x=\"277.95825\" xlink:href=\"#mc405a88207\" y=\"85.727784\"/>\n      </g>\n     </g>\n     <g id=\"text_14\">\n      <!-- 2500 -->\n      <g style=\"fill:#262626;\" transform=\"translate(284.95825 89.30669)scale(0.1 -0.1)\">\n       <use xlink:href=\"#ArialMT-50\"/>\n       <use x=\"55.615234\" xlink:href=\"#ArialMT-53\"/>\n       <use x=\"111.230469\" xlink:href=\"#ArialMT-48\"/>\n       <use x=\"166.845703\" xlink:href=\"#ArialMT-48\"/>\n      </g>\n     </g>\n    </g>\n    <g id=\"ytick_7\">\n     <g id=\"line2d_9\">\n      <g>\n       <use style=\"fill:#262626;stroke:#262626;stroke-width:0.8;\" x=\"277.95825\" xlink:href=\"#mc405a88207\" y=\"50.70201\"/>\n      </g>\n     </g>\n     <g id=\"text_15\">\n      <!-- 3000 -->\n      <g style=\"fill:#262626;\" transform=\"translate(284.95825 54.280917)scale(0.1 -0.1)\">\n       <use xlink:href=\"#ArialMT-51\"/>\n       <use x=\"55.615234\" xlink:href=\"#ArialMT-48\"/>\n       <use x=\"111.230469\" xlink:href=\"#ArialMT-48\"/>\n       <use x=\"166.845703\" xlink:href=\"#ArialMT-48\"/>\n      </g>\n     </g>\n    </g>\n    <g id=\"ytick_8\">\n     <g id=\"line2d_10\">\n      <g>\n       <use style=\"fill:#262626;stroke:#262626;stroke-width:0.8;\" x=\"277.95825\" xlink:href=\"#mc405a88207\" y=\"15.676237\"/>\n      </g>\n     </g>\n     <g id=\"text_16\">\n      <!-- 3500 -->\n      <g style=\"fill:#262626;\" transform=\"translate(284.95825 19.255143)scale(0.1 -0.1)\">\n       <use xlink:href=\"#ArialMT-51\"/>\n       <use x=\"55.615234\" xlink:href=\"#ArialMT-53\"/>\n       <use x=\"111.230469\" xlink:href=\"#ArialMT-48\"/>\n       <use x=\"166.845703\" xlink:href=\"#ArialMT-48\"/>\n      </g>\n     </g>\n    </g>\n   </g>\n   <image height=\"218\" id=\"imagec19372c618\" transform=\"scale(1 -1)translate(0 -218)\" width=\"11\" x=\"267\" xlink:href=\"data:image/png;base64,\niVBORw0KGgoAAAANSUhEUgAAAAsAAADaCAYAAABwzrisAAAABHNCSVQICAgIfAhkiAAAASBJREFUaIHtmTEOwzAMA9XC//9uh9ZO1466AgfQSTIThETKjJw8Xu/jqOYz+tCqcVQfDZm1MgC2BsDWWKBo1OATVHEBByEzAMPZADUvTbrKkA4Nv3cGQ3KD2Z0RXykHdkPp7uH/Bd/D/zczWyH6xGaD01p7zDes5mCIGmzqxE2GMPeJITM8KSHDD8BmbiA1ALN2XWLMaJ49u1EZpnQAPAFazGfvboV0niC/TAf7WLNBlvzeeqm9gBYbfu+6FJKiESuEJx3KuozPhqJ0TA1vNrw1XmtQvA96wcjUsMoIiYIYNSzm0zcYosaOOsOaLTD7Esjs7q+BKTWL4Ay7Q3RGs3HbHQhmPzKY3aiMDOY1Lebzq7Fjg4R5fUgZO6pxdrst5i8jPeIVouEOpAAAAABJRU5ErkJggg==\" y=\"-7\"/>\n   <g id=\"patch_8\">\n    <path d=\"M 267.08625 224.64 \nL 267.08625 223.790625 \nL 267.08625 8.049375 \nL 267.08625 7.2 \nL 277.95825 7.2 \nL 277.95825 8.049375 \nL 277.95825 223.790625 \nL 277.95825 224.64 \nz\n\" style=\"fill:none;stroke:#ffffff;stroke-linejoin:miter;stroke-width:0.8;\"/>\n   </g>\n  </g>\n </g>\n <defs>\n  <clipPath id=\"p617fb7a412\">\n   <rect height=\"217.44\" width=\"217.44\" x=\"32.90625\" y=\"7.2\"/>\n  </clipPath>\n  <clipPath id=\"p23fa91f279\">\n   <rect height=\"217.44\" width=\"10.872\" x=\"267.08625\" y=\"7.2\"/>\n  </clipPath>\n </defs>\n</svg>\n",
      "image/png": "[encoded data removed]"
     },
     "metadata": {}
    }
   ],
   "source": [
    "plot_confusion_matrix(logreg, X_test, y_test, cmap=plt.cm.Blues)"
   ]
  },
  {
   "source": [
    "### Use grid search to optomize the hyperparameters"
   ],
   "cell_type": "markdown",
   "metadata": {}
  },
  {
   "cell_type": "code",
   "execution_count": 53,
   "metadata": {},
   "outputs": [],
   "source": [
    "# creating our estimator\n",
    "tuned_log = LogisticRegression(random_state=6, class_weight='balanced')"
   ]
  },
  {
   "cell_type": "code",
   "execution_count": 54,
   "metadata": {},
   "outputs": [],
   "source": [
    "# creating our parameters to test\n",
    "log_param_dict={'C': range(3,7,1),\n",
    "                'penalty': ['l1','l2']}"
   ]
  },
  {
   "cell_type": "code",
   "execution_count": 55,
   "metadata": {},
   "outputs": [],
   "source": [
    "grid_log = GridSearchCV(tuned_log, log_param_dict, cv=5, scoring='f1', verbose=1)\n",
    "\n",
    "# c = decision boundary threshold"
   ]
  },
  {
   "cell_type": "code",
   "execution_count": 56,
   "metadata": {},
   "outputs": [
    {
     "output_type": "stream",
     "name": "stdout",
     "text": [
      "Fitting 5 folds for each of 8 candidates, totalling 40 fits\n",
      "[Parallel(n_jobs=1)]: Using backend SequentialBackend with 1 concurrent workers.\n",
      "[Parallel(n_jobs=1)]: Done  40 out of  40 | elapsed:    1.3s finished\n"
     ]
    },
    {
     "output_type": "execute_result",
     "data": {
      "text/plain": [
       "GridSearchCV(cv=5,\n",
       "             estimator=LogisticRegression(class_weight='balanced',\n",
       "                                          random_state=6),\n",
       "             param_grid={'C': range(3, 7), 'penalty': ['l1', 'l2']},\n",
       "             scoring='f1', verbose=1)"
      ]
     },
     "metadata": {},
     "execution_count": 56
    }
   ],
   "source": [
    "grid_log.fit(X_train, y_train)"
   ]
  },
  {
   "cell_type": "code",
   "execution_count": 57,
   "metadata": {},
   "outputs": [
    {
     "output_type": "stream",
     "name": "stdout",
     "text": [
      "F1 Score: 0.5230355488559063\nBest Hyperparameters: {'C': 3, 'penalty': 'l2'}\nModel object with best parameters: \nLogisticRegression(C=3, class_weight='balanced', random_state=6)\n"
     ]
    }
   ],
   "source": [
    "# examine the best model\n",
    "print('F1 Score:', grid_log.best_score_)\n",
    "\n",
    "print('Best Hyperparameters:', grid_log.best_params_)\n",
    "\n",
    "print('Model object with best parameters: ')\n",
    "print(grid_log.best_estimator_)"
   ]
  },
  {
   "cell_type": "code",
   "execution_count": 58,
   "metadata": {},
   "outputs": [
    {
     "output_type": "stream",
     "name": "stdout",
     "text": [
      "Tuned Logistic Regression Model Predictions\nF1 on train set: 0.525810028335592\nF1 on test set: 0.5414847161572053\n"
     ]
    }
   ],
   "source": [
    "# Predict the response for test dataset\n",
    "grid_log_y_pred_train = grid_log.best_estimator_.predict(X_train)\n",
    "\n",
    "# predict the training set\n",
    "grid_log_y_pred_test = grid_log.best_estimator_.predict(X_test)\n",
    "\n",
    "# Model F1, how often is the classifier correct?\n",
    "print('Tuned Logistic Regression Model Predictions')\n",
    "print(\"F1 on train set:\",metrics.f1_score(y_train, grid_log_y_pred_train))\n",
    "print(\"F1 on test set:\",metrics.f1_score(y_test, grid_log_y_pred_test))"
   ]
  },
  {
   "source": [
    "## Model 3: Decision Tree"
   ],
   "cell_type": "markdown",
   "metadata": {}
  },
  {
   "cell_type": "code",
   "execution_count": 59,
   "metadata": {},
   "outputs": [],
   "source": [
    "tree = DecisionTreeClassifier()\n",
    "tree = tree.fit(X_train, y_train)"
   ]
  },
  {
   "cell_type": "code",
   "execution_count": 60,
   "metadata": {},
   "outputs": [],
   "source": [
    "# predict the training set\n",
    "tree_y_pred_train = tree.predict(X_train)\n",
    "\n",
    "# Predict the for test set\n",
    "tree_y_pred_test = tree.predict(X_test)"
   ]
  },
  {
   "cell_type": "code",
   "execution_count": 61,
   "metadata": {},
   "outputs": [
    {
     "output_type": "stream",
     "name": "stdout",
     "text": [
      "Untuned Decision Tree Model\nTraining F1 Score:  0.9993359011820959\nTesting F1 Score:  0.38554216867469876\n"
     ]
    }
   ],
   "source": [
    "print('Untuned Decision Tree Model')\n",
    "print(\"Training F1 Score: \", metrics.f1_score(y_train, tree_y_pred_train))\n",
    "print(\"Testing F1 Score: \", metrics.f1_score(y_test, tree_y_pred_test))"
   ]
  },
  {
   "source": [
    "### Tuning Decision Tree Model with grid search"
   ],
   "cell_type": "markdown",
   "metadata": {}
  },
  {
   "cell_type": "code",
   "execution_count": 62,
   "metadata": {},
   "outputs": [],
   "source": [
    "# creating our estimator\n",
    "decision_tree = DecisionTreeClassifier(random_state=3, criterion='gini')"
   ]
  },
  {
   "cell_type": "code",
   "execution_count": 63,
   "metadata": {},
   "outputs": [],
   "source": [
    "# creating our parameters to test\n",
    "param_dict={'max_depth': range(2,15,1), \n",
    "            'max_leaf_nodes': range(2,30,2),\n",
    "            'min_samples_split': range(2,4,1)}"
   ]
  },
  {
   "cell_type": "code",
   "execution_count": 64,
   "metadata": {},
   "outputs": [],
   "source": [
    "# create the instance of GridSearchCV using the F1 metric for our scoring. \n",
    "grid_tree = GridSearchCV(decision_tree, param_dict, cv=5, scoring='f1', verbose=1)\n",
    "# cv is the number of folds\n",
    "# scoring is f1\n",
    "# verbose=1 is important for time "
   ]
  },
  {
   "cell_type": "code",
   "execution_count": 65,
   "metadata": {},
   "outputs": [
    {
     "output_type": "stream",
     "name": "stdout",
     "text": [
      "Fitting 5 folds for each of 364 candidates, totalling 1820 fits\n",
      "[Parallel(n_jobs=1)]: Using backend SequentialBackend with 1 concurrent workers.\n",
      "[Parallel(n_jobs=1)]: Done 1820 out of 1820 | elapsed:  2.4min finished\n"
     ]
    },
    {
     "output_type": "execute_result",
     "data": {
      "text/plain": [
       "GridSearchCV(cv=5, estimator=DecisionTreeClassifier(random_state=3),\n",
       "             param_grid={'max_depth': range(2, 15),\n",
       "                         'max_leaf_nodes': range(2, 30, 2),\n",
       "                         'min_samples_split': range(2, 4)},\n",
       "             scoring='f1', verbose=1)"
      ]
     },
     "metadata": {},
     "execution_count": 65
    }
   ],
   "source": [
    "# fit the grid search to our data\n",
    "grid_tree.fit(X_train, y_train)"
   ]
  },
  {
   "cell_type": "code",
   "execution_count": 66,
   "metadata": {},
   "outputs": [
    {
     "output_type": "stream",
     "name": "stdout",
     "text": [
      "F1 Score: 0.47466865343357495\nBest Hyperparameters: {'max_depth': 4, 'max_leaf_nodes': 12, 'min_samples_split': 2}\nModel object with best parameters: \nDecisionTreeClassifier(max_depth=4, max_leaf_nodes=12, random_state=3)\n"
     ]
    }
   ],
   "source": [
    "# examine the best model\n",
    "# Best F1 scoree achieved across all params\n",
    "print('F1 Score:', grid_tree.best_score_)\n",
    "\n",
    "# Checking dictionary showing the best hyperparameters used to generate that score\n",
    "print('Best Hyperparameters:', grid_tree.best_params_)\n",
    "\n",
    "# Actual model object fit with those best parameters\n",
    "# also shows default parameters that we did not specify\n",
    "print('Model object with best parameters: ')\n",
    "print(grid_tree.best_estimator_)"
   ]
  },
  {
   "cell_type": "code",
   "execution_count": 67,
   "metadata": {},
   "outputs": [
    {
     "output_type": "stream",
     "name": "stdout",
     "text": [
      "Tuned Decision Tree Model Predictions\nF1 on train set: 0.48081225262433314\nF1 on test set: 0.48879837067209775\n"
     ]
    }
   ],
   "source": [
    "# Predict the response for test dataset\n",
    "tuned_tree_y_pred_train = grid_tree.best_estimator_.predict(X_train)\n",
    "\n",
    "# predict the training set\n",
    "tuned_tree_y_pred_test = grid_tree.best_estimator_.predict(X_test)\n",
    "\n",
    "# Model F1, how often is the classifier correct?\n",
    "print('Tuned Decision Tree Model Predictions')\n",
    "print(\"F1 on train set:\",metrics.f1_score(y_train, tuned_tree_y_pred_train))\n",
    "print(\"F1 on test set:\",metrics.f1_score(y_test, tuned_tree_y_pred_test))"
   ]
  },
  {
   "source": [
    "## Model 4: Random Forest"
   ],
   "cell_type": "markdown",
   "metadata": {}
  },
  {
   "cell_type": "code",
   "execution_count": 68,
   "metadata": {},
   "outputs": [],
   "source": [
    "rfc = RandomForestClassifier(random_state = 5, criterion='gini' , class_weight='balanced')"
   ]
  },
  {
   "cell_type": "code",
   "execution_count": 69,
   "metadata": {},
   "outputs": [],
   "source": [
    "# creating our parameters to test\n",
    "rfc_param_dict={'n_estimators':[50,100],\n",
    "            'max_depth': list(range(2,15)), \n",
    "            'max_features': list(range(5,15))\n",
    "            }"
   ]
  },
  {
   "cell_type": "code",
   "execution_count": 70,
   "metadata": {},
   "outputs": [],
   "source": [
    "# create a grid search object and fit it to the data\n",
    "grid_forest = GridSearchCV(rfc, rfc_param_dict, cv=5, scoring='f1', verbose=1, n_jobs=2)"
   ]
  },
  {
   "cell_type": "code",
   "execution_count": 71,
   "metadata": {},
   "outputs": [
    {
     "output_type": "stream",
     "name": "stdout",
     "text": [
      "Fitting 5 folds for each of 260 candidates, totalling 1300 fits\n",
      "[Parallel(n_jobs=2)]: Using backend LokyBackend with 2 concurrent workers.\n",
      "[Parallel(n_jobs=2)]: Done  46 tasks      | elapsed:   16.5s\n",
      "[Parallel(n_jobs=2)]: Done 196 tasks      | elapsed:  1.4min\n",
      "[Parallel(n_jobs=2)]: Done 446 tasks      | elapsed:  4.3min\n",
      "[Parallel(n_jobs=2)]: Done 796 tasks      | elapsed: 10.4min\n",
      "[Parallel(n_jobs=2)]: Done 1246 tasks      | elapsed: 20.9min\n",
      "[Parallel(n_jobs=2)]: Done 1300 out of 1300 | elapsed: 22.7min finished\n"
     ]
    },
    {
     "output_type": "execute_result",
     "data": {
      "text/plain": [
       "GridSearchCV(cv=5,\n",
       "             estimator=RandomForestClassifier(class_weight='balanced',\n",
       "                                              random_state=5),\n",
       "             n_jobs=2,\n",
       "             param_grid={'max_depth': [2, 3, 4, 5, 6, 7, 8, 9, 10, 11, 12, 13,\n",
       "                                       14],\n",
       "                         'max_features': [5, 6, 7, 8, 9, 10, 11, 12, 13, 14],\n",
       "                         'n_estimators': [50, 100]},\n",
       "             scoring='f1', verbose=1)"
      ]
     },
     "metadata": {},
     "execution_count": 71
    }
   ],
   "source": [
    "grid_forest.fit(X_train, y_train)"
   ]
  },
  {
   "cell_type": "code",
   "execution_count": 72,
   "metadata": {},
   "outputs": [
    {
     "output_type": "stream",
     "name": "stdout",
     "text": [
      "0.5399529757163821\n{'max_depth': 4, 'max_features': 7, 'n_estimators': 100}\nRandomForestClassifier(class_weight='balanced', max_depth=4, max_features=7,\n                       random_state=5)\n"
     ]
    }
   ],
   "source": [
    "print(grid_forest.best_score_)\n",
    "print(grid_forest.best_params_)\n",
    "print(grid_forest.best_estimator_)"
   ]
  },
  {
   "cell_type": "code",
   "execution_count": 75,
   "metadata": {},
   "outputs": [
    {
     "output_type": "stream",
     "name": "stdout",
     "text": [
      "F1 on train set:  0.48081225262433314\nF1 on test set:  0.48879837067209775\n"
     ]
    }
   ],
   "source": [
    "# Predict the response for test dataset\n",
    "forest_y_pred_train = grid_tree.best_estimator_.predict(X_train)\n",
    "\n",
    "# predict the training set\n",
    "forest_y_pred_test = grid_tree.best_estimator_.predict(X_test)\n",
    "\n",
    "\n",
    "# Model F1, how often is the classifier correct?\n",
    "print(\"F1 on train set: \",metrics.f1_score(y_train, forest_y_pred_train))\n",
    "print(\"F1 on test set: \",metrics.f1_score(y_test, forest_y_pred_test))"
   ]
  },
  {
   "source": [
    "## Feature Selection\n",
    "Does this step actually go here?"
   ],
   "cell_type": "markdown",
   "metadata": {}
  },
  {
   "cell_type": "code",
   "execution_count": null,
   "metadata": {},
   "outputs": [],
   "source": []
  },
  {
   "cell_type": "code",
   "execution_count": null,
   "metadata": {},
   "outputs": [],
   "source": []
  },
  {
   "cell_type": "markdown",
   "metadata": {},
   "source": [
    "## 6. Model Evaluation"
   ]
  },
  {
   "cell_type": "code",
   "execution_count": 78,
   "metadata": {},
   "outputs": [
    {
     "output_type": "stream",
     "name": "stdout",
     "text": [
      "Baseline K Nearest Neighbors\nTraining F1 Score:  0.9993359011820959\nTesting F1 Score:  0.424415832141154\n\nTuned K Nearest Neighbors\nF1 on train set: 0.9993359011820959\nF1 on test set: 0.4361757105943152\n\nBaseline Logistic Regression\nF1 on train set:  0.525810028335592\nF1 on test set:  0.5414847161572053\n\nTuned Logistic Regression Model\nF1 on train set: 0.525810028335592\nF1 on test set: 0.5414847161572053\n\nBaseline Decision Tree\nTraining F1 Score:  0.9993359011820959\nTesting F1 Score:  0.38554216867469876\n\nTuned Decision Tree\nF1 on train set: 0.48081225262433314\nF1 on test set: 0.48879837067209775\nBest Hyperparameters: {'max_depth': 4, 'max_leaf_nodes': 12, 'min_samples_split': 2}\n\nTuned Random Forest\nF1 on test set:  0.48879837067209775\nBest Hyperparameters: {'max_depth': 4, 'max_features': 7, 'n_estimators': 100}\n"
     ]
    }
   ],
   "source": [
    "# Model 1: KNN\n",
    "print('Baseline K Nearest Neighbors')\n",
    "print(\"Training F1 Score: \", metrics.f1_score(y_train, knn_y_pred_train))\n",
    "print(\"Testing F1 Score: \", metrics.f1_score(y_test, knn_tree_y_pred_test))\n",
    "print('')\n",
    "print('Tuned K Nearest Neighbors')\n",
    "print(\"F1 on train set:\",metrics.f1_score(y_train, tuned_k_neighbors_y_pred_train))\n",
    "print(\"F1 on test set:\",metrics.f1_score(y_test, tuned_k_neighbors_y_pred_test))\n",
    "print('')\n",
    "# Model 2: Logistic Regression\n",
    "print('Baseline Logistic Regression')\n",
    "print(\"F1 on train set: \", metrics.f1_score(y_train, logreg_y_pred_train))\n",
    "print(\"F1 on test set: \", metrics.f1_score(y_test, logreg_y_pred_test))\n",
    "print('')\n",
    "print('Tuned Logistic Regression Model')\n",
    "print(\"F1 on train set:\",metrics.f1_score(y_train, grid_log_y_pred_train))\n",
    "print(\"F1 on test set:\",metrics.f1_score(y_test, grid_log_y_pred_test))\n",
    "print('')\n",
    "# Model 3: Decision Tree\n",
    "print('Baseline Decision Tree')\n",
    "print(\"Training F1 Score: \", metrics.f1_score(y_train, tree_y_pred_train))\n",
    "print(\"Testing F1 Score: \", metrics.f1_score(y_test, tree_y_pred_test))\n",
    "print('')\n",
    "print('Tuned Decision Tree')\n",
    "print(\"F1 on train set:\",metrics.f1_score(y_train, tuned_tree_y_pred_train))\n",
    "print(\"F1 on test set:\",metrics.f1_score(y_test, tuned_tree_y_pred_test))\n",
    "print('Best Hyperparameters:', grid_tree.best_params_)\n",
    "\n",
    "print('')\n",
    "print('Tuned Random Forest')\n",
    "print(\"F1 on test set: \",metrics.f1_score(y_test, forest_y_pred_test))\n",
    "print('Best Hyperparameters:', grid_forest.best_params_)"
   ]
  },
  {
   "cell_type": "code",
   "execution_count": 69,
   "metadata": {},
   "outputs": [],
   "source": [
    "# metrics = {'Model': ['Baseline K Nearest Neighbors','Tuned K Nearest Neighbors','Baseline Logistic Regression','Tuned Logistic Regression', 'Baseline Decision Tree', 'Tuned Decision Tree'],\n",
    "#         'Test Set': [ metrics.f1_score(y_test, knn_tree_y_pred_test) ,\n",
    "#                     metrics.f1_score(y_test, tuned_k_neighbors_y_pred_test) ,\n",
    "#                     metrics.f1_score(y_test, logreg_y_pred_test) ,\n",
    "#                     metrics.f1_score(y_test, grid_log_y_pred_test) ,\n",
    "#                     metrics.f1_score(y_test, tree_y_pred_test) ,\n",
    "#                     metrics.f1_score(y_test, tuned_tree_y_pred_test) ]}\n",
    "\n",
    "# metrics_df = pd.DataFrame(metrics, columns = ['Model','Price'])"
   ]
  },
  {
   "cell_type": "code",
   "execution_count": null,
   "metadata": {},
   "outputs": [],
   "source": []
  },
  {
   "cell_type": "markdown",
   "metadata": {},
   "source": [
    "## 7. Final Model"
   ]
  },
  {
   "source": [
    "### Refitting model to the entire df"
   ],
   "cell_type": "markdown",
   "metadata": {}
  },
  {
   "cell_type": "code",
   "execution_count": 79,
   "metadata": {},
   "outputs": [],
   "source": [
    "features = df.drop('default', axis = 1)\n",
    "# Create target variable\n",
    "target = df['default'] # y is the column we're trying to pred"
   ]
  },
  {
   "cell_type": "code",
   "execution_count": 80,
   "metadata": {},
   "outputs": [],
   "source": [
    "# best_model = pickle.dumps(grid_log.best_estimator_) \n",
    "best_model = RandomForestClassifier(class_weight='balanced', max_depth=4, max_features=7, random_state=5)"
   ]
  },
  {
   "cell_type": "code",
   "execution_count": 81,
   "metadata": {},
   "outputs": [],
   "source": [
    "best_model = best_model.fit(features,target)"
   ]
  },
  {
   "source": [
    "### exporting to pickle"
   ],
   "cell_type": "markdown",
   "metadata": {}
  },
  {
   "cell_type": "code",
   "execution_count": 82,
   "metadata": {},
   "outputs": [],
   "source": [
    "pickle_out = open(\"last_model.pickle\",\"wb\")\n",
    "pickle.dump(best_model, pickle_out)\n",
    "pickle_out.close()"
   ]
  },
  {
   "cell_type": "code",
   "execution_count": 83,
   "metadata": {},
   "outputs": [],
   "source": [
    "# trying scaler"
   ]
  },
  {
   "cell_type": "code",
   "execution_count": 84,
   "metadata": {},
   "outputs": [],
   "source": [
    "scaler_pickle_out = open(\"last_scaler.pickle\",\"wb\")\n",
    "pickle.dump(scaler, scaler_pickle_out)\n",
    "scaler_pickle_out.close()"
   ]
  },
  {
   "cell_type": "code",
   "execution_count": null,
   "metadata": {},
   "outputs": [],
   "source": []
  }
 ],
 "metadata": {
  "kernelspec": {
   "display_name": "Python 3",
   "language": "python",
   "name": "python3"
  },
  "language_info": {
   "codemirror_mode": {
    "name": "ipython",
    "version": 3
   },
   "file_extension": ".py",
   "mimetype": "text/x-python",
   "name": "python",
   "nbconvert_exporter": "python",
   "pygments_lexer": "ipython3",
   "version": "3.6.9-final"
  },
  "toc": {
   "base_numbering": 1,
   "nav_menu": {},
   "number_sections": true,
   "sideBar": true,
   "skip_h1_title": false,
   "title_cell": "Table of Contents",
   "title_sidebar": "Contents",
   "toc_cell": false,
   "toc_position": {},
   "toc_section_display": true,
   "toc_window_display": false
  }
 },
 "nbformat": 4,
 "nbformat_minor": 2
}