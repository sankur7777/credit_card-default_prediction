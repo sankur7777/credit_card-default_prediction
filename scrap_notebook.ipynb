{
 "cells": [
  {
   "cell_type": "markdown",
   "metadata": {},
   "source": [
    "# Classification Model Bake-off\n",
    "- The goal is to create a model that best predicts whether or not a person will default on their bank loan. \n",
    "- In doing so, we want to utilize all of the different tools we have learned over the course: data cleaning, EDA, feature engineering/transformation, feature selection, hyperparameter tuning, and model evaluation. \n",
    "- You will fit **three different models** (KNN, Logistic Regression, and Decision Tree Classifier) to predict credit card defaults \n",
    "- Use gridsearch to find the best hyperparameters for those models. Then you will compare the performance of those three models on a test set to find the best one.  \n",
    "- We will be scoring the submitted predictions using the **F1 score.**\n",
    "\n",
    "## Process/Expectations\n",
    "\n",
    "1. Clean up your data set so that you can perform an EDA. \n",
    "    - This includes handling null values, categorical variables, removing unimportant columns, and removing outliers.\n",
    "2. Perform EDA to identify opportunities to create new features.\n",
    "    - [Great Example of EDA for classification](https://www.kaggle.com/stephaniestallworth/titanic-eda-classification-end-to-end) \n",
    "    - [Using Pairplots with Classification](https://towardsdatascience.com/visualizing-data-with-pair-plots-in-python-f228cf529166)\n",
    "3. Engineer new features. \n",
    "    - Create polynomial and/or interaction features. \n",
    "    - Additionaly, you must also create **at least 2 new features** that are not interactions or polynomial transformations. \n",
    "        - *For example, you can create a new dummy variable that based on the value of a continuous variable (billamount6 >2000) or take the average of some past amounts.*\n",
    "4. Perform some feature selection. \n",
    "5. You must fit **three** models to your data and tune **at least 1 hyperparameter** per model. \n",
    "6. Using the F-1 Score, evaluate how well your models perform and identify your best model.\n",
    "7. Using information from your EDA process and your model(s) output provide insight as to which borrowers are more likely to deafult\n"
   ]
  },
  {
   "cell_type": "code",
   "execution_count": 92,
   "metadata": {},
   "outputs": [],
   "source": [
    "# import libraries\n",
    "import pandas as pd\n",
    "pd.options.display.max_columns = 50\n",
    "import numpy as np\n",
    "import matplotlib.pyplot as plt\n",
    "import seaborn as sns\n",
    "%matplotlib inline\n",
    "import sklearn\n",
    "from sklearn.model_selection import train_test_split\n",
    "from sklearn.linear_model import LogisticRegression\n",
    "from sklearn.feature_selection import RFECV, SelectKBest, f_regression\n",
    "from sklearn import metrics\n",
    "from sklearn.metrics import recall_score\n",
    "from sklearn.model_selection import cross_validate\n",
    "from sklearn.model_selection import cross_val_score\n",
    "import pickle"
   ]
  },
  {
   "cell_type": "markdown",
   "metadata": {},
   "source": [
    "## 1. Data Cleaning"
   ]
  },
  {
   "cell_type": "code",
   "execution_count": 93,
   "metadata": {},
   "outputs": [],
   "source": [
    "df = pd.read_csv('training_data.csv', index_col=0)\n",
    "# index_col=0 prevents generating that 'Unnamed:0' column"
   ]
  },
  {
   "cell_type": "code",
   "execution_count": 94,
   "metadata": {},
   "outputs": [
    {
     "output_type": "execute_result",
     "data": {
      "text/plain": [
       "           X1 X2 X3 X4  X5  X6  X7  X8  X9 X10 X11     X12     X13     X14  \\\n",
       "28835  220000  2  1  2  36   0   0   0   0   0   0  222598  222168  217900   \n",
       "25329  200000  2  3  2  29  -1  -1  -1  -1  -1  -1     326     326     326   \n",
       "18894  180000  2  1  2  27  -2  -2  -2  -2  -2  -2       0       0       0   \n",
       "690     80000  1  2  2  32   0   0   0   0   0   0   51372   51872   47593   \n",
       "6239    10000  1  2  2  27   0   0   0   0   0   0    8257    7995    4878   \n",
       "\n",
       "          X15     X16     X17    X18   X19    X20   X21    X22     X23  Y  \n",
       "28835  221193  181859  184605  10000  8018  10121  6006  10987  143779  1  \n",
       "25329     326     326     326    326   326    326   326    326     326  0  \n",
       "18894       0       0       0      0     0      0     0      0       0  0  \n",
       "690     43882   42256   42527   1853  1700   1522  1548   1488    1500  0  \n",
       "6239     5444    2639    2697   2000  1100    600   300    300    1000  1  "
      ],
      "text/html": "<div>\n<style scoped>\n    .dataframe tbody tr th:only-of-type {\n        vertical-align: middle;\n    }\n\n    .dataframe tbody tr th {\n        vertical-align: top;\n    }\n\n    .dataframe thead th {\n        text-align: right;\n    }\n</style>\n<table border=\"1\" class=\"dataframe\">\n  <thead>\n    <tr style=\"text-align: right;\">\n      <th></th>\n      <th>X1</th>\n      <th>X2</th>\n      <th>X3</th>\n      <th>X4</th>\n      <th>X5</th>\n      <th>X6</th>\n      <th>X7</th>\n      <th>X8</th>\n      <th>X9</th>\n      <th>X10</th>\n      <th>X11</th>\n      <th>X12</th>\n      <th>X13</th>\n      <th>X14</th>\n      <th>X15</th>\n      <th>X16</th>\n      <th>X17</th>\n      <th>X18</th>\n      <th>X19</th>\n      <th>X20</th>\n      <th>X21</th>\n      <th>X22</th>\n      <th>X23</th>\n      <th>Y</th>\n    </tr>\n  </thead>\n  <tbody>\n    <tr>\n      <th>28835</th>\n      <td>220000</td>\n      <td>2</td>\n      <td>1</td>\n      <td>2</td>\n      <td>36</td>\n      <td>0</td>\n      <td>0</td>\n      <td>0</td>\n      <td>0</td>\n      <td>0</td>\n      <td>0</td>\n      <td>222598</td>\n      <td>222168</td>\n      <td>217900</td>\n      <td>221193</td>\n      <td>181859</td>\n      <td>184605</td>\n      <td>10000</td>\n      <td>8018</td>\n      <td>10121</td>\n      <td>6006</td>\n      <td>10987</td>\n      <td>143779</td>\n      <td>1</td>\n    </tr>\n    <tr>\n      <th>25329</th>\n      <td>200000</td>\n      <td>2</td>\n      <td>3</td>\n      <td>2</td>\n      <td>29</td>\n      <td>-1</td>\n      <td>-1</td>\n      <td>-1</td>\n      <td>-1</td>\n      <td>-1</td>\n      <td>-1</td>\n      <td>326</td>\n      <td>326</td>\n      <td>326</td>\n      <td>326</td>\n      <td>326</td>\n      <td>326</td>\n      <td>326</td>\n      <td>326</td>\n      <td>326</td>\n      <td>326</td>\n      <td>326</td>\n      <td>326</td>\n      <td>0</td>\n    </tr>\n    <tr>\n      <th>18894</th>\n      <td>180000</td>\n      <td>2</td>\n      <td>1</td>\n      <td>2</td>\n      <td>27</td>\n      <td>-2</td>\n      <td>-2</td>\n      <td>-2</td>\n      <td>-2</td>\n      <td>-2</td>\n      <td>-2</td>\n      <td>0</td>\n      <td>0</td>\n      <td>0</td>\n      <td>0</td>\n      <td>0</td>\n      <td>0</td>\n      <td>0</td>\n      <td>0</td>\n      <td>0</td>\n      <td>0</td>\n      <td>0</td>\n      <td>0</td>\n      <td>0</td>\n    </tr>\n    <tr>\n      <th>690</th>\n      <td>80000</td>\n      <td>1</td>\n      <td>2</td>\n      <td>2</td>\n      <td>32</td>\n      <td>0</td>\n      <td>0</td>\n      <td>0</td>\n      <td>0</td>\n      <td>0</td>\n      <td>0</td>\n      <td>51372</td>\n      <td>51872</td>\n      <td>47593</td>\n      <td>43882</td>\n      <td>42256</td>\n      <td>42527</td>\n      <td>1853</td>\n      <td>1700</td>\n      <td>1522</td>\n      <td>1548</td>\n      <td>1488</td>\n      <td>1500</td>\n      <td>0</td>\n    </tr>\n    <tr>\n      <th>6239</th>\n      <td>10000</td>\n      <td>1</td>\n      <td>2</td>\n      <td>2</td>\n      <td>27</td>\n      <td>0</td>\n      <td>0</td>\n      <td>0</td>\n      <td>0</td>\n      <td>0</td>\n      <td>0</td>\n      <td>8257</td>\n      <td>7995</td>\n      <td>4878</td>\n      <td>5444</td>\n      <td>2639</td>\n      <td>2697</td>\n      <td>2000</td>\n      <td>1100</td>\n      <td>600</td>\n      <td>300</td>\n      <td>300</td>\n      <td>1000</td>\n      <td>1</td>\n    </tr>\n  </tbody>\n</table>\n</div>"
     },
     "metadata": {},
     "execution_count": 94
    }
   ],
   "source": [
    "df.head()"
   ]
  },
  {
   "cell_type": "code",
   "execution_count": 95,
   "metadata": {},
   "outputs": [],
   "source": [
    "# making dataframe mor readable by creating new column names\n",
    "rename_list = ['max_credit_given', 'gender', 'education', 'marital_status', 'age',\n",
    "'pay_status_sept', 'pay_status_aug', 'pay_status_july', 'pay_status_june', 'pay_status_may', 'pay_status_april', \n",
    "'bill_sept', 'bill_aug', 'bill_july', 'bill_june', 'bill_may', 'bill_april',\n",
    "'payment_sep', 'payment_aug', 'payments_jul', 'payment_jun', 'payment_may', 'payment_april', 'default']\n",
    "col_rename = dict(zip(df.columns,rename_list))\n",
    "df = df.rename(columns=col_rename)"
   ]
  },
  {
   "cell_type": "code",
   "execution_count": 96,
   "metadata": {},
   "outputs": [
    {
     "output_type": "execute_result",
     "data": {
      "text/plain": [
       "      max_credit_given gender education marital_status age pay_status_sept  \\\n",
       "28835           220000      2         1              2  36               0   \n",
       "25329           200000      2         3              2  29              -1   \n",
       "18894           180000      2         1              2  27              -2   \n",
       "690              80000      1         2              2  32               0   \n",
       "6239             10000      1         2              2  27               0   \n",
       "\n",
       "      pay_status_aug pay_status_july pay_status_june pay_status_may  \\\n",
       "28835              0               0               0              0   \n",
       "25329             -1              -1              -1             -1   \n",
       "18894             -2              -2              -2             -2   \n",
       "690                0               0               0              0   \n",
       "6239               0               0               0              0   \n",
       "\n",
       "      pay_status_april bill_sept bill_aug bill_july bill_june bill_may  \\\n",
       "28835                0    222598   222168    217900    221193   181859   \n",
       "25329               -1       326      326       326       326      326   \n",
       "18894               -2         0        0         0         0        0   \n",
       "690                  0     51372    51872     47593     43882    42256   \n",
       "6239                 0      8257     7995      4878      5444     2639   \n",
       "\n",
       "      bill_april payment_sep payment_aug payments_jul payment_jun payment_may  \\\n",
       "28835     184605       10000        8018        10121        6006       10987   \n",
       "25329        326         326         326          326         326         326   \n",
       "18894          0           0           0            0           0           0   \n",
       "690        42527        1853        1700         1522        1548        1488   \n",
       "6239        2697        2000        1100          600         300         300   \n",
       "\n",
       "      payment_april default  \n",
       "28835        143779       1  \n",
       "25329           326       0  \n",
       "18894             0       0  \n",
       "690            1500       0  \n",
       "6239           1000       1  "
      ],
      "text/html": "<div>\n<style scoped>\n    .dataframe tbody tr th:only-of-type {\n        vertical-align: middle;\n    }\n\n    .dataframe tbody tr th {\n        vertical-align: top;\n    }\n\n    .dataframe thead th {\n        text-align: right;\n    }\n</style>\n<table border=\"1\" class=\"dataframe\">\n  <thead>\n    <tr style=\"text-align: right;\">\n      <th></th>\n      <th>max_credit_given</th>\n      <th>gender</th>\n      <th>education</th>\n      <th>marital_status</th>\n      <th>age</th>\n      <th>pay_status_sept</th>\n      <th>pay_status_aug</th>\n      <th>pay_status_july</th>\n      <th>pay_status_june</th>\n      <th>pay_status_may</th>\n      <th>pay_status_april</th>\n      <th>bill_sept</th>\n      <th>bill_aug</th>\n      <th>bill_july</th>\n      <th>bill_june</th>\n      <th>bill_may</th>\n      <th>bill_april</th>\n      <th>payment_sep</th>\n      <th>payment_aug</th>\n      <th>payments_jul</th>\n      <th>payment_jun</th>\n      <th>payment_may</th>\n      <th>payment_april</th>\n      <th>default</th>\n    </tr>\n  </thead>\n  <tbody>\n    <tr>\n      <th>28835</th>\n      <td>220000</td>\n      <td>2</td>\n      <td>1</td>\n      <td>2</td>\n      <td>36</td>\n      <td>0</td>\n      <td>0</td>\n      <td>0</td>\n      <td>0</td>\n      <td>0</td>\n      <td>0</td>\n      <td>222598</td>\n      <td>222168</td>\n      <td>217900</td>\n      <td>221193</td>\n      <td>181859</td>\n      <td>184605</td>\n      <td>10000</td>\n      <td>8018</td>\n      <td>10121</td>\n      <td>6006</td>\n      <td>10987</td>\n      <td>143779</td>\n      <td>1</td>\n    </tr>\n    <tr>\n      <th>25329</th>\n      <td>200000</td>\n      <td>2</td>\n      <td>3</td>\n      <td>2</td>\n      <td>29</td>\n      <td>-1</td>\n      <td>-1</td>\n      <td>-1</td>\n      <td>-1</td>\n      <td>-1</td>\n      <td>-1</td>\n      <td>326</td>\n      <td>326</td>\n      <td>326</td>\n      <td>326</td>\n      <td>326</td>\n      <td>326</td>\n      <td>326</td>\n      <td>326</td>\n      <td>326</td>\n      <td>326</td>\n      <td>326</td>\n      <td>326</td>\n      <td>0</td>\n    </tr>\n    <tr>\n      <th>18894</th>\n      <td>180000</td>\n      <td>2</td>\n      <td>1</td>\n      <td>2</td>\n      <td>27</td>\n      <td>-2</td>\n      <td>-2</td>\n      <td>-2</td>\n      <td>-2</td>\n      <td>-2</td>\n      <td>-2</td>\n      <td>0</td>\n      <td>0</td>\n      <td>0</td>\n      <td>0</td>\n      <td>0</td>\n      <td>0</td>\n      <td>0</td>\n      <td>0</td>\n      <td>0</td>\n      <td>0</td>\n      <td>0</td>\n      <td>0</td>\n      <td>0</td>\n    </tr>\n    <tr>\n      <th>690</th>\n      <td>80000</td>\n      <td>1</td>\n      <td>2</td>\n      <td>2</td>\n      <td>32</td>\n      <td>0</td>\n      <td>0</td>\n      <td>0</td>\n      <td>0</td>\n      <td>0</td>\n      <td>0</td>\n      <td>51372</td>\n      <td>51872</td>\n      <td>47593</td>\n      <td>43882</td>\n      <td>42256</td>\n      <td>42527</td>\n      <td>1853</td>\n      <td>1700</td>\n      <td>1522</td>\n      <td>1548</td>\n      <td>1488</td>\n      <td>1500</td>\n      <td>0</td>\n    </tr>\n    <tr>\n      <th>6239</th>\n      <td>10000</td>\n      <td>1</td>\n      <td>2</td>\n      <td>2</td>\n      <td>27</td>\n      <td>0</td>\n      <td>0</td>\n      <td>0</td>\n      <td>0</td>\n      <td>0</td>\n      <td>0</td>\n      <td>8257</td>\n      <td>7995</td>\n      <td>4878</td>\n      <td>5444</td>\n      <td>2639</td>\n      <td>2697</td>\n      <td>2000</td>\n      <td>1100</td>\n      <td>600</td>\n      <td>300</td>\n      <td>300</td>\n      <td>1000</td>\n      <td>1</td>\n    </tr>\n  </tbody>\n</table>\n</div>"
     },
     "metadata": {},
     "execution_count": 96
    }
   ],
   "source": [
    "# checking that it worked\n",
    "df.head()"
   ]
  },
  {
   "cell_type": "code",
   "execution_count": 97,
   "metadata": {},
   "outputs": [
    {
     "output_type": "execute_result",
     "data": {
      "text/plain": [
       "max_credit_given                     LIMIT_BAL\n",
       "gender                                     SEX\n",
       "education                            EDUCATION\n",
       "marital_status                        MARRIAGE\n",
       "age                                        AGE\n",
       "pay_status_sept                          PAY_0\n",
       "pay_status_aug                           PAY_2\n",
       "pay_status_july                          PAY_3\n",
       "pay_status_june                          PAY_4\n",
       "pay_status_may                           PAY_5\n",
       "pay_status_april                         PAY_6\n",
       "bill_sept                            BILL_AMT1\n",
       "bill_aug                             BILL_AMT2\n",
       "bill_july                            BILL_AMT3\n",
       "bill_june                            BILL_AMT4\n",
       "bill_may                             BILL_AMT5\n",
       "bill_april                           BILL_AMT6\n",
       "payment_sep                           PAY_AMT1\n",
       "payment_aug                           PAY_AMT2\n",
       "payments_jul                          PAY_AMT3\n",
       "payment_jun                           PAY_AMT4\n",
       "payment_may                           PAY_AMT5\n",
       "payment_april                         PAY_AMT6\n",
       "default             default payment next month\n",
       "Name: ID, dtype: object"
      ]
     },
     "metadata": {},
     "execution_count": 97
    }
   ],
   "source": [
    "df.iloc[18381]"
   ]
  },
  {
   "cell_type": "code",
   "execution_count": 98,
   "metadata": {},
   "outputs": [
    {
     "output_type": "execute_result",
     "data": {
      "text/plain": [
       "(22500, 24)"
      ]
     },
     "metadata": {},
     "execution_count": 98
    }
   ],
   "source": [
    "df.shape"
   ]
  },
  {
   "cell_type": "code",
   "execution_count": 99,
   "metadata": {},
   "outputs": [],
   "source": [
    "# drop the row if has text in it\n",
    "df.drop(df[df.gender == 'SEX'].index, inplace=True)"
   ]
  },
  {
   "cell_type": "code",
   "execution_count": 100,
   "metadata": {},
   "outputs": [
    {
     "output_type": "execute_result",
     "data": {
      "text/plain": [
       "(22499, 24)"
      ]
     },
     "metadata": {},
     "execution_count": 100
    }
   ],
   "source": [
    "# checking that worked\n",
    "df.shape"
   ]
  },
  {
   "source": [
    "#### now that the row with column names is gone, we can convert the entire dataframe from objects to float/int"
   ],
   "cell_type": "markdown",
   "metadata": {}
  },
  {
   "cell_type": "code",
   "execution_count": 101,
   "metadata": {},
   "outputs": [
    {
     "output_type": "stream",
     "name": "stdout",
     "text": [
      "<class 'pandas.core.frame.DataFrame'>\nIndex: 22499 entries, 28835 to 7624\nData columns (total 24 columns):\nmax_credit_given    22499 non-null object\ngender              22499 non-null object\neducation           22499 non-null object\nmarital_status      22499 non-null object\nage                 22499 non-null object\npay_status_sept     22499 non-null object\npay_status_aug      22499 non-null object\npay_status_july     22499 non-null object\npay_status_june     22499 non-null object\npay_status_may      22499 non-null object\npay_status_april    22499 non-null object\nbill_sept           22499 non-null object\nbill_aug            22499 non-null object\nbill_july           22499 non-null object\nbill_june           22499 non-null object\nbill_may            22499 non-null object\nbill_april          22499 non-null object\npayment_sep         22499 non-null object\npayment_aug         22499 non-null object\npayments_jul        22499 non-null object\npayment_jun         22499 non-null object\npayment_may         22499 non-null object\npayment_april       22499 non-null object\ndefault             22499 non-null object\ndtypes: object(24)\nmemory usage: 4.3+ MB\n"
     ]
    }
   ],
   "source": [
    "# checking data types\n",
    "df.info()\n",
    "# theyre all objects, we need to change this"
   ]
  },
  {
   "cell_type": "code",
   "execution_count": 102,
   "metadata": {},
   "outputs": [],
   "source": [
    "# changing all values from objects to\n",
    "df = df.apply(pd.to_numeric, errors='coerce')"
   ]
  },
  {
   "cell_type": "code",
   "execution_count": 103,
   "metadata": {},
   "outputs": [
    {
     "output_type": "stream",
     "name": "stdout",
     "text": [
      "<class 'pandas.core.frame.DataFrame'>\nIndex: 22499 entries, 28835 to 7624\nData columns (total 24 columns):\nmax_credit_given    22499 non-null int64\ngender              22499 non-null int64\neducation           22499 non-null int64\nmarital_status      22499 non-null int64\nage                 22499 non-null int64\npay_status_sept     22499 non-null int64\npay_status_aug      22499 non-null int64\npay_status_july     22499 non-null int64\npay_status_june     22499 non-null int64\npay_status_may      22499 non-null int64\npay_status_april    22499 non-null int64\nbill_sept           22499 non-null int64\nbill_aug            22499 non-null int64\nbill_july           22499 non-null int64\nbill_june           22499 non-null int64\nbill_may            22499 non-null int64\nbill_april          22499 non-null int64\npayment_sep         22499 non-null int64\npayment_aug         22499 non-null int64\npayments_jul        22499 non-null int64\npayment_jun         22499 non-null int64\npayment_may         22499 non-null int64\npayment_april       22499 non-null int64\ndefault             22499 non-null int64\ndtypes: int64(24)\nmemory usage: 4.3+ MB\n"
     ]
    }
   ],
   "source": [
    "# checking data types\n",
    "df.info()"
   ]
  },
  {
   "source": [
    "### Fixing 3 main categorical variables"
   ],
   "cell_type": "markdown",
   "metadata": {}
  },
  {
   "cell_type": "code",
   "execution_count": 104,
   "metadata": {},
   "outputs": [
    {
     "output_type": "execute_result",
     "data": {
      "text/plain": [
       "             gender     education  marital_status\n",
       "count  22499.000000  22499.000000    22499.000000\n",
       "mean       1.603227      1.855282        1.553358\n",
       "std        0.489239      0.791905        0.521418\n",
       "min        1.000000      0.000000        0.000000\n",
       "25%        1.000000      1.000000        1.000000\n",
       "50%        2.000000      2.000000        2.000000\n",
       "75%        2.000000      2.000000        2.000000\n",
       "max        2.000000      6.000000        3.000000"
      ],
      "text/html": "<div>\n<style scoped>\n    .dataframe tbody tr th:only-of-type {\n        vertical-align: middle;\n    }\n\n    .dataframe tbody tr th {\n        vertical-align: top;\n    }\n\n    .dataframe thead th {\n        text-align: right;\n    }\n</style>\n<table border=\"1\" class=\"dataframe\">\n  <thead>\n    <tr style=\"text-align: right;\">\n      <th></th>\n      <th>gender</th>\n      <th>education</th>\n      <th>marital_status</th>\n    </tr>\n  </thead>\n  <tbody>\n    <tr>\n      <th>count</th>\n      <td>22499.000000</td>\n      <td>22499.000000</td>\n      <td>22499.000000</td>\n    </tr>\n    <tr>\n      <th>mean</th>\n      <td>1.603227</td>\n      <td>1.855282</td>\n      <td>1.553358</td>\n    </tr>\n    <tr>\n      <th>std</th>\n      <td>0.489239</td>\n      <td>0.791905</td>\n      <td>0.521418</td>\n    </tr>\n    <tr>\n      <th>min</th>\n      <td>1.000000</td>\n      <td>0.000000</td>\n      <td>0.000000</td>\n    </tr>\n    <tr>\n      <th>25%</th>\n      <td>1.000000</td>\n      <td>1.000000</td>\n      <td>1.000000</td>\n    </tr>\n    <tr>\n      <th>50%</th>\n      <td>2.000000</td>\n      <td>2.000000</td>\n      <td>2.000000</td>\n    </tr>\n    <tr>\n      <th>75%</th>\n      <td>2.000000</td>\n      <td>2.000000</td>\n      <td>2.000000</td>\n    </tr>\n    <tr>\n      <th>max</th>\n      <td>2.000000</td>\n      <td>6.000000</td>\n      <td>3.000000</td>\n    </tr>\n  </tbody>\n</table>\n</div>"
     },
     "metadata": {},
     "execution_count": 104
    }
   ],
   "source": [
    "# Categorical variables description\n",
    "df[['gender', 'education', 'marital_status']].describe()"
   ]
  },
  {
   "cell_type": "code",
   "execution_count": 105,
   "metadata": {},
   "outputs": [
    {
     "output_type": "execute_result",
     "data": {
      "text/plain": [
       "2    10516\n",
       "1     7919\n",
       "3     3713\n",
       "5      208\n",
       "4       90\n",
       "6       42\n",
       "0       11\n",
       "Name: education, dtype: int64"
      ]
     },
     "metadata": {},
     "execution_count": 105
    }
   ],
   "source": [
    "# Next deal with- why are there other educations besides 1-4 ??\n",
    "df['education'].value_counts()"
   ]
  },
  {
   "source": [
    "- 'education' has category 5 and 6 that are unlabeled, and the category 0 is undocumented.\n",
    "- 'marital_status' has a label 0 that is undocumented\n",
    "\n",
    "They just put the weird values in the 'other' categories. is this safe to do?\n",
    "let's check to see what other people did first\n",
    "- 'other' in education can be an education lower than the high school level.\n",
    "- 'other' in marital_status could be, for example, \"divorced\"."
   ],
   "cell_type": "markdown",
   "metadata": {}
  },
  {
   "cell_type": "code",
   "execution_count": 106,
   "metadata": {},
   "outputs": [],
   "source": [
    "# fixing 'education' column by putting unknown variables in 'other' category (4)\n",
    "fix_edu = (df.education == 5) | (df.education == 6) | (df.education == 0)\n",
    "df.loc[fix_edu, 'education'] = 4\n",
    "\n",
    "# fixing 'marital_status' column\n",
    "df.loc[df.marital_status == 0, 'marital_status'] = 3"
   ]
  },
  {
   "cell_type": "code",
   "execution_count": 107,
   "metadata": {},
   "outputs": [
    {
     "output_type": "execute_result",
     "data": {
      "text/plain": [
       "2    10516\n",
       "1     7919\n",
       "3     3713\n",
       "4      351\n",
       "Name: education, dtype: int64"
      ]
     },
     "metadata": {},
     "execution_count": 107
    }
   ],
   "source": [
    "df.education.value_counts()"
   ]
  },
  {
   "cell_type": "code",
   "execution_count": 108,
   "metadata": {},
   "outputs": [
    {
     "output_type": "execute_result",
     "data": {
      "text/plain": [
       "2    12026\n",
       "1    10195\n",
       "3      278\n",
       "Name: marital_status, dtype: int64"
      ]
     },
     "metadata": {},
     "execution_count": 108
    }
   ],
   "source": [
    "df.marital_status.value_counts()"
   ]
  },
  {
   "source": [
    "## Checking for irregularities, by column groups\n",
    "\n"
   ],
   "cell_type": "markdown",
   "metadata": {}
  },
  {
   "source": [
    "### checking History of Past Payment (payment delay)"
   ],
   "cell_type": "markdown",
   "metadata": {}
  },
  {
   "cell_type": "code",
   "execution_count": 113,
   "metadata": {},
   "outputs": [
    {
     "output_type": "execute_result",
     "data": {
      "text/plain": [
       "       pay_status_sept  pay_status_aug  pay_status_july  pay_status_june  \\\n",
       "count     22499.000000    22499.000000     22499.000000     22499.000000   \n",
       "mean         -0.014090       -0.128806        -0.160185        -0.214587   \n",
       "std           1.123191        1.197954         1.198880         1.174824   \n",
       "min          -2.000000       -2.000000        -2.000000        -2.000000   \n",
       "25%          -1.000000       -1.000000        -1.000000        -1.000000   \n",
       "50%           0.000000        0.000000         0.000000         0.000000   \n",
       "75%           0.000000        0.000000         0.000000         0.000000   \n",
       "max           8.000000        8.000000         8.000000         8.000000   \n",
       "\n",
       "       pay_status_may  pay_status_april  \n",
       "count    22499.000000      22499.000000  \n",
       "mean        -0.259700         -0.287613  \n",
       "std          1.139984          1.154249  \n",
       "min         -2.000000         -2.000000  \n",
       "25%         -1.000000         -1.000000  \n",
       "50%          0.000000          0.000000  \n",
       "75%          0.000000          0.000000  \n",
       "max          8.000000          8.000000  "
      ],
      "text/html": "<div>\n<style scoped>\n    .dataframe tbody tr th:only-of-type {\n        vertical-align: middle;\n    }\n\n    .dataframe tbody tr th {\n        vertical-align: top;\n    }\n\n    .dataframe thead th {\n        text-align: right;\n    }\n</style>\n<table border=\"1\" class=\"dataframe\">\n  <thead>\n    <tr style=\"text-align: right;\">\n      <th></th>\n      <th>pay_status_sept</th>\n      <th>pay_status_aug</th>\n      <th>pay_status_july</th>\n      <th>pay_status_june</th>\n      <th>pay_status_may</th>\n      <th>pay_status_april</th>\n    </tr>\n  </thead>\n  <tbody>\n    <tr>\n      <th>count</th>\n      <td>22499.000000</td>\n      <td>22499.000000</td>\n      <td>22499.000000</td>\n      <td>22499.000000</td>\n      <td>22499.000000</td>\n      <td>22499.000000</td>\n    </tr>\n    <tr>\n      <th>mean</th>\n      <td>-0.014090</td>\n      <td>-0.128806</td>\n      <td>-0.160185</td>\n      <td>-0.214587</td>\n      <td>-0.259700</td>\n      <td>-0.287613</td>\n    </tr>\n    <tr>\n      <th>std</th>\n      <td>1.123191</td>\n      <td>1.197954</td>\n      <td>1.198880</td>\n      <td>1.174824</td>\n      <td>1.139984</td>\n      <td>1.154249</td>\n    </tr>\n    <tr>\n      <th>min</th>\n      <td>-2.000000</td>\n      <td>-2.000000</td>\n      <td>-2.000000</td>\n      <td>-2.000000</td>\n      <td>-2.000000</td>\n      <td>-2.000000</td>\n    </tr>\n    <tr>\n      <th>25%</th>\n      <td>-1.000000</td>\n      <td>-1.000000</td>\n      <td>-1.000000</td>\n      <td>-1.000000</td>\n      <td>-1.000000</td>\n      <td>-1.000000</td>\n    </tr>\n    <tr>\n      <th>50%</th>\n      <td>0.000000</td>\n      <td>0.000000</td>\n      <td>0.000000</td>\n      <td>0.000000</td>\n      <td>0.000000</td>\n      <td>0.000000</td>\n    </tr>\n    <tr>\n      <th>75%</th>\n      <td>0.000000</td>\n      <td>0.000000</td>\n      <td>0.000000</td>\n      <td>0.000000</td>\n      <td>0.000000</td>\n      <td>0.000000</td>\n    </tr>\n    <tr>\n      <th>max</th>\n      <td>8.000000</td>\n      <td>8.000000</td>\n      <td>8.000000</td>\n      <td>8.000000</td>\n      <td>8.000000</td>\n      <td>8.000000</td>\n    </tr>\n  </tbody>\n</table>\n</div>"
     },
     "metadata": {},
     "execution_count": 113
    }
   ],
   "source": [
    "# this should be on a scale from -1, 1-9\n",
    "# -1 being 'pay duly' and 1-9 being how many months of payment delay\n",
    "\n",
    "df[['pay_status_sept', 'pay_status_aug', 'pay_status_july', 'pay_status_june', 'pay_status_may', 'pay_status_april']].describe()"
   ]
  },
  {
   "source": [
    "- There shouldn't be any -2 here, so let's just set it to 'pay duly' as if there wasn't any delay\n",
    "- and 'pay duly' should probably just be 0 instead of -1 because that means the payment wasn't delayed"
   ],
   "cell_type": "markdown",
   "metadata": {}
  },
  {
   "cell_type": "code",
   "execution_count": 128,
   "metadata": {},
   "outputs": [],
   "source": [
    "fix_status = (df.pay_status_sept == -2) | (df.pay_status_sept == -1) | (df.pay_status_sept == 0)\n",
    "df.loc[fix_status, 'pay_status_sept'] = 0\n",
    "\n",
    "fix_status = (df.pay_status_aug == -2) | (df.pay_status_aug == -1) | (df.pay_status_aug == 0)\n",
    "df.loc[fix_status, 'pay_status_aug'] = 0\n",
    "\n",
    "fix_status = (df.pay_status_july == -2) | (df.pay_status_july == -1) | (df.pay_status_july == 0)\n",
    "df.loc[fix_status, 'pay_status_july'] = 0\n",
    "\n",
    "fix_status = (df.pay_status_june == -2) | (df.pay_status_june == -1) | (df.pay_status_june == 0)\n",
    "df.loc[fix_status, 'pay_status_june'] = 0\n",
    "\n",
    "fix_status = (df.pay_status_may == -2) | (df.pay_status_may == -1) | (df.pay_status_may == 0)\n",
    "df.loc[fix_status, 'pay_status_may'] = 0\n",
    "\n",
    "fix_status = (df.pay_status_april == -2) | (df.pay_status_april == -1) | (df.pay_status_april == 0)\n",
    "df.loc[fix_status, 'pay_status_april'] = 0"
   ]
  },
  {
   "source": [
    "### checking amount of bill statement"
   ],
   "cell_type": "markdown",
   "metadata": {}
  },
  {
   "cell_type": "code",
   "execution_count": 115,
   "metadata": {},
   "outputs": [
    {
     "output_type": "execute_result",
     "data": {
      "text/plain": [
       "           bill_sept       bill_aug     bill_july      bill_june  \\\n",
       "count   22499.000000   22499.000000  2.249900e+04   22499.000000   \n",
       "mean    51455.869416   49385.313214  4.704213e+04   43329.149562   \n",
       "std     74470.257248   71953.814345  6.991792e+04   64607.088483   \n",
       "min   -165580.000000  -69777.000000 -1.572640e+05  -81334.000000   \n",
       "25%      3506.000000    2975.000000  2.611500e+03    2319.500000   \n",
       "50%     22387.000000   21145.000000  2.005300e+04   19048.000000   \n",
       "75%     66988.500000   63755.000000  6.016100e+04   54494.500000   \n",
       "max    964511.000000  983931.000000  1.664089e+06  891586.000000   \n",
       "\n",
       "            bill_may     bill_april  \n",
       "count   22499.000000   22499.000000  \n",
       "mean    40306.373039   38955.000356  \n",
       "std     60918.993067   59773.144959  \n",
       "min    -81334.000000 -339603.000000  \n",
       "25%      1732.500000    1230.000000  \n",
       "50%     18050.000000   16924.000000  \n",
       "75%     50196.000000   49250.000000  \n",
       "max    927171.000000  961664.000000  "
      ],
      "text/html": "<div>\n<style scoped>\n    .dataframe tbody tr th:only-of-type {\n        vertical-align: middle;\n    }\n\n    .dataframe tbody tr th {\n        vertical-align: top;\n    }\n\n    .dataframe thead th {\n        text-align: right;\n    }\n</style>\n<table border=\"1\" class=\"dataframe\">\n  <thead>\n    <tr style=\"text-align: right;\">\n      <th></th>\n      <th>bill_sept</th>\n      <th>bill_aug</th>\n      <th>bill_july</th>\n      <th>bill_june</th>\n      <th>bill_may</th>\n      <th>bill_april</th>\n    </tr>\n  </thead>\n  <tbody>\n    <tr>\n      <th>count</th>\n      <td>22499.000000</td>\n      <td>22499.000000</td>\n      <td>2.249900e+04</td>\n      <td>22499.000000</td>\n      <td>22499.000000</td>\n      <td>22499.000000</td>\n    </tr>\n    <tr>\n      <th>mean</th>\n      <td>51455.869416</td>\n      <td>49385.313214</td>\n      <td>4.704213e+04</td>\n      <td>43329.149562</td>\n      <td>40306.373039</td>\n      <td>38955.000356</td>\n    </tr>\n    <tr>\n      <th>std</th>\n      <td>74470.257248</td>\n      <td>71953.814345</td>\n      <td>6.991792e+04</td>\n      <td>64607.088483</td>\n      <td>60918.993067</td>\n      <td>59773.144959</td>\n    </tr>\n    <tr>\n      <th>min</th>\n      <td>-165580.000000</td>\n      <td>-69777.000000</td>\n      <td>-1.572640e+05</td>\n      <td>-81334.000000</td>\n      <td>-81334.000000</td>\n      <td>-339603.000000</td>\n    </tr>\n    <tr>\n      <th>25%</th>\n      <td>3506.000000</td>\n      <td>2975.000000</td>\n      <td>2.611500e+03</td>\n      <td>2319.500000</td>\n      <td>1732.500000</td>\n      <td>1230.000000</td>\n    </tr>\n    <tr>\n      <th>50%</th>\n      <td>22387.000000</td>\n      <td>21145.000000</td>\n      <td>2.005300e+04</td>\n      <td>19048.000000</td>\n      <td>18050.000000</td>\n      <td>16924.000000</td>\n    </tr>\n    <tr>\n      <th>75%</th>\n      <td>66988.500000</td>\n      <td>63755.000000</td>\n      <td>6.016100e+04</td>\n      <td>54494.500000</td>\n      <td>50196.000000</td>\n      <td>49250.000000</td>\n    </tr>\n    <tr>\n      <th>max</th>\n      <td>964511.000000</td>\n      <td>983931.000000</td>\n      <td>1.664089e+06</td>\n      <td>891586.000000</td>\n      <td>927171.000000</td>\n      <td>961664.000000</td>\n    </tr>\n  </tbody>\n</table>\n</div>"
     },
     "metadata": {},
     "execution_count": 115
    }
   ],
   "source": [
    "# checking amount of bill statement\n",
    "df[['bill_sept', 'bill_aug', 'bill_july', 'bill_june', 'bill_may', 'bill_april']].describe()"
   ]
  },
  {
   "source": [
    "- negative values can be interpreted as credit"
   ],
   "cell_type": "markdown",
   "metadata": {}
  },
  {
   "source": [
    "### checking amount of previous statement"
   ],
   "cell_type": "markdown",
   "metadata": {}
  },
  {
   "cell_type": "code",
   "execution_count": 117,
   "metadata": {},
   "outputs": [
    {
     "output_type": "execute_result",
     "data": {
      "text/plain": [
       "         payment_sep   payment_aug   payments_jul    payment_jun  \\\n",
       "count   22499.000000  2.249900e+04   22499.000000   22499.000000   \n",
       "mean     5627.914796  5.964393e+03    5258.912307    4792.971777   \n",
       "std     16628.162287  2.444370e+04   18153.554633   15872.858180   \n",
       "min         0.000000  0.000000e+00       0.000000       0.000000   \n",
       "25%      1000.000000  8.290000e+02     396.000000     284.000000   \n",
       "50%      2100.000000  2.004000e+03    1800.000000    1500.000000   \n",
       "75%      5002.000000  5.000000e+03    4500.000000    4000.000000   \n",
       "max    873552.000000  1.684259e+06  896040.000000  621000.000000   \n",
       "\n",
       "         payment_may  payment_april  \n",
       "count   22499.000000   22499.000000  \n",
       "mean     4865.656029    5247.279301  \n",
       "std     15507.449610   17892.327398  \n",
       "min         0.000000       0.000000  \n",
       "25%       246.500000     100.000000  \n",
       "50%      1500.000000    1500.000000  \n",
       "75%      4068.500000    4000.000000  \n",
       "max    388071.000000  528666.000000  "
      ],
      "text/html": "<div>\n<style scoped>\n    .dataframe tbody tr th:only-of-type {\n        vertical-align: middle;\n    }\n\n    .dataframe tbody tr th {\n        vertical-align: top;\n    }\n\n    .dataframe thead th {\n        text-align: right;\n    }\n</style>\n<table border=\"1\" class=\"dataframe\">\n  <thead>\n    <tr style=\"text-align: right;\">\n      <th></th>\n      <th>payment_sep</th>\n      <th>payment_aug</th>\n      <th>payments_jul</th>\n      <th>payment_jun</th>\n      <th>payment_may</th>\n      <th>payment_april</th>\n    </tr>\n  </thead>\n  <tbody>\n    <tr>\n      <th>count</th>\n      <td>22499.000000</td>\n      <td>2.249900e+04</td>\n      <td>22499.000000</td>\n      <td>22499.000000</td>\n      <td>22499.000000</td>\n      <td>22499.000000</td>\n    </tr>\n    <tr>\n      <th>mean</th>\n      <td>5627.914796</td>\n      <td>5.964393e+03</td>\n      <td>5258.912307</td>\n      <td>4792.971777</td>\n      <td>4865.656029</td>\n      <td>5247.279301</td>\n    </tr>\n    <tr>\n      <th>std</th>\n      <td>16628.162287</td>\n      <td>2.444370e+04</td>\n      <td>18153.554633</td>\n      <td>15872.858180</td>\n      <td>15507.449610</td>\n      <td>17892.327398</td>\n    </tr>\n    <tr>\n      <th>min</th>\n      <td>0.000000</td>\n      <td>0.000000e+00</td>\n      <td>0.000000</td>\n      <td>0.000000</td>\n      <td>0.000000</td>\n      <td>0.000000</td>\n    </tr>\n    <tr>\n      <th>25%</th>\n      <td>1000.000000</td>\n      <td>8.290000e+02</td>\n      <td>396.000000</td>\n      <td>284.000000</td>\n      <td>246.500000</td>\n      <td>100.000000</td>\n    </tr>\n    <tr>\n      <th>50%</th>\n      <td>2100.000000</td>\n      <td>2.004000e+03</td>\n      <td>1800.000000</td>\n      <td>1500.000000</td>\n      <td>1500.000000</td>\n      <td>1500.000000</td>\n    </tr>\n    <tr>\n      <th>75%</th>\n      <td>5002.000000</td>\n      <td>5.000000e+03</td>\n      <td>4500.000000</td>\n      <td>4000.000000</td>\n      <td>4068.500000</td>\n      <td>4000.000000</td>\n    </tr>\n    <tr>\n      <th>max</th>\n      <td>873552.000000</td>\n      <td>1.684259e+06</td>\n      <td>896040.000000</td>\n      <td>621000.000000</td>\n      <td>388071.000000</td>\n      <td>528666.000000</td>\n    </tr>\n  </tbody>\n</table>\n</div>"
     },
     "metadata": {},
     "execution_count": 117
    }
   ],
   "source": [
    "# checking amount of previous statement\n",
    "df[['payment_sep', 'payment_aug', 'payments_jul', 'payment_jun', 'payment_may', 'payment_april']].describe()"
   ]
  },
  {
   "source": [
    "## 2: Data Visualization & EDA\n",
    "#### Check cleaning_EDA.ipynb for full EDA process"
   ],
   "cell_type": "markdown",
   "metadata": {}
  },
  {
   "source": [
    "### checking the amount of credit given to each person"
   ],
   "cell_type": "markdown",
   "metadata": {}
  },
  {
   "cell_type": "code",
   "execution_count": 119,
   "metadata": {},
   "outputs": [
    {
     "output_type": "execute_result",
     "data": {
      "text/plain": [
       "count      22499.000000\n",
       "mean      167054.521534\n",
       "std       129864.960118\n",
       "min        10000.000000\n",
       "25%        50000.000000\n",
       "50%       140000.000000\n",
       "75%       240000.000000\n",
       "max      1000000.000000\n",
       "Name: max_credit_given, dtype: float64"
      ]
     },
     "metadata": {},
     "execution_count": 119
    }
   ],
   "source": [
    "# checking the amount of credit given to each person\n",
    "df.max_credit_given.describe()"
   ]
  },
  {
   "cell_type": "code",
   "execution_count": 120,
   "metadata": {},
   "outputs": [
    {
     "output_type": "execute_result",
     "data": {
      "text/plain": [
       "0.22347659895995378"
      ]
     },
     "metadata": {},
     "execution_count": 120
    }
   ],
   "source": [
    "# general idea of the default probablity for this dataset?\n",
    "df.default.sum() / len(df.default)"
   ]
  },
  {
   "source": [
    "#### ^ This will be the same when we check class imabalance later"
   ],
   "cell_type": "markdown",
   "metadata": {}
  },
  {
   "source": [
    "## 3. Feature Engineering"
   ],
   "cell_type": "markdown",
   "metadata": {}
  },
  {
   "cell_type": "code",
   "execution_count": null,
   "metadata": {},
   "outputs": [],
   "source": []
  },
  {
   "cell_type": "code",
   "execution_count": null,
   "metadata": {},
   "outputs": [],
   "source": []
  },
  {
   "cell_type": "code",
   "execution_count": null,
   "metadata": {},
   "outputs": [],
   "source": []
  },
  {
   "cell_type": "markdown",
   "metadata": {},
   "source": [
    "## 4. Train-Test Split\n",
    "### Preparing data for TTS"
   ]
  },
  {
   "cell_type": "code",
   "execution_count": 123,
   "metadata": {},
   "outputs": [],
   "source": [
    "# Split data to be used in the models\n",
    "# Create matrix of features\n",
    "X = df.drop('default', axis = 1) # grabs everything else but 'Survived'\n",
    "\n",
    "# Create target variable\n",
    "y = df['default'] # y is the column we're trying to predict"
   ]
  },
  {
   "source": [
    "### Checking for class imbalance in 'default' column"
   ],
   "cell_type": "markdown",
   "metadata": {}
  },
  {
   "cell_type": "code",
   "execution_count": 124,
   "metadata": {},
   "outputs": [
    {
     "output_type": "execute_result",
     "data": {
      "text/plain": [
       "0    17471\n",
       "1     5028\n",
       "Name: default, dtype: int64"
      ]
     },
     "metadata": {},
     "execution_count": 124
    }
   ],
   "source": [
    "df.default.value_counts()\n",
    "# this means that there is a class imbalance!!"
   ]
  },
  {
   "cell_type": "code",
   "execution_count": 125,
   "metadata": {},
   "outputs": [
    {
     "output_type": "display_data",
     "data": {
      "text/plain": "<Figure size 720x360 with 1 Axes>",
      "image/svg+xml": "<?xml version=\"1.0\" encoding=\"utf-8\" standalone=\"no\"?>\n<!DOCTYPE svg PUBLIC \"-//W3C//DTD SVG 1.1//EN\"\n  \"http://www.w3.org/Graphics/SVG/1.1/DTD/svg11.dtd\">\n<!-- Created with matplotlib (https://matplotlib.org/) -->\n<svg height=\"330.08pt\" version=\"1.1\" viewBox=\"0 0 620.589062 330.08\" width=\"620.589062pt\" xmlns=\"http://www.w3.org/2000/svg\" xmlns:xlink=\"http://www.w3.org/1999/xlink\">\n <defs>\n  <style type=\"text/css\">\n*{stroke-linecap:butt;stroke-linejoin:round;}\n  </style>\n </defs>\n <g id=\"figure_1\">\n  <g id=\"patch_1\">\n   <path d=\"M 0 330.08 \nL 620.589062 330.08 \nL 620.589062 0 \nL 0 0 \nz\n\" style=\"fill:#ffffff;\"/>\n  </g>\n  <g id=\"axes_1\">\n   <g id=\"patch_2\">\n    <path d=\"M 55.389063 293.589375 \nL 613.389063 293.589375 \nL 613.389063 21.789375 \nL 55.389063 21.789375 \nz\n\" style=\"fill:#eaeaf2;\"/>\n   </g>\n   <g id=\"matplotlib.axis_1\">\n    <g id=\"xtick_1\">\n     <g id=\"text_1\">\n      <!-- 0 -->\n      <defs>\n       <path d=\"M 4.15625 35.296875 \nQ 4.15625 48 6.765625 55.734375 \nQ 9.375 63.484375 14.515625 67.671875 \nQ 19.671875 71.875 27.484375 71.875 \nQ 33.25 71.875 37.59375 69.546875 \nQ 41.9375 67.234375 44.765625 62.859375 \nQ 47.609375 58.5 49.21875 52.21875 \nQ 50.828125 45.953125 50.828125 35.296875 \nQ 50.828125 22.703125 48.234375 14.96875 \nQ 45.65625 7.234375 40.5 3 \nQ 35.359375 -1.21875 27.484375 -1.21875 \nQ 17.140625 -1.21875 11.234375 6.203125 \nQ 4.15625 15.140625 4.15625 35.296875 \nz\nM 13.1875 35.296875 \nQ 13.1875 17.671875 17.3125 11.828125 \nQ 21.4375 6 27.484375 6 \nQ 33.546875 6 37.671875 11.859375 \nQ 41.796875 17.71875 41.796875 35.296875 \nQ 41.796875 52.984375 37.671875 58.78125 \nQ 33.546875 64.59375 27.390625 64.59375 \nQ 21.34375 64.59375 17.71875 59.46875 \nQ 13.1875 52.9375 13.1875 35.296875 \nz\n\" id=\"ArialMT-48\"/>\n      </defs>\n      <g style=\"fill:#262626;\" transform=\"translate(192.108594 307.747187)scale(0.1 -0.1)\">\n       <use xlink:href=\"#ArialMT-48\"/>\n      </g>\n     </g>\n    </g>\n    <g id=\"xtick_2\">\n     <g id=\"text_2\">\n      <!-- 1 -->\n      <defs>\n       <path d=\"M 37.25 0 \nL 28.46875 0 \nL 28.46875 56 \nQ 25.296875 52.984375 20.140625 49.953125 \nQ 14.984375 46.921875 10.890625 45.40625 \nL 10.890625 53.90625 \nQ 18.265625 57.375 23.78125 62.296875 \nQ 29.296875 67.234375 31.59375 71.875 \nL 37.25 71.875 \nz\n\" id=\"ArialMT-49\"/>\n      </defs>\n      <g style=\"fill:#262626;\" transform=\"translate(471.108594 307.747187)scale(0.1 -0.1)\">\n       <use xlink:href=\"#ArialMT-49\"/>\n      </g>\n     </g>\n    </g>\n    <g id=\"text_3\">\n     <!-- default -->\n     <defs>\n      <path d=\"M 40.234375 0 \nL 40.234375 6.546875 \nQ 35.296875 -1.171875 25.734375 -1.171875 \nQ 19.53125 -1.171875 14.328125 2.25 \nQ 9.125 5.671875 6.265625 11.796875 \nQ 3.421875 17.921875 3.421875 25.875 \nQ 3.421875 33.640625 6 39.96875 \nQ 8.59375 46.296875 13.765625 49.65625 \nQ 18.953125 53.03125 25.34375 53.03125 \nQ 30.03125 53.03125 33.6875 51.046875 \nQ 37.359375 49.078125 39.65625 45.90625 \nL 39.65625 71.578125 \nL 48.390625 71.578125 \nL 48.390625 0 \nz\nM 12.453125 25.875 \nQ 12.453125 15.921875 16.640625 10.984375 \nQ 20.84375 6.0625 26.5625 6.0625 \nQ 32.328125 6.0625 36.34375 10.765625 \nQ 40.375 15.484375 40.375 25.140625 \nQ 40.375 35.796875 36.265625 40.765625 \nQ 32.171875 45.75 26.171875 45.75 \nQ 20.3125 45.75 16.375 40.96875 \nQ 12.453125 36.1875 12.453125 25.875 \nz\n\" id=\"ArialMT-100\"/>\n      <path d=\"M 42.09375 16.703125 \nL 51.171875 15.578125 \nQ 49.03125 7.625 43.21875 3.21875 \nQ 37.40625 -1.171875 28.375 -1.171875 \nQ 17 -1.171875 10.328125 5.828125 \nQ 3.65625 12.84375 3.65625 25.484375 \nQ 3.65625 38.578125 10.390625 45.796875 \nQ 17.140625 53.03125 27.875 53.03125 \nQ 38.28125 53.03125 44.875 45.953125 \nQ 51.46875 38.875 51.46875 26.03125 \nQ 51.46875 25.25 51.421875 23.6875 \nL 12.75 23.6875 \nQ 13.234375 15.140625 17.578125 10.59375 \nQ 21.921875 6.0625 28.421875 6.0625 \nQ 33.25 6.0625 36.671875 8.59375 \nQ 40.09375 11.140625 42.09375 16.703125 \nz\nM 13.234375 30.90625 \nL 42.1875 30.90625 \nQ 41.609375 37.453125 38.875 40.71875 \nQ 34.671875 45.796875 27.984375 45.796875 \nQ 21.921875 45.796875 17.796875 41.75 \nQ 13.671875 37.703125 13.234375 30.90625 \nz\n\" id=\"ArialMT-101\"/>\n      <path d=\"M 8.6875 0 \nL 8.6875 45.015625 \nL 0.921875 45.015625 \nL 0.921875 51.859375 \nL 8.6875 51.859375 \nL 8.6875 57.375 \nQ 8.6875 62.59375 9.625 65.140625 \nQ 10.890625 68.5625 14.078125 70.671875 \nQ 17.28125 72.796875 23.046875 72.796875 \nQ 26.765625 72.796875 31.25 71.921875 \nL 29.9375 64.265625 \nQ 27.203125 64.75 24.75 64.75 \nQ 20.75 64.75 19.09375 63.03125 \nQ 17.4375 61.328125 17.4375 56.640625 \nL 17.4375 51.859375 \nL 27.546875 51.859375 \nL 27.546875 45.015625 \nL 17.4375 45.015625 \nL 17.4375 0 \nz\n\" id=\"ArialMT-102\"/>\n      <path d=\"M 40.4375 6.390625 \nQ 35.546875 2.25 31.03125 0.53125 \nQ 26.515625 -1.171875 21.34375 -1.171875 \nQ 12.796875 -1.171875 8.203125 3 \nQ 3.609375 7.171875 3.609375 13.671875 \nQ 3.609375 17.484375 5.34375 20.625 \nQ 7.078125 23.78125 9.890625 25.6875 \nQ 12.703125 27.59375 16.21875 28.5625 \nQ 18.796875 29.25 24.03125 29.890625 \nQ 34.671875 31.15625 39.703125 32.90625 \nQ 39.75 34.71875 39.75 35.203125 \nQ 39.75 40.578125 37.25 42.78125 \nQ 33.890625 45.75 27.25 45.75 \nQ 21.046875 45.75 18.09375 43.578125 \nQ 15.140625 41.40625 13.71875 35.890625 \nL 5.125 37.0625 \nQ 6.296875 42.578125 8.984375 45.96875 \nQ 11.671875 49.359375 16.75 51.1875 \nQ 21.828125 53.03125 28.515625 53.03125 \nQ 35.15625 53.03125 39.296875 51.46875 \nQ 43.453125 49.90625 45.40625 47.53125 \nQ 47.359375 45.171875 48.140625 41.546875 \nQ 48.578125 39.3125 48.578125 33.453125 \nL 48.578125 21.734375 \nQ 48.578125 9.46875 49.140625 6.21875 \nQ 49.703125 2.984375 51.375 0 \nL 42.1875 0 \nQ 40.828125 2.734375 40.4375 6.390625 \nz\nM 39.703125 26.03125 \nQ 34.90625 24.078125 25.34375 22.703125 \nQ 19.921875 21.921875 17.671875 20.9375 \nQ 15.4375 19.96875 14.203125 18.09375 \nQ 12.984375 16.21875 12.984375 13.921875 \nQ 12.984375 10.40625 15.640625 8.0625 \nQ 18.3125 5.71875 23.4375 5.71875 \nQ 28.515625 5.71875 32.46875 7.9375 \nQ 36.421875 10.15625 38.28125 14.015625 \nQ 39.703125 17 39.703125 22.796875 \nz\n\" id=\"ArialMT-97\"/>\n      <path d=\"M 40.578125 0 \nL 40.578125 7.625 \nQ 34.515625 -1.171875 24.125 -1.171875 \nQ 19.53125 -1.171875 15.546875 0.578125 \nQ 11.578125 2.34375 9.640625 5 \nQ 7.71875 7.671875 6.9375 11.53125 \nQ 6.390625 14.109375 6.390625 19.734375 \nL 6.390625 51.859375 \nL 15.1875 51.859375 \nL 15.1875 23.09375 \nQ 15.1875 16.21875 15.71875 13.8125 \nQ 16.546875 10.359375 19.234375 8.375 \nQ 21.921875 6.390625 25.875 6.390625 \nQ 29.828125 6.390625 33.296875 8.421875 \nQ 36.765625 10.453125 38.203125 13.9375 \nQ 39.65625 17.4375 39.65625 24.078125 \nL 39.65625 51.859375 \nL 48.4375 51.859375 \nL 48.4375 0 \nz\n\" id=\"ArialMT-117\"/>\n      <path d=\"M 6.390625 0 \nL 6.390625 71.578125 \nL 15.1875 71.578125 \nL 15.1875 0 \nz\n\" id=\"ArialMT-108\"/>\n      <path d=\"M 25.78125 7.859375 \nL 27.046875 0.09375 \nQ 23.34375 -0.6875 20.40625 -0.6875 \nQ 15.625 -0.6875 12.984375 0.828125 \nQ 10.359375 2.34375 9.28125 4.8125 \nQ 8.203125 7.28125 8.203125 15.1875 \nL 8.203125 45.015625 \nL 1.765625 45.015625 \nL 1.765625 51.859375 \nL 8.203125 51.859375 \nL 8.203125 64.703125 \nL 16.9375 69.96875 \nL 16.9375 51.859375 \nL 25.78125 51.859375 \nL 25.78125 45.015625 \nL 16.9375 45.015625 \nL 16.9375 14.703125 \nQ 16.9375 10.9375 17.40625 9.859375 \nQ 17.875 8.796875 18.921875 8.15625 \nQ 19.96875 7.515625 21.921875 7.515625 \nQ 23.390625 7.515625 25.78125 7.859375 \nz\n\" id=\"ArialMT-116\"/>\n     </defs>\n     <g style=\"fill:#262626;\" transform=\"translate(319.378125 320.8925)scale(0.1 -0.1)\">\n      <use xlink:href=\"#ArialMT-100\"/>\n      <use x=\"55.615234\" xlink:href=\"#ArialMT-101\"/>\n      <use x=\"111.230469\" xlink:href=\"#ArialMT-102\"/>\n      <use x=\"139.013672\" xlink:href=\"#ArialMT-97\"/>\n      <use x=\"194.628906\" xlink:href=\"#ArialMT-117\"/>\n      <use x=\"250.244141\" xlink:href=\"#ArialMT-108\"/>\n      <use x=\"272.460938\" xlink:href=\"#ArialMT-116\"/>\n     </g>\n    </g>\n   </g>\n   <g id=\"matplotlib.axis_2\">\n    <g id=\"ytick_1\">\n     <g id=\"line2d_1\">\n      <path clip-path=\"url(#pe22721c4fb)\" d=\"M 55.389063 293.589375 \nL 613.389063 293.589375 \n\" style=\"fill:none;stroke:#ffffff;stroke-linecap:round;stroke-width:0.8;\"/>\n     </g>\n     <g id=\"text_4\">\n      <!-- 0 -->\n      <g style=\"fill:#262626;\" transform=\"translate(42.828125 297.168281)scale(0.1 -0.1)\">\n       <use xlink:href=\"#ArialMT-48\"/>\n      </g>\n     </g>\n    </g>\n    <g id=\"ytick_2\">\n     <g id=\"line2d_2\">\n      <path clip-path=\"url(#pe22721c4fb)\" d=\"M 55.389063 256.548401 \nL 613.389063 256.548401 \n\" style=\"fill:none;stroke:#ffffff;stroke-linecap:round;stroke-width:0.8;\"/>\n     </g>\n     <g id=\"text_5\">\n      <!-- 2500 -->\n      <defs>\n       <path d=\"M 50.34375 8.453125 \nL 50.34375 0 \nL 3.03125 0 \nQ 2.9375 3.171875 4.046875 6.109375 \nQ 5.859375 10.9375 9.828125 15.625 \nQ 13.8125 20.3125 21.34375 26.46875 \nQ 33.015625 36.03125 37.109375 41.625 \nQ 41.21875 47.21875 41.21875 52.203125 \nQ 41.21875 57.421875 37.46875 61 \nQ 33.734375 64.59375 27.734375 64.59375 \nQ 21.390625 64.59375 17.578125 60.78125 \nQ 13.765625 56.984375 13.71875 50.25 \nL 4.6875 51.171875 \nQ 5.609375 61.28125 11.65625 66.578125 \nQ 17.71875 71.875 27.9375 71.875 \nQ 38.234375 71.875 44.234375 66.15625 \nQ 50.25 60.453125 50.25 52 \nQ 50.25 47.703125 48.484375 43.546875 \nQ 46.734375 39.40625 42.65625 34.8125 \nQ 38.578125 30.21875 29.109375 22.21875 \nQ 21.1875 15.578125 18.9375 13.203125 \nQ 16.703125 10.84375 15.234375 8.453125 \nz\n\" id=\"ArialMT-50\"/>\n       <path d=\"M 4.15625 18.75 \nL 13.375 19.53125 \nQ 14.40625 12.796875 18.140625 9.390625 \nQ 21.875 6 27.15625 6 \nQ 33.5 6 37.890625 10.78125 \nQ 42.28125 15.578125 42.28125 23.484375 \nQ 42.28125 31 38.0625 35.34375 \nQ 33.84375 39.703125 27 39.703125 \nQ 22.75 39.703125 19.328125 37.765625 \nQ 15.921875 35.84375 13.96875 32.765625 \nL 5.71875 33.84375 \nL 12.640625 70.609375 \nL 48.25 70.609375 \nL 48.25 62.203125 \nL 19.671875 62.203125 \nL 15.828125 42.96875 \nQ 22.265625 47.46875 29.34375 47.46875 \nQ 38.71875 47.46875 45.15625 40.96875 \nQ 51.609375 34.46875 51.609375 24.265625 \nQ 51.609375 14.546875 45.953125 7.46875 \nQ 39.0625 -1.21875 27.15625 -1.21875 \nQ 17.390625 -1.21875 11.203125 4.25 \nQ 5.03125 9.71875 4.15625 18.75 \nz\n\" id=\"ArialMT-53\"/>\n      </defs>\n      <g style=\"fill:#262626;\" transform=\"translate(26.145313 260.127307)scale(0.1 -0.1)\">\n       <use xlink:href=\"#ArialMT-50\"/>\n       <use x=\"55.615234\" xlink:href=\"#ArialMT-53\"/>\n       <use x=\"111.230469\" xlink:href=\"#ArialMT-48\"/>\n       <use x=\"166.845703\" xlink:href=\"#ArialMT-48\"/>\n      </g>\n     </g>\n    </g>\n    <g id=\"ytick_3\">\n     <g id=\"line2d_3\">\n      <path clip-path=\"url(#pe22721c4fb)\" d=\"M 55.389063 219.507427 \nL 613.389063 219.507427 \n\" style=\"fill:none;stroke:#ffffff;stroke-linecap:round;stroke-width:0.8;\"/>\n     </g>\n     <g id=\"text_6\">\n      <!-- 5000 -->\n      <g style=\"fill:#262626;\" transform=\"translate(26.145313 223.086333)scale(0.1 -0.1)\">\n       <use xlink:href=\"#ArialMT-53\"/>\n       <use x=\"55.615234\" xlink:href=\"#ArialMT-48\"/>\n       <use x=\"111.230469\" xlink:href=\"#ArialMT-48\"/>\n       <use x=\"166.845703\" xlink:href=\"#ArialMT-48\"/>\n      </g>\n     </g>\n    </g>\n    <g id=\"ytick_4\">\n     <g id=\"line2d_4\">\n      <path clip-path=\"url(#pe22721c4fb)\" d=\"M 55.389063 182.466453 \nL 613.389063 182.466453 \n\" style=\"fill:none;stroke:#ffffff;stroke-linecap:round;stroke-width:0.8;\"/>\n     </g>\n     <g id=\"text_7\">\n      <!-- 7500 -->\n      <defs>\n       <path d=\"M 4.734375 62.203125 \nL 4.734375 70.65625 \nL 51.078125 70.65625 \nL 51.078125 63.8125 \nQ 44.234375 56.546875 37.515625 44.484375 \nQ 30.8125 32.421875 27.15625 19.671875 \nQ 24.515625 10.6875 23.78125 0 \nL 14.75 0 \nQ 14.890625 8.453125 18.0625 20.40625 \nQ 21.234375 32.375 27.171875 43.484375 \nQ 33.109375 54.59375 39.796875 62.203125 \nz\n\" id=\"ArialMT-55\"/>\n      </defs>\n      <g style=\"fill:#262626;\" transform=\"translate(26.145313 186.045359)scale(0.1 -0.1)\">\n       <use xlink:href=\"#ArialMT-55\"/>\n       <use x=\"55.615234\" xlink:href=\"#ArialMT-53\"/>\n       <use x=\"111.230469\" xlink:href=\"#ArialMT-48\"/>\n       <use x=\"166.845703\" xlink:href=\"#ArialMT-48\"/>\n      </g>\n     </g>\n    </g>\n    <g id=\"ytick_5\">\n     <g id=\"line2d_5\">\n      <path clip-path=\"url(#pe22721c4fb)\" d=\"M 55.389063 145.425479 \nL 613.389063 145.425479 \n\" style=\"fill:none;stroke:#ffffff;stroke-linecap:round;stroke-width:0.8;\"/>\n     </g>\n     <g id=\"text_8\">\n      <!-- 10000 -->\n      <g style=\"fill:#262626;\" transform=\"translate(20.584375 149.004385)scale(0.1 -0.1)\">\n       <use xlink:href=\"#ArialMT-49\"/>\n       <use x=\"55.615234\" xlink:href=\"#ArialMT-48\"/>\n       <use x=\"111.230469\" xlink:href=\"#ArialMT-48\"/>\n       <use x=\"166.845703\" xlink:href=\"#ArialMT-48\"/>\n       <use x=\"222.460938\" xlink:href=\"#ArialMT-48\"/>\n      </g>\n     </g>\n    </g>\n    <g id=\"ytick_6\">\n     <g id=\"line2d_6\">\n      <path clip-path=\"url(#pe22721c4fb)\" d=\"M 55.389063 108.384505 \nL 613.389063 108.384505 \n\" style=\"fill:none;stroke:#ffffff;stroke-linecap:round;stroke-width:0.8;\"/>\n     </g>\n     <g id=\"text_9\">\n      <!-- 12500 -->\n      <g style=\"fill:#262626;\" transform=\"translate(20.584375 111.963411)scale(0.1 -0.1)\">\n       <use xlink:href=\"#ArialMT-49\"/>\n       <use x=\"55.615234\" xlink:href=\"#ArialMT-50\"/>\n       <use x=\"111.230469\" xlink:href=\"#ArialMT-53\"/>\n       <use x=\"166.845703\" xlink:href=\"#ArialMT-48\"/>\n       <use x=\"222.460938\" xlink:href=\"#ArialMT-48\"/>\n      </g>\n     </g>\n    </g>\n    <g id=\"ytick_7\">\n     <g id=\"line2d_7\">\n      <path clip-path=\"url(#pe22721c4fb)\" d=\"M 55.389063 71.343531 \nL 613.389063 71.343531 \n\" style=\"fill:none;stroke:#ffffff;stroke-linecap:round;stroke-width:0.8;\"/>\n     </g>\n     <g id=\"text_10\">\n      <!-- 15000 -->\n      <g style=\"fill:#262626;\" transform=\"translate(20.584375 74.922437)scale(0.1 -0.1)\">\n       <use xlink:href=\"#ArialMT-49\"/>\n       <use x=\"55.615234\" xlink:href=\"#ArialMT-53\"/>\n       <use x=\"111.230469\" xlink:href=\"#ArialMT-48\"/>\n       <use x=\"166.845703\" xlink:href=\"#ArialMT-48\"/>\n       <use x=\"222.460938\" xlink:href=\"#ArialMT-48\"/>\n      </g>\n     </g>\n    </g>\n    <g id=\"ytick_8\">\n     <g id=\"line2d_8\">\n      <path clip-path=\"url(#pe22721c4fb)\" d=\"M 55.389063 34.302557 \nL 613.389063 34.302557 \n\" style=\"fill:none;stroke:#ffffff;stroke-linecap:round;stroke-width:0.8;\"/>\n     </g>\n     <g id=\"text_11\">\n      <!-- 17500 -->\n      <g style=\"fill:#262626;\" transform=\"translate(20.584375 37.881463)scale(0.1 -0.1)\">\n       <use xlink:href=\"#ArialMT-49\"/>\n       <use x=\"55.615234\" xlink:href=\"#ArialMT-55\"/>\n       <use x=\"111.230469\" xlink:href=\"#ArialMT-53\"/>\n       <use x=\"166.845703\" xlink:href=\"#ArialMT-48\"/>\n       <use x=\"222.460938\" xlink:href=\"#ArialMT-48\"/>\n      </g>\n     </g>\n    </g>\n    <g id=\"text_12\">\n     <!-- # of Study Participants -->\n     <defs>\n      <path d=\"M 5.03125 -1.21875 \nL 9.28125 19.578125 \nL 1.03125 19.578125 \nL 1.03125 26.859375 \nL 10.75 26.859375 \nL 14.359375 44.578125 \nL 1.03125 44.578125 \nL 1.03125 51.859375 \nL 15.828125 51.859375 \nL 20.0625 72.796875 \nL 27.390625 72.796875 \nL 23.140625 51.859375 \nL 38.53125 51.859375 \nL 42.78125 72.796875 \nL 50.140625 72.796875 \nL 45.90625 51.859375 \nL 54.34375 51.859375 \nL 54.34375 44.578125 \nL 44.4375 44.578125 \nL 40.765625 26.859375 \nL 54.34375 26.859375 \nL 54.34375 19.578125 \nL 39.3125 19.578125 \nL 35.0625 -1.21875 \nL 27.734375 -1.21875 \nL 31.9375 19.578125 \nL 16.609375 19.578125 \nL 12.359375 -1.21875 \nz\nM 18.0625 26.859375 \nL 33.40625 26.859375 \nL 37.0625 44.578125 \nL 21.6875 44.578125 \nz\n\" id=\"ArialMT-35\"/>\n      <path id=\"ArialMT-32\"/>\n      <path d=\"M 3.328125 25.921875 \nQ 3.328125 40.328125 11.328125 47.265625 \nQ 18.015625 53.03125 27.640625 53.03125 \nQ 38.328125 53.03125 45.109375 46.015625 \nQ 51.90625 39.015625 51.90625 26.65625 \nQ 51.90625 16.65625 48.90625 10.90625 \nQ 45.90625 5.171875 40.15625 2 \nQ 34.421875 -1.171875 27.640625 -1.171875 \nQ 16.75 -1.171875 10.03125 5.8125 \nQ 3.328125 12.796875 3.328125 25.921875 \nz\nM 12.359375 25.921875 \nQ 12.359375 15.96875 16.703125 11.015625 \nQ 21.046875 6.0625 27.640625 6.0625 \nQ 34.1875 6.0625 38.53125 11.03125 \nQ 42.875 16.015625 42.875 26.21875 \nQ 42.875 35.84375 38.5 40.796875 \nQ 34.125 45.75 27.640625 45.75 \nQ 21.046875 45.75 16.703125 40.8125 \nQ 12.359375 35.890625 12.359375 25.921875 \nz\n\" id=\"ArialMT-111\"/>\n      <path d=\"M 4.5 23 \nL 13.421875 23.78125 \nQ 14.0625 18.40625 16.375 14.96875 \nQ 18.703125 11.53125 23.578125 9.40625 \nQ 28.46875 7.28125 34.578125 7.28125 \nQ 39.984375 7.28125 44.140625 8.890625 \nQ 48.296875 10.5 50.3125 13.296875 \nQ 52.34375 16.109375 52.34375 19.4375 \nQ 52.34375 22.796875 50.390625 25.3125 \nQ 48.4375 27.828125 43.953125 29.546875 \nQ 41.0625 30.671875 31.203125 33.03125 \nQ 21.34375 35.40625 17.390625 37.5 \nQ 12.25 40.1875 9.734375 44.15625 \nQ 7.234375 48.140625 7.234375 53.078125 \nQ 7.234375 58.5 10.296875 63.203125 \nQ 13.375 67.921875 19.28125 70.359375 \nQ 25.203125 72.796875 32.421875 72.796875 \nQ 40.375 72.796875 46.453125 70.234375 \nQ 52.546875 67.671875 55.8125 62.6875 \nQ 59.078125 57.71875 59.328125 51.421875 \nL 50.25 50.734375 \nQ 49.515625 57.515625 45.28125 60.984375 \nQ 41.0625 64.453125 32.8125 64.453125 \nQ 24.21875 64.453125 20.28125 61.296875 \nQ 16.359375 58.15625 16.359375 53.71875 \nQ 16.359375 49.859375 19.140625 47.359375 \nQ 21.875 44.875 33.421875 42.265625 \nQ 44.96875 39.65625 49.265625 37.703125 \nQ 55.515625 34.8125 58.484375 30.390625 \nQ 61.46875 25.984375 61.46875 20.21875 \nQ 61.46875 14.5 58.203125 9.4375 \nQ 54.9375 4.390625 48.796875 1.578125 \nQ 42.671875 -1.21875 35.015625 -1.21875 \nQ 25.296875 -1.21875 18.71875 1.609375 \nQ 12.15625 4.4375 8.421875 10.125 \nQ 4.6875 15.828125 4.5 23 \nz\n\" id=\"ArialMT-83\"/>\n      <path d=\"M 6.203125 -19.96875 \nL 5.21875 -11.71875 \nQ 8.109375 -12.5 10.25 -12.5 \nQ 13.1875 -12.5 14.9375 -11.515625 \nQ 16.703125 -10.546875 17.828125 -8.796875 \nQ 18.65625 -7.46875 20.515625 -2.25 \nQ 20.75 -1.515625 21.296875 -0.09375 \nL 1.609375 51.859375 \nL 11.078125 51.859375 \nL 21.875 21.828125 \nQ 23.96875 16.109375 25.640625 9.8125 \nQ 27.15625 15.875 29.25 21.625 \nL 40.328125 51.859375 \nL 49.125 51.859375 \nL 29.390625 -0.875 \nQ 26.21875 -9.421875 24.46875 -12.640625 \nQ 22.125 -17 19.09375 -19.015625 \nQ 16.0625 -21.046875 11.859375 -21.046875 \nQ 9.328125 -21.046875 6.203125 -19.96875 \nz\n\" id=\"ArialMT-121\"/>\n      <path d=\"M 7.71875 0 \nL 7.71875 71.578125 \nL 34.71875 71.578125 \nQ 41.84375 71.578125 45.609375 70.90625 \nQ 50.875 70.015625 54.4375 67.546875 \nQ 58.015625 65.09375 60.1875 60.640625 \nQ 62.359375 56.203125 62.359375 50.875 \nQ 62.359375 41.75 56.546875 35.421875 \nQ 50.734375 29.109375 35.546875 29.109375 \nL 17.1875 29.109375 \nL 17.1875 0 \nz\nM 17.1875 37.546875 \nL 35.6875 37.546875 \nQ 44.875 37.546875 48.734375 40.96875 \nQ 52.59375 44.390625 52.59375 50.59375 \nQ 52.59375 55.078125 50.3125 58.265625 \nQ 48.046875 61.46875 44.34375 62.5 \nQ 41.9375 63.140625 35.5 63.140625 \nL 17.1875 63.140625 \nz\n\" id=\"ArialMT-80\"/>\n      <path d=\"M 6.5 0 \nL 6.5 51.859375 \nL 14.40625 51.859375 \nL 14.40625 44 \nQ 17.4375 49.515625 20 51.265625 \nQ 22.5625 53.03125 25.640625 53.03125 \nQ 30.078125 53.03125 34.671875 50.203125 \nL 31.640625 42.046875 \nQ 28.421875 43.953125 25.203125 43.953125 \nQ 22.3125 43.953125 20.015625 42.21875 \nQ 17.71875 40.484375 16.75 37.40625 \nQ 15.28125 32.71875 15.28125 27.15625 \nL 15.28125 0 \nz\n\" id=\"ArialMT-114\"/>\n      <path d=\"M 6.640625 61.46875 \nL 6.640625 71.578125 \nL 15.4375 71.578125 \nL 15.4375 61.46875 \nz\nM 6.640625 0 \nL 6.640625 51.859375 \nL 15.4375 51.859375 \nL 15.4375 0 \nz\n\" id=\"ArialMT-105\"/>\n      <path d=\"M 40.4375 19 \nL 49.078125 17.875 \nQ 47.65625 8.9375 41.8125 3.875 \nQ 35.984375 -1.171875 27.484375 -1.171875 \nQ 16.84375 -1.171875 10.375 5.78125 \nQ 3.90625 12.75 3.90625 25.734375 \nQ 3.90625 34.125 6.6875 40.421875 \nQ 9.46875 46.734375 15.15625 49.875 \nQ 20.84375 53.03125 27.546875 53.03125 \nQ 35.984375 53.03125 41.359375 48.75 \nQ 46.734375 44.484375 48.25 36.625 \nL 39.703125 35.296875 \nQ 38.484375 40.53125 35.375 43.15625 \nQ 32.28125 45.796875 27.875 45.796875 \nQ 21.234375 45.796875 17.078125 41.03125 \nQ 12.9375 36.28125 12.9375 25.984375 \nQ 12.9375 15.53125 16.9375 10.796875 \nQ 20.953125 6.0625 27.390625 6.0625 \nQ 32.5625 6.0625 36.03125 9.234375 \nQ 39.5 12.40625 40.4375 19 \nz\n\" id=\"ArialMT-99\"/>\n      <path d=\"M 6.59375 -19.875 \nL 6.59375 51.859375 \nL 14.59375 51.859375 \nL 14.59375 45.125 \nQ 17.4375 49.078125 21 51.046875 \nQ 24.5625 53.03125 29.640625 53.03125 \nQ 36.28125 53.03125 41.359375 49.609375 \nQ 46.4375 46.1875 49.015625 39.953125 \nQ 51.609375 33.734375 51.609375 26.3125 \nQ 51.609375 18.359375 48.75 11.984375 \nQ 45.90625 5.609375 40.453125 2.21875 \nQ 35.015625 -1.171875 29 -1.171875 \nQ 24.609375 -1.171875 21.109375 0.6875 \nQ 17.625 2.546875 15.375 5.375 \nL 15.375 -19.875 \nz\nM 14.546875 25.640625 \nQ 14.546875 15.625 18.59375 10.84375 \nQ 22.65625 6.0625 28.421875 6.0625 \nQ 34.28125 6.0625 38.453125 11.015625 \nQ 42.625 15.96875 42.625 26.375 \nQ 42.625 36.28125 38.546875 41.203125 \nQ 34.46875 46.140625 28.8125 46.140625 \nQ 23.1875 46.140625 18.859375 40.890625 \nQ 14.546875 35.640625 14.546875 25.640625 \nz\n\" id=\"ArialMT-112\"/>\n      <path d=\"M 6.59375 0 \nL 6.59375 51.859375 \nL 14.5 51.859375 \nL 14.5 44.484375 \nQ 20.21875 53.03125 31 53.03125 \nQ 35.6875 53.03125 39.625 51.34375 \nQ 43.5625 49.65625 45.515625 46.921875 \nQ 47.46875 44.1875 48.25 40.4375 \nQ 48.734375 37.984375 48.734375 31.890625 \nL 48.734375 0 \nL 39.9375 0 \nL 39.9375 31.546875 \nQ 39.9375 36.921875 38.90625 39.578125 \nQ 37.890625 42.234375 35.28125 43.8125 \nQ 32.671875 45.40625 29.15625 45.40625 \nQ 23.53125 45.40625 19.453125 41.84375 \nQ 15.375 38.28125 15.375 28.328125 \nL 15.375 0 \nz\n\" id=\"ArialMT-110\"/>\n      <path d=\"M 3.078125 15.484375 \nL 11.765625 16.84375 \nQ 12.5 11.625 15.84375 8.84375 \nQ 19.1875 6.0625 25.203125 6.0625 \nQ 31.25 6.0625 34.171875 8.515625 \nQ 37.109375 10.984375 37.109375 14.3125 \nQ 37.109375 17.28125 34.515625 19 \nQ 32.71875 20.171875 25.53125 21.96875 \nQ 15.875 24.421875 12.140625 26.203125 \nQ 8.40625 27.984375 6.46875 31.125 \nQ 4.546875 34.28125 4.546875 38.09375 \nQ 4.546875 41.546875 6.125 44.5 \nQ 7.71875 47.46875 10.453125 49.421875 \nQ 12.5 50.921875 16.03125 51.96875 \nQ 19.578125 53.03125 23.640625 53.03125 \nQ 29.734375 53.03125 34.34375 51.265625 \nQ 38.96875 49.515625 41.15625 46.5 \nQ 43.359375 43.5 44.1875 38.484375 \nL 35.59375 37.3125 \nQ 35.015625 41.3125 32.203125 43.546875 \nQ 29.390625 45.796875 24.265625 45.796875 \nQ 18.21875 45.796875 15.625 43.796875 \nQ 13.03125 41.796875 13.03125 39.109375 \nQ 13.03125 37.40625 14.109375 36.03125 \nQ 15.1875 34.625 17.484375 33.6875 \nQ 18.796875 33.203125 25.25 31.453125 \nQ 34.578125 28.953125 38.25 27.359375 \nQ 41.9375 25.78125 44.03125 22.75 \nQ 46.140625 19.734375 46.140625 15.234375 \nQ 46.140625 10.84375 43.578125 6.953125 \nQ 41.015625 3.078125 36.171875 0.953125 \nQ 31.34375 -1.171875 25.25 -1.171875 \nQ 15.140625 -1.171875 9.84375 3.03125 \nQ 4.546875 7.234375 3.078125 15.484375 \nz\n\" id=\"ArialMT-115\"/>\n     </defs>\n     <g style=\"fill:#262626;\" transform=\"translate(14.479688 207.713594)rotate(-90)scale(0.1 -0.1)\">\n      <use xlink:href=\"#ArialMT-35\"/>\n      <use x=\"55.615234\" xlink:href=\"#ArialMT-32\"/>\n      <use x=\"83.398438\" xlink:href=\"#ArialMT-111\"/>\n      <use x=\"139.013672\" xlink:href=\"#ArialMT-102\"/>\n      <use x=\"166.796875\" xlink:href=\"#ArialMT-32\"/>\n      <use x=\"194.580078\" xlink:href=\"#ArialMT-83\"/>\n      <use x=\"261.279297\" xlink:href=\"#ArialMT-116\"/>\n      <use x=\"289.0625\" xlink:href=\"#ArialMT-117\"/>\n      <use x=\"344.677734\" xlink:href=\"#ArialMT-100\"/>\n      <use x=\"400.292969\" xlink:href=\"#ArialMT-121\"/>\n      <use x=\"450.292969\" xlink:href=\"#ArialMT-32\"/>\n      <use x=\"478.076172\" xlink:href=\"#ArialMT-80\"/>\n      <use x=\"544.775391\" xlink:href=\"#ArialMT-97\"/>\n      <use x=\"600.390625\" xlink:href=\"#ArialMT-114\"/>\n      <use x=\"633.691406\" xlink:href=\"#ArialMT-116\"/>\n      <use x=\"661.474609\" xlink:href=\"#ArialMT-105\"/>\n      <use x=\"683.691406\" xlink:href=\"#ArialMT-99\"/>\n      <use x=\"733.691406\" xlink:href=\"#ArialMT-105\"/>\n      <use x=\"755.908203\" xlink:href=\"#ArialMT-112\"/>\n      <use x=\"811.523438\" xlink:href=\"#ArialMT-97\"/>\n      <use x=\"867.138672\" xlink:href=\"#ArialMT-110\"/>\n      <use x=\"922.753906\" xlink:href=\"#ArialMT-116\"/>\n      <use x=\"950.537109\" xlink:href=\"#ArialMT-115\"/>\n     </g>\n    </g>\n   </g>\n   <g id=\"patch_3\">\n    <path clip-path=\"url(#pe22721c4fb)\" d=\"M 83.289063 293.589375 \nL 306.489063 293.589375 \nL 306.489063 34.732232 \nL 83.289063 34.732232 \nz\n\" style=\"fill:#9ce29c;opacity:0.8;stroke:#ffffff;stroke-linejoin:miter;\"/>\n   </g>\n   <g id=\"patch_4\">\n    <path clip-path=\"url(#pe22721c4fb)\" d=\"M 362.289062 293.589375 \nL 585.489063 293.589375 \nL 585.489063 219.092568 \nL 362.289062 219.092568 \nz\n\" style=\"fill:#808080;opacity:0.8;stroke:#ffffff;stroke-linejoin:miter;\"/>\n   </g>\n   <g id=\"patch_5\">\n    <path d=\"M 55.389063 293.589375 \nL 55.389063 21.789375 \n\" style=\"fill:none;stroke:#ffffff;stroke-linecap:square;stroke-linejoin:miter;stroke-width:0.8;\"/>\n   </g>\n   <g id=\"patch_6\">\n    <path d=\"M 613.389063 293.589375 \nL 613.389063 21.789375 \n\" style=\"fill:none;stroke:#ffffff;stroke-linecap:square;stroke-linejoin:miter;stroke-width:0.8;\"/>\n   </g>\n   <g id=\"patch_7\">\n    <path d=\"M 55.389063 293.589375 \nL 613.389063 293.589375 \n\" style=\"fill:none;stroke:#ffffff;stroke-linecap:square;stroke-linejoin:miter;stroke-width:0.8;\"/>\n   </g>\n   <g id=\"patch_8\">\n    <path d=\"M 55.389063 21.789375 \nL 613.389063 21.789375 \n\" style=\"fill:none;stroke:#ffffff;stroke-linecap:square;stroke-linejoin:miter;stroke-width:0.8;\"/>\n   </g>\n   <g id=\"text_13\">\n    <!-- Default vs Non-Default -->\n    <defs>\n     <path d=\"M 7.71875 0 \nL 7.71875 71.578125 \nL 32.375 71.578125 \nQ 40.71875 71.578125 45.125 70.5625 \nQ 51.265625 69.140625 55.609375 65.4375 \nQ 61.28125 60.640625 64.078125 53.1875 \nQ 66.890625 45.75 66.890625 36.1875 \nQ 66.890625 28.03125 64.984375 21.734375 \nQ 63.09375 15.4375 60.109375 11.296875 \nQ 57.125 7.171875 53.578125 4.796875 \nQ 50.046875 2.4375 45.046875 1.21875 \nQ 40.046875 0 33.546875 0 \nz\nM 17.1875 8.453125 \nL 32.46875 8.453125 \nQ 39.546875 8.453125 43.578125 9.765625 \nQ 47.609375 11.078125 50 13.484375 \nQ 53.375 16.84375 55.25 22.53125 \nQ 57.125 28.21875 57.125 36.328125 \nQ 57.125 47.5625 53.4375 53.59375 \nQ 49.75 59.625 44.484375 61.671875 \nQ 40.671875 63.140625 32.234375 63.140625 \nL 17.1875 63.140625 \nz\n\" id=\"ArialMT-68\"/>\n     <path d=\"M 21 0 \nL 1.265625 51.859375 \nL 10.546875 51.859375 \nL 21.6875 20.796875 \nQ 23.484375 15.765625 25 10.359375 \nQ 26.171875 14.453125 28.265625 20.21875 \nL 39.796875 51.859375 \nL 48.828125 51.859375 \nL 29.203125 0 \nz\n\" id=\"ArialMT-118\"/>\n     <path d=\"M 7.625 0 \nL 7.625 71.578125 \nL 17.328125 71.578125 \nL 54.9375 15.375 \nL 54.9375 71.578125 \nL 64.015625 71.578125 \nL 64.015625 0 \nL 54.296875 0 \nL 16.703125 56.25 \nL 16.703125 0 \nz\n\" id=\"ArialMT-78\"/>\n     <path d=\"M 3.171875 21.484375 \nL 3.171875 30.328125 \nL 30.171875 30.328125 \nL 30.171875 21.484375 \nz\n\" id=\"ArialMT-45\"/>\n    </defs>\n    <g style=\"fill:#262626;\" transform=\"translate(274.031875 15.789375)scale(0.12 -0.12)\">\n     <use xlink:href=\"#ArialMT-68\"/>\n     <use x=\"72.216797\" xlink:href=\"#ArialMT-101\"/>\n     <use x=\"127.832031\" xlink:href=\"#ArialMT-102\"/>\n     <use x=\"155.615234\" xlink:href=\"#ArialMT-97\"/>\n     <use x=\"211.230469\" xlink:href=\"#ArialMT-117\"/>\n     <use x=\"266.845703\" xlink:href=\"#ArialMT-108\"/>\n     <use x=\"289.0625\" xlink:href=\"#ArialMT-116\"/>\n     <use x=\"316.845703\" xlink:href=\"#ArialMT-32\"/>\n     <use x=\"344.628906\" xlink:href=\"#ArialMT-118\"/>\n     <use x=\"394.628906\" xlink:href=\"#ArialMT-115\"/>\n     <use x=\"444.628906\" xlink:href=\"#ArialMT-32\"/>\n     <use x=\"472.412109\" xlink:href=\"#ArialMT-78\"/>\n     <use x=\"544.628906\" xlink:href=\"#ArialMT-111\"/>\n     <use x=\"600.244141\" xlink:href=\"#ArialMT-110\"/>\n     <use x=\"655.859375\" xlink:href=\"#ArialMT-45\"/>\n     <use x=\"689.160156\" xlink:href=\"#ArialMT-68\"/>\n     <use x=\"761.376953\" xlink:href=\"#ArialMT-101\"/>\n     <use x=\"816.992188\" xlink:href=\"#ArialMT-102\"/>\n     <use x=\"844.775391\" xlink:href=\"#ArialMT-97\"/>\n     <use x=\"900.390625\" xlink:href=\"#ArialMT-117\"/>\n     <use x=\"956.005859\" xlink:href=\"#ArialMT-108\"/>\n     <use x=\"978.222656\" xlink:href=\"#ArialMT-116\"/>\n    </g>\n   </g>\n  </g>\n </g>\n <defs>\n  <clipPath id=\"pe22721c4fb\">\n   <rect height=\"271.8\" width=\"558\" x=\"55.389063\" y=\"21.789375\"/>\n  </clipPath>\n </defs>\n</svg>\n",
      "image/png": "[encoded data removed]"
     },
     "metadata": {}
    }
   ],
   "source": [
    "sns.set_style('darkgrid')\n",
    "plt.figure(figsize = (10,5))\n",
    "sns.countplot(y, alpha =.80, palette= ['lightgreen','grey'])\n",
    "plt.title('Default vs Non-Default')\n",
    "plt.ylabel('# of Study Participants')\n",
    "plt.show()"
   ]
  },
  {
   "source": [
    "### ^need to deal with this class imbalance first\n",
    "idk if this applies here, but just know that scaling happens after TTS!"
   ],
   "cell_type": "markdown",
   "metadata": {}
  },
  {
   "cell_type": "code",
   "execution_count": null,
   "metadata": {},
   "outputs": [],
   "source": []
  },
  {
   "cell_type": "code",
   "execution_count": null,
   "metadata": {},
   "outputs": [],
   "source": []
  },
  {
   "cell_type": "code",
   "execution_count": 127,
   "metadata": {},
   "outputs": [],
   "source": [
    "# performing the TTS\n",
    "# X_train, X_test, y_train, y_test = train_test_split(X, y, test_size=0.25, random_state=45)\n",
    "\n",
    "# need to check how the rest of this code is ??\n",
    "# look back at lecture examples!"
   ]
  },
  {
   "cell_type": "markdown",
   "metadata": {},
   "source": [
    "## 5. Model Fitting and Hyperparameter Tuning\n",
    "KNN, Logistic Regression, Decision Tree"
   ]
  },
  {
   "cell_type": "code",
   "execution_count": null,
   "metadata": {},
   "outputs": [],
   "source": [
    "# Model 1: KNN"
   ]
  },
  {
   "cell_type": "code",
   "execution_count": null,
   "metadata": {},
   "outputs": [],
   "source": [
    "# Model 2: Logisitic Regression"
   ]
  },
  {
   "cell_type": "code",
   "execution_count": null,
   "metadata": {},
   "outputs": [],
   "source": [
    "# Model 3: Decision Tree"
   ]
  },
  {
   "source": [
    "### Feature Selection\n",
    "Does this step actually go here? check other people's notebooks"
   ],
   "cell_type": "markdown",
   "metadata": {}
  },
  {
   "cell_type": "code",
   "execution_count": null,
   "metadata": {},
   "outputs": [],
   "source": []
  },
  {
   "cell_type": "code",
   "execution_count": null,
   "metadata": {},
   "outputs": [],
   "source": []
  },
  {
   "cell_type": "markdown",
   "metadata": {},
   "source": [
    "## 6. Model Evaluation"
   ]
  },
  {
   "cell_type": "code",
   "execution_count": null,
   "metadata": {},
   "outputs": [],
   "source": []
  },
  {
   "cell_type": "code",
   "execution_count": null,
   "metadata": {},
   "outputs": [],
   "source": []
  },
  {
   "cell_type": "code",
   "execution_count": null,
   "metadata": {},
   "outputs": [],
   "source": []
  },
  {
   "cell_type": "code",
   "execution_count": null,
   "metadata": {},
   "outputs": [],
   "source": []
  },
  {
   "cell_type": "code",
   "execution_count": null,
   "metadata": {},
   "outputs": [],
   "source": []
  },
  {
   "cell_type": "markdown",
   "metadata": {},
   "source": [
    "## 7. Final Model"
   ]
  },
  {
   "cell_type": "code",
   "execution_count": null,
   "metadata": {},
   "outputs": [],
   "source": []
  },
  {
   "cell_type": "code",
   "execution_count": null,
   "metadata": {},
   "outputs": [],
   "source": []
  }
 ],
 "metadata": {
  "kernelspec": {
   "display_name": "Python 3",
   "language": "python",
   "name": "python3"
  },
  "language_info": {
   "codemirror_mode": {
    "name": "ipython",
    "version": 3
   },
   "file_extension": ".py",
   "mimetype": "text/x-python",
   "name": "python",
   "nbconvert_exporter": "python",
   "pygments_lexer": "ipython3",
   "version": "3.6.9-final"
  },
  "toc": {
   "base_numbering": 1,
   "nav_menu": {},
   "number_sections": true,
   "sideBar": true,
   "skip_h1_title": false,
   "title_cell": "Table of Contents",
   "title_sidebar": "Contents",
   "toc_cell": false,
   "toc_position": {},
   "toc_section_display": true,
   "toc_window_display": false
  }
 },
 "nbformat": 4,
 "nbformat_minor": 2
}